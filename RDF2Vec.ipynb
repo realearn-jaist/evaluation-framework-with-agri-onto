{
  "nbformat": 4,
  "nbformat_minor": 0,
  "metadata": {
    "colab": {
      "provenance": []
    },
    "kernelspec": {
      "name": "python3",
      "display_name": "Python 3"
    },
    "language_info": {
      "name": "python"
    }
  },
  "cells": [
    {
      "cell_type": "code",
      "execution_count": null,
      "metadata": {
        "colab": {
          "base_uri": "https://localhost:8080/"
        },
        "id": "OW_QMgh_eelh",
        "outputId": "89e44f34-b358-4c83-842f-a2cce4a0e4ce"
      },
      "outputs": [
        {
          "output_type": "stream",
          "name": "stdout",
          "text": [
            "Collecting rdflib\n",
            "  Downloading rdflib-6.3.2-py3-none-any.whl (528 kB)\n",
            "\u001b[2K     \u001b[90m━━━━━━━━━━━━━━━━━━━━━━━━━━━━━━━━━━━━━━━\u001b[0m \u001b[32m528.1/528.1 kB\u001b[0m \u001b[31m7.0 MB/s\u001b[0m eta \u001b[36m0:00:00\u001b[0m\n",
            "\u001b[?25hCollecting isodate<0.7.0,>=0.6.0 (from rdflib)\n",
            "  Downloading isodate-0.6.1-py2.py3-none-any.whl (41 kB)\n",
            "\u001b[2K     \u001b[90m━━━━━━━━━━━━━━━━━━━━━━━━━━━━━━━━━━━━━━━━\u001b[0m \u001b[32m41.7/41.7 kB\u001b[0m \u001b[31m3.9 MB/s\u001b[0m eta \u001b[36m0:00:00\u001b[0m\n",
            "\u001b[?25hRequirement already satisfied: pyparsing<4,>=2.1.0 in /usr/local/lib/python3.10/dist-packages (from rdflib) (3.1.0)\n",
            "Requirement already satisfied: six in /usr/local/lib/python3.10/dist-packages (from isodate<0.7.0,>=0.6.0->rdflib) (1.16.0)\n",
            "Installing collected packages: isodate, rdflib\n",
            "Successfully installed isodate-0.6.1 rdflib-6.3.2\n"
          ]
        }
      ],
      "source": [
        "pip install rdflib"
      ]
    },
    {
      "cell_type": "code",
      "source": [
        "import gensim"
      ],
      "metadata": {
        "id": "zQTTPtOefF1p"
      },
      "execution_count": null,
      "outputs": []
    },
    {
      "cell_type": "code",
      "source": [
        "from gensim.models import Word2Vec\n",
        "from rdflib import Graph"
      ],
      "metadata": {
        "id": "qBVt-E0oettu"
      },
      "execution_count": null,
      "outputs": []
    },
    {
      "cell_type": "code",
      "source": [
        "def read_rdf_graph(filename, format=\"ttl\"):\n",
        "    graph = Graph()\n",
        "    graph.parse(filename, format=format)\n",
        "    return graph\n",
        "\n",
        "def extract_sentences(graph):\n",
        "    sentences = []\n",
        "    for subj, pred, obj in graph:\n",
        "        sentences.append([str(subj), str(pred), str(obj)])\n",
        "    return sentences\n",
        "\n",
        "if __name__ == \"__main__\":\n",
        "    # Input RDF ontology in Turtle format\n",
        "    rdf_file = \"/content/fich.ttl\"\n",
        "\n",
        "    # Read RDF graph and extract sentences (triples)\n",
        "    rdf_graph = read_rdf_graph(rdf_file, format=\"ttl\")\n",
        "    sentences = extract_sentences(rdf_graph)\n",
        "\n",
        "    # Train the Word2Vec model with the extracted sentences\n",
        "    model = Word2Vec(sentences, vector_size=100, window=5, sg=1, min_count=1, workers=4)\n",
        "\n",
        "    # Create a DataFrame to store the embeddings\n",
        "    embeddings_df = pd.DataFrame(columns=[\"URI\", \"Embedding\"])\n",
        "    for uri in model.wv.index_to_key:\n",
        "        embedding = model.wv[uri].tolist()\n",
        "        embeddings_df.loc[len(embeddings_df)] = [uri, embedding]\n",
        "\n",
        "    # Save the DataFrame to a CSV file\n",
        "    embeddings_df.to_csv(\"rdf2vec_embeddings_version5.csv\", index=False)\n",
        "\n",
        "\n",
        "\n",
        "\n"
      ],
      "metadata": {
        "id": "RL2FH-v7ezgD"
      },
      "execution_count": null,
      "outputs": []
    },
    {
      "cell_type": "code",
      "source": [
        "import pandas as pd"
      ],
      "metadata": {
        "id": "jl7TWdvgkDik"
      },
      "execution_count": null,
      "outputs": []
    },
    {
      "cell_type": "code",
      "source": [
        "# Read the CSV file\n",
        "csv_file = \"rdf2vec_embeddings_version5.csv\"\n",
        "df = pd.read_csv(csv_file)\n",
        "\n",
        "# Specify the Excel file name\n",
        "xlsx_file = \"rdf2vec_embeddings_version5.xlsx\"\n",
        "\n",
        "# Save the DataFrame to Excel\n",
        "df.to_excel(xlsx_file, index=False)"
      ],
      "metadata": {
        "id": "sfvF4-Aij65u"
      },
      "execution_count": null,
      "outputs": []
    }
  ]
}