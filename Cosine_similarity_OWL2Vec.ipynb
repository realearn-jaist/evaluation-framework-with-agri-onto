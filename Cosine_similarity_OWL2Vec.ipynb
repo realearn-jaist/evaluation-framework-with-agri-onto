{
  "nbformat": 4,
  "nbformat_minor": 0,
  "metadata": {
    "colab": {
      "provenance": []
    },
    "kernelspec": {
      "name": "python3",
      "display_name": "Python 3"
    },
    "language_info": {
      "name": "python"
    }
  },
  "cells": [
    {
      "cell_type": "code",
      "execution_count": null,
      "metadata": {
        "id": "4EsTTiUHUVJg"
      },
      "outputs": [],
      "source": [
        "import numpy as np\n",
        "\n",
        "def cosine_similarity(vector_a, vector_b):\n",
        "    dot_product = np.dot(vector_a, vector_b)\n",
        "    magnitude_a = np.linalg.norm(vector_a)\n",
        "    magnitude_b = np.linalg.norm(vector_b)\n",
        "    similarity = dot_product / (magnitude_a * magnitude_b)\n",
        "    return similarity"
      ]
    },
    {
      "cell_type": "code",
      "source": [
        "import pandas as pd"
      ],
      "metadata": {
        "id": "3w5fzV4iYd31"
      },
      "execution_count": null,
      "outputs": []
    },
    {
      "cell_type": "code",
      "source": [
        "file_path = '/content/Field ID.xlsx'"
      ],
      "metadata": {
        "id": "Lik5FJztYfnX"
      },
      "execution_count": null,
      "outputs": []
    },
    {
      "cell_type": "code",
      "source": [
        "data = pd.read_excel(file_path)"
      ],
      "metadata": {
        "id": "xbR0tePsYq02"
      },
      "execution_count": null,
      "outputs": []
    },
    {
      "cell_type": "code",
      "source": [
        "data.head()"
      ],
      "metadata": {
        "colab": {
          "base_uri": "https://localhost:8080/",
          "height": 317
        },
        "id": "BKr8TL1MYrRK",
        "outputId": "dd19eba6-1fc9-4a06-e300-2b45a277196d"
      },
      "execution_count": null,
      "outputs": [
        {
          "output_type": "execute_result",
          "data": {
            "text/plain": [
              "   Unnamed: 0  Unnamed: 1  Unnamed: 2  Unnamed: 3  Unnamed: 4  Unnamed: 5  \\\n",
              "0    0.406705    0.107681   -0.199808    0.111231   -0.412789   -0.095007   \n",
              "1    0.493048    0.004812   -0.001572    0.004328   -0.056118   -0.039861   \n",
              "2    0.547617    0.200133   -0.125954   -0.085941   -0.235115    0.093575   \n",
              "3    0.660113   -0.122120   -0.298694    0.012367   -0.310803    0.165018   \n",
              "4    0.485322   -0.051595   -0.061446   -0.141174   -0.049554    0.289322   \n",
              "\n",
              "   Unnamed: 6  Unnamed: 7  Unnamed: 8  Unnamed: 9  ...  Unnamed: 90  \\\n",
              "0    0.009742    0.138084   -0.144066    0.145747  ...    -0.300810   \n",
              "1   -0.085527    0.222545    0.077196    0.282071  ...    -0.088948   \n",
              "2   -0.066685    0.221855   -0.229188    0.242900  ...    -0.264599   \n",
              "3   -0.133768    0.223952    0.139120    0.393770  ...    -0.287328   \n",
              "4   -0.242144    0.183669   -0.215642    0.282925  ...    -0.241367   \n",
              "\n",
              "   Unnamed: 91  Unnamed: 92  Unnamed: 93  Unnamed: 94  Unnamed: 95  \\\n",
              "0     0.449507     0.427009     0.050306     0.322874    -0.119453   \n",
              "1     0.338496     0.451208    -0.027589     0.270687     0.140077   \n",
              "2     0.300735     0.480719    -0.015356     0.326406     0.151750   \n",
              "3     0.584281     0.439780     0.160930     0.329822    -0.003288   \n",
              "4     0.454198     0.391561     0.303839     0.202199    -0.148704   \n",
              "\n",
              "   Unnamed: 96  Unnamed: 97  Unnamed: 98  Unnamed: 99  \n",
              "0     0.045736     0.089027    -0.259998    -0.770183  \n",
              "1     0.114099     0.116050    -0.591846    -0.504447  \n",
              "2     0.041087     0.110020    -0.516486    -0.317261  \n",
              "3    -0.128116     0.663533    -0.406867    -0.489845  \n",
              "4    -0.054987     0.236091    -0.564661    -0.583329  \n",
              "\n",
              "[5 rows x 100 columns]"
            ],
            "text/html": [
              "\n",
              "\n",
              "  <div id=\"df-f6a1811a-a446-4430-8256-e7d6acbd48e8\">\n",
              "    <div class=\"colab-df-container\">\n",
              "      <div>\n",
              "<style scoped>\n",
              "    .dataframe tbody tr th:only-of-type {\n",
              "        vertical-align: middle;\n",
              "    }\n",
              "\n",
              "    .dataframe tbody tr th {\n",
              "        vertical-align: top;\n",
              "    }\n",
              "\n",
              "    .dataframe thead th {\n",
              "        text-align: right;\n",
              "    }\n",
              "</style>\n",
              "<table border=\"1\" class=\"dataframe\">\n",
              "  <thead>\n",
              "    <tr style=\"text-align: right;\">\n",
              "      <th></th>\n",
              "      <th>Unnamed: 0</th>\n",
              "      <th>Unnamed: 1</th>\n",
              "      <th>Unnamed: 2</th>\n",
              "      <th>Unnamed: 3</th>\n",
              "      <th>Unnamed: 4</th>\n",
              "      <th>Unnamed: 5</th>\n",
              "      <th>Unnamed: 6</th>\n",
              "      <th>Unnamed: 7</th>\n",
              "      <th>Unnamed: 8</th>\n",
              "      <th>Unnamed: 9</th>\n",
              "      <th>...</th>\n",
              "      <th>Unnamed: 90</th>\n",
              "      <th>Unnamed: 91</th>\n",
              "      <th>Unnamed: 92</th>\n",
              "      <th>Unnamed: 93</th>\n",
              "      <th>Unnamed: 94</th>\n",
              "      <th>Unnamed: 95</th>\n",
              "      <th>Unnamed: 96</th>\n",
              "      <th>Unnamed: 97</th>\n",
              "      <th>Unnamed: 98</th>\n",
              "      <th>Unnamed: 99</th>\n",
              "    </tr>\n",
              "  </thead>\n",
              "  <tbody>\n",
              "    <tr>\n",
              "      <th>0</th>\n",
              "      <td>0.406705</td>\n",
              "      <td>0.107681</td>\n",
              "      <td>-0.199808</td>\n",
              "      <td>0.111231</td>\n",
              "      <td>-0.412789</td>\n",
              "      <td>-0.095007</td>\n",
              "      <td>0.009742</td>\n",
              "      <td>0.138084</td>\n",
              "      <td>-0.144066</td>\n",
              "      <td>0.145747</td>\n",
              "      <td>...</td>\n",
              "      <td>-0.300810</td>\n",
              "      <td>0.449507</td>\n",
              "      <td>0.427009</td>\n",
              "      <td>0.050306</td>\n",
              "      <td>0.322874</td>\n",
              "      <td>-0.119453</td>\n",
              "      <td>0.045736</td>\n",
              "      <td>0.089027</td>\n",
              "      <td>-0.259998</td>\n",
              "      <td>-0.770183</td>\n",
              "    </tr>\n",
              "    <tr>\n",
              "      <th>1</th>\n",
              "      <td>0.493048</td>\n",
              "      <td>0.004812</td>\n",
              "      <td>-0.001572</td>\n",
              "      <td>0.004328</td>\n",
              "      <td>-0.056118</td>\n",
              "      <td>-0.039861</td>\n",
              "      <td>-0.085527</td>\n",
              "      <td>0.222545</td>\n",
              "      <td>0.077196</td>\n",
              "      <td>0.282071</td>\n",
              "      <td>...</td>\n",
              "      <td>-0.088948</td>\n",
              "      <td>0.338496</td>\n",
              "      <td>0.451208</td>\n",
              "      <td>-0.027589</td>\n",
              "      <td>0.270687</td>\n",
              "      <td>0.140077</td>\n",
              "      <td>0.114099</td>\n",
              "      <td>0.116050</td>\n",
              "      <td>-0.591846</td>\n",
              "      <td>-0.504447</td>\n",
              "    </tr>\n",
              "    <tr>\n",
              "      <th>2</th>\n",
              "      <td>0.547617</td>\n",
              "      <td>0.200133</td>\n",
              "      <td>-0.125954</td>\n",
              "      <td>-0.085941</td>\n",
              "      <td>-0.235115</td>\n",
              "      <td>0.093575</td>\n",
              "      <td>-0.066685</td>\n",
              "      <td>0.221855</td>\n",
              "      <td>-0.229188</td>\n",
              "      <td>0.242900</td>\n",
              "      <td>...</td>\n",
              "      <td>-0.264599</td>\n",
              "      <td>0.300735</td>\n",
              "      <td>0.480719</td>\n",
              "      <td>-0.015356</td>\n",
              "      <td>0.326406</td>\n",
              "      <td>0.151750</td>\n",
              "      <td>0.041087</td>\n",
              "      <td>0.110020</td>\n",
              "      <td>-0.516486</td>\n",
              "      <td>-0.317261</td>\n",
              "    </tr>\n",
              "    <tr>\n",
              "      <th>3</th>\n",
              "      <td>0.660113</td>\n",
              "      <td>-0.122120</td>\n",
              "      <td>-0.298694</td>\n",
              "      <td>0.012367</td>\n",
              "      <td>-0.310803</td>\n",
              "      <td>0.165018</td>\n",
              "      <td>-0.133768</td>\n",
              "      <td>0.223952</td>\n",
              "      <td>0.139120</td>\n",
              "      <td>0.393770</td>\n",
              "      <td>...</td>\n",
              "      <td>-0.287328</td>\n",
              "      <td>0.584281</td>\n",
              "      <td>0.439780</td>\n",
              "      <td>0.160930</td>\n",
              "      <td>0.329822</td>\n",
              "      <td>-0.003288</td>\n",
              "      <td>-0.128116</td>\n",
              "      <td>0.663533</td>\n",
              "      <td>-0.406867</td>\n",
              "      <td>-0.489845</td>\n",
              "    </tr>\n",
              "    <tr>\n",
              "      <th>4</th>\n",
              "      <td>0.485322</td>\n",
              "      <td>-0.051595</td>\n",
              "      <td>-0.061446</td>\n",
              "      <td>-0.141174</td>\n",
              "      <td>-0.049554</td>\n",
              "      <td>0.289322</td>\n",
              "      <td>-0.242144</td>\n",
              "      <td>0.183669</td>\n",
              "      <td>-0.215642</td>\n",
              "      <td>0.282925</td>\n",
              "      <td>...</td>\n",
              "      <td>-0.241367</td>\n",
              "      <td>0.454198</td>\n",
              "      <td>0.391561</td>\n",
              "      <td>0.303839</td>\n",
              "      <td>0.202199</td>\n",
              "      <td>-0.148704</td>\n",
              "      <td>-0.054987</td>\n",
              "      <td>0.236091</td>\n",
              "      <td>-0.564661</td>\n",
              "      <td>-0.583329</td>\n",
              "    </tr>\n",
              "  </tbody>\n",
              "</table>\n",
              "<p>5 rows × 100 columns</p>\n",
              "</div>\n",
              "      <button class=\"colab-df-convert\" onclick=\"convertToInteractive('df-f6a1811a-a446-4430-8256-e7d6acbd48e8')\"\n",
              "              title=\"Convert this dataframe to an interactive table.\"\n",
              "              style=\"display:none;\">\n",
              "\n",
              "  <svg xmlns=\"http://www.w3.org/2000/svg\" height=\"24px\"viewBox=\"0 0 24 24\"\n",
              "       width=\"24px\">\n",
              "    <path d=\"M0 0h24v24H0V0z\" fill=\"none\"/>\n",
              "    <path d=\"M18.56 5.44l.94 2.06.94-2.06 2.06-.94-2.06-.94-.94-2.06-.94 2.06-2.06.94zm-11 1L8.5 8.5l.94-2.06 2.06-.94-2.06-.94L8.5 2.5l-.94 2.06-2.06.94zm10 10l.94 2.06.94-2.06 2.06-.94-2.06-.94-.94-2.06-.94 2.06-2.06.94z\"/><path d=\"M17.41 7.96l-1.37-1.37c-.4-.4-.92-.59-1.43-.59-.52 0-1.04.2-1.43.59L10.3 9.45l-7.72 7.72c-.78.78-.78 2.05 0 2.83L4 21.41c.39.39.9.59 1.41.59.51 0 1.02-.2 1.41-.59l7.78-7.78 2.81-2.81c.8-.78.8-2.07 0-2.86zM5.41 20L4 18.59l7.72-7.72 1.47 1.35L5.41 20z\"/>\n",
              "  </svg>\n",
              "      </button>\n",
              "\n",
              "\n",
              "\n",
              "    <div id=\"df-fd80f683-8cce-41b9-bc74-de85b7fceb7d\">\n",
              "      <button class=\"colab-df-quickchart\" onclick=\"quickchart('df-fd80f683-8cce-41b9-bc74-de85b7fceb7d')\"\n",
              "              title=\"Suggest charts.\"\n",
              "              style=\"display:none;\">\n",
              "\n",
              "<svg xmlns=\"http://www.w3.org/2000/svg\" height=\"24px\"viewBox=\"0 0 24 24\"\n",
              "     width=\"24px\">\n",
              "    <g>\n",
              "        <path d=\"M19 3H5c-1.1 0-2 .9-2 2v14c0 1.1.9 2 2 2h14c1.1 0 2-.9 2-2V5c0-1.1-.9-2-2-2zM9 17H7v-7h2v7zm4 0h-2V7h2v10zm4 0h-2v-4h2v4z\"/>\n",
              "    </g>\n",
              "</svg>\n",
              "      </button>\n",
              "    </div>\n",
              "\n",
              "<style>\n",
              "  .colab-df-quickchart {\n",
              "    background-color: #E8F0FE;\n",
              "    border: none;\n",
              "    border-radius: 50%;\n",
              "    cursor: pointer;\n",
              "    display: none;\n",
              "    fill: #1967D2;\n",
              "    height: 32px;\n",
              "    padding: 0 0 0 0;\n",
              "    width: 32px;\n",
              "  }\n",
              "\n",
              "  .colab-df-quickchart:hover {\n",
              "    background-color: #E2EBFA;\n",
              "    box-shadow: 0px 1px 2px rgba(60, 64, 67, 0.3), 0px 1px 3px 1px rgba(60, 64, 67, 0.15);\n",
              "    fill: #174EA6;\n",
              "  }\n",
              "\n",
              "  [theme=dark] .colab-df-quickchart {\n",
              "    background-color: #3B4455;\n",
              "    fill: #D2E3FC;\n",
              "  }\n",
              "\n",
              "  [theme=dark] .colab-df-quickchart:hover {\n",
              "    background-color: #434B5C;\n",
              "    box-shadow: 0px 1px 3px 1px rgba(0, 0, 0, 0.15);\n",
              "    filter: drop-shadow(0px 1px 2px rgba(0, 0, 0, 0.3));\n",
              "    fill: #FFFFFF;\n",
              "  }\n",
              "</style>\n",
              "\n",
              "    <script>\n",
              "      async function quickchart(key) {\n",
              "        const containerElement = document.querySelector('#' + key);\n",
              "        const charts = await google.colab.kernel.invokeFunction(\n",
              "            'suggestCharts', [key], {});\n",
              "      }\n",
              "    </script>\n",
              "\n",
              "      <script>\n",
              "\n",
              "function displayQuickchartButton(domScope) {\n",
              "  let quickchartButtonEl =\n",
              "    domScope.querySelector('#df-fd80f683-8cce-41b9-bc74-de85b7fceb7d button.colab-df-quickchart');\n",
              "  quickchartButtonEl.style.display =\n",
              "    google.colab.kernel.accessAllowed ? 'block' : 'none';\n",
              "}\n",
              "\n",
              "        displayQuickchartButton(document);\n",
              "      </script>\n",
              "      <style>\n",
              "    .colab-df-container {\n",
              "      display:flex;\n",
              "      flex-wrap:wrap;\n",
              "      gap: 12px;\n",
              "    }\n",
              "\n",
              "    .colab-df-convert {\n",
              "      background-color: #E8F0FE;\n",
              "      border: none;\n",
              "      border-radius: 50%;\n",
              "      cursor: pointer;\n",
              "      display: none;\n",
              "      fill: #1967D2;\n",
              "      height: 32px;\n",
              "      padding: 0 0 0 0;\n",
              "      width: 32px;\n",
              "    }\n",
              "\n",
              "    .colab-df-convert:hover {\n",
              "      background-color: #E2EBFA;\n",
              "      box-shadow: 0px 1px 2px rgba(60, 64, 67, 0.3), 0px 1px 3px 1px rgba(60, 64, 67, 0.15);\n",
              "      fill: #174EA6;\n",
              "    }\n",
              "\n",
              "    [theme=dark] .colab-df-convert {\n",
              "      background-color: #3B4455;\n",
              "      fill: #D2E3FC;\n",
              "    }\n",
              "\n",
              "    [theme=dark] .colab-df-convert:hover {\n",
              "      background-color: #434B5C;\n",
              "      box-shadow: 0px 1px 3px 1px rgba(0, 0, 0, 0.15);\n",
              "      filter: drop-shadow(0px 1px 2px rgba(0, 0, 0, 0.3));\n",
              "      fill: #FFFFFF;\n",
              "    }\n",
              "  </style>\n",
              "\n",
              "      <script>\n",
              "        const buttonEl =\n",
              "          document.querySelector('#df-f6a1811a-a446-4430-8256-e7d6acbd48e8 button.colab-df-convert');\n",
              "        buttonEl.style.display =\n",
              "          google.colab.kernel.accessAllowed ? 'block' : 'none';\n",
              "\n",
              "        async function convertToInteractive(key) {\n",
              "          const element = document.querySelector('#df-f6a1811a-a446-4430-8256-e7d6acbd48e8');\n",
              "          const dataTable =\n",
              "            await google.colab.kernel.invokeFunction('convertToInteractive',\n",
              "                                                     [key], {});\n",
              "          if (!dataTable) return;\n",
              "\n",
              "          const docLinkHtml = 'Like what you see? Visit the ' +\n",
              "            '<a target=\"_blank\" href=https://colab.research.google.com/notebooks/data_table.ipynb>data table notebook</a>'\n",
              "            + ' to learn more about interactive tables.';\n",
              "          element.innerHTML = '';\n",
              "          dataTable['output_type'] = 'display_data';\n",
              "          await google.colab.output.renderOutput(dataTable, element);\n",
              "          const docLink = document.createElement('div');\n",
              "          docLink.innerHTML = docLinkHtml;\n",
              "          element.appendChild(docLink);\n",
              "        }\n",
              "      </script>\n",
              "    </div>\n",
              "  </div>\n"
            ]
          },
          "metadata": {},
          "execution_count": 5
        }
      ]
    },
    {
      "cell_type": "code",
      "source": [
        "vector1=data.iloc[0]"
      ],
      "metadata": {
        "id": "rRFuQfEsYtKE"
      },
      "execution_count": null,
      "outputs": []
    },
    {
      "cell_type": "code",
      "source": [
        "vector2=data.iloc[1]"
      ],
      "metadata": {
        "id": "7SW5fO5vYxHV"
      },
      "execution_count": null,
      "outputs": []
    },
    {
      "cell_type": "code",
      "source": [
        "vector3=data.iloc[2]"
      ],
      "metadata": {
        "id": "FhnN_FAkZRu2"
      },
      "execution_count": null,
      "outputs": []
    },
    {
      "cell_type": "code",
      "source": [
        "vector4=data.iloc[3]"
      ],
      "metadata": {
        "id": "8tqsWnIyZJj4"
      },
      "execution_count": null,
      "outputs": []
    },
    {
      "cell_type": "code",
      "source": [
        "vector5=data.iloc[4]"
      ],
      "metadata": {
        "id": "DfL-bhchZWty"
      },
      "execution_count": null,
      "outputs": []
    },
    {
      "cell_type": "code",
      "source": [
        "vector6=data.iloc[5]"
      ],
      "metadata": {
        "id": "hIQay33oZW_w"
      },
      "execution_count": null,
      "outputs": []
    },
    {
      "cell_type": "code",
      "source": [
        "vector7=data.iloc[6]"
      ],
      "metadata": {
        "id": "hgE9_uQ0ZXX_"
      },
      "execution_count": null,
      "outputs": []
    },
    {
      "cell_type": "code",
      "source": [
        "vector8=data.iloc[7]"
      ],
      "metadata": {
        "id": "6v6YelFXZXoY"
      },
      "execution_count": null,
      "outputs": []
    },
    {
      "cell_type": "code",
      "source": [
        "vector9=data.iloc[8]"
      ],
      "metadata": {
        "id": "aUXyEaJlZeZD"
      },
      "execution_count": null,
      "outputs": []
    },
    {
      "cell_type": "code",
      "source": [
        "vector10=data.iloc[9]"
      ],
      "metadata": {
        "id": "AT7J99-RZf9_"
      },
      "execution_count": null,
      "outputs": []
    },
    {
      "cell_type": "code",
      "source": [
        "vectors = [vector1, vector2, vector3, vector4, vector5, vector6, vector7, vector8, vector9, vector10]"
      ],
      "metadata": {
        "id": "uz7I7l7ZZuVX"
      },
      "execution_count": null,
      "outputs": []
    },
    {
      "cell_type": "code",
      "source": [
        "# Calculate cosine similarity for each pair of vectors\n",
        "similarity_matrix = []\n",
        "for i in range(len(vectors)):\n",
        "    similarities = []\n",
        "    for j in range(len(vectors)):\n",
        "        similarity_score = cosine_similarity(vectors[i], vectors[j])\n",
        "        similarities.append(similarity_score)\n",
        "    similarity_matrix.append(similarities)\n",
        "\n",
        "# Print similarity matrix\n",
        "for row in similarity_matrix:\n",
        "    print(row)"
      ],
      "metadata": {
        "colab": {
          "base_uri": "https://localhost:8080/"
        },
        "id": "CgvjqKaMZ0e8",
        "outputId": "1683066e-d3f3-4d5c-f403-0b614b097ba8"
      },
      "execution_count": null,
      "outputs": [
        {
          "output_type": "stream",
          "name": "stdout",
          "text": [
            "[0.9999999999999999, 0.80860615958605, 0.7814292237486286, 0.7715350059144246, 0.8393519576652525, 0.7832234508514028, 0.6755240922768156, 0.7273476356209605, 0.6490321906924074, 0.740949393677135]\n",
            "[0.80860615958605, 0.9999999999999998, 0.8717857553373456, 0.7898764827917565, 0.8602207314943722, 0.7767175264421757, 0.6764040980633301, 0.7193790015718007, 0.7209335493025629, 0.7969300375766524]\n",
            "[0.7814292237486286, 0.8717857553373456, 1.0000000000000004, 0.8280135994690501, 0.8418920936029127, 0.8614126727680644, 0.7725454188099438, 0.7485933559284826, 0.7502155598692477, 0.825987841796148]\n",
            "[0.7715350059144246, 0.7898764827917565, 0.8280135994690501, 0.9999999999999998, 0.8067434347029399, 0.6997505495179527, 0.647146865035524, 0.7242430901260803, 0.6054502482858529, 0.7629613517918898]\n",
            "[0.8393519576652525, 0.8602207314943722, 0.8418920936029127, 0.8067434347029399, 1.0000000000000002, 0.7701704307034891, 0.6217583610337875, 0.7173659687477107, 0.6609493831240947, 0.742796568914397]\n",
            "[0.7832234508514028, 0.7767175264421757, 0.8614126727680644, 0.6997505495179527, 0.7701704307034891, 0.9999999999999996, 0.7863809131422339, 0.6863403666189839, 0.7815238501403587, 0.77328885504215]\n",
            "[0.6755240922768156, 0.6764040980633301, 0.7725454188099438, 0.647146865035524, 0.6217583610337875, 0.7863809131422339, 1.0000000000000002, 0.7012172980040196, 0.8264154586154897, 0.7715802633369924]\n",
            "[0.7273476356209605, 0.7193790015718007, 0.7485933559284826, 0.7242430901260803, 0.7173659687477107, 0.6863403666189839, 0.7012172980040196, 1.0000000000000002, 0.6488378265578505, 0.7431372156133498]\n",
            "[0.6490321906924074, 0.7209335493025629, 0.7502155598692477, 0.6054502482858529, 0.6609493831240947, 0.7815238501403587, 0.8264154586154897, 0.6488378265578505, 1.0000000000000002, 0.8015425533836638]\n",
            "[0.740949393677135, 0.7969300375766524, 0.825987841796148, 0.7629613517918898, 0.742796568914397, 0.77328885504215, 0.7715802633369924, 0.7431372156133498, 0.8015425533836638, 1.0]\n"
          ]
        }
      ]
    },
    {
      "cell_type": "code",
      "source": [
        "max_value = np.max(similarity_matrix)"
      ],
      "metadata": {
        "id": "m6LAHH-1aIfh"
      },
      "execution_count": null,
      "outputs": []
    },
    {
      "cell_type": "code",
      "source": [
        "print(max_value)"
      ],
      "metadata": {
        "colab": {
          "base_uri": "https://localhost:8080/"
        },
        "id": "J5Aj8jaeZ6zL",
        "outputId": "a887af14-10b7-4b3b-b6a9-6dff6829242c"
      },
      "execution_count": null,
      "outputs": [
        {
          "output_type": "stream",
          "name": "stdout",
          "text": [
            "1.0000000000000004\n"
          ]
        }
      ]
    },
    {
      "cell_type": "code",
      "source": [
        "min_value = np.min(similarity_matrix)"
      ],
      "metadata": {
        "id": "7laBTJYBaN3I"
      },
      "execution_count": null,
      "outputs": []
    },
    {
      "cell_type": "code",
      "source": [
        "mean_value = np.mean(similarity_matrix)"
      ],
      "metadata": {
        "id": "0TQnGlIccZww"
      },
      "execution_count": null,
      "outputs": []
    },
    {
      "cell_type": "code",
      "source": [
        "print(\"The cosine similarity for Filed_ID:\", mean_value)"
      ],
      "metadata": {
        "colab": {
          "base_uri": "https://localhost:8080/"
        },
        "id": "ItLcMx4vcqJY",
        "outputId": "a61c5aa7-e8c8-4887-ea81-5c86fbd7d2ab"
      },
      "execution_count": null,
      "outputs": [
        {
          "output_type": "stream",
          "name": "stdout",
          "text": [
            "The cosine similarity for Filed_ID: 0.7779501537459146\n"
          ]
        }
      ]
    },
    {
      "cell_type": "code",
      "source": [
        "file_path = '/content/climate aet.xlsx'\n",
        "data = pd.read_excel(file_path)"
      ],
      "metadata": {
        "id": "zBHhP93ylUvQ"
      },
      "execution_count": null,
      "outputs": []
    },
    {
      "cell_type": "code",
      "source": [
        "vector1=data.iloc[0]\n",
        "vector2=data.iloc[1]\n",
        "vector3=data.iloc[2]\n",
        "vector4=data.iloc[3]\n",
        "vector5=data.iloc[4]\n",
        "vector6=data.iloc[5]\n",
        "vector7=data.iloc[6]\n",
        "vector8=data.iloc[7]\n",
        "vector9=data.iloc[8]\n",
        "vector10=data.iloc[9]"
      ],
      "metadata": {
        "id": "nFHDnyhLnSrz"
      },
      "execution_count": null,
      "outputs": []
    },
    {
      "cell_type": "code",
      "source": [
        "vectors = [vector1, vector2, vector3, vector4, vector5, vector6, vector7, vector8, vector9, vector10]"
      ],
      "metadata": {
        "id": "BujDiAftnSuV"
      },
      "execution_count": null,
      "outputs": []
    },
    {
      "cell_type": "code",
      "source": [
        "# Calculate cosine similarity for each pair of vectors\n",
        "similarity_matrix = []\n",
        "for i in range(len(vectors)):\n",
        "    similarities = []\n",
        "    for j in range(len(vectors)):\n",
        "        similarity_score = cosine_similarity(vectors[i], vectors[j])\n",
        "        similarities.append(similarity_score)\n",
        "    similarity_matrix.append(similarities)\n",
        "\n",
        "# Print similarity matrix\n",
        "for row in similarity_matrix:\n",
        "    print(row)"
      ],
      "metadata": {
        "colab": {
          "base_uri": "https://localhost:8080/"
        },
        "id": "5kU6Bl7onSw8",
        "outputId": "46f9bc9d-79ad-416e-b0ea-c9348a722725"
      },
      "execution_count": null,
      "outputs": [
        {
          "output_type": "stream",
          "name": "stdout",
          "text": [
            "[1.0, 0.8964216606071124, 0.8377879126257353, 0.8242760426707619, 0.8007505025232396, 0.7413848911182433, 0.8356829668930276, 0.9109873702920294, 0.8308805451933188, 0.8810310963770823]\n",
            "[0.8964216606071124, 1.0, 0.9481356065790082, 0.9433349134149577, 0.917740478499001, 0.7227735684607591, 0.9473794588135165, 0.9260892968244279, 0.9389296551570168, 0.9231359066182323]\n",
            "[0.8377879126257353, 0.9481356065790082, 1.0000000000000002, 0.9608719110120132, 0.9559358091266225, 0.638959695685107, 0.9744881504565512, 0.8899335335805713, 0.9722593347601669, 0.8819793285866817]\n",
            "[0.8242760426707619, 0.9433349134149577, 0.9608719110120132, 1.0, 0.9457622946795372, 0.6868899356838103, 0.9582940282182059, 0.8968822266666545, 0.9595971225645575, 0.9021825761435626]\n",
            "[0.8007505025232396, 0.917740478499001, 0.9559358091266225, 0.9457622946795372, 1.0000000000000004, 0.6221650237081826, 0.9470623794475335, 0.8524714418809702, 0.9626269212622494, 0.8387465619293518]\n",
            "[0.7413848911182433, 0.7227735684607591, 0.638959695685107, 0.6868899356838103, 0.6221650237081826, 1.0, 0.6797901466299083, 0.7396548642389495, 0.688980815949699, 0.8213450895106899]\n",
            "[0.8356829668930276, 0.9473794588135165, 0.9744881504565512, 0.9582940282182059, 0.9470623794475335, 0.6797901466299083, 0.9999999999999997, 0.8939287427992549, 0.9855510614966186, 0.9010872427287349]\n",
            "[0.9109873702920294, 0.9260892968244279, 0.8899335335805713, 0.8968822266666545, 0.8524714418809702, 0.7396548642389495, 0.8939287427992549, 1.0, 0.8847842037858176, 0.920963310898535]\n",
            "[0.8308805451933188, 0.9389296551570168, 0.9722593347601669, 0.9595971225645575, 0.9626269212622494, 0.688980815949699, 0.9855510614966186, 0.8847842037858176, 1.0000000000000002, 0.8952423254005256]\n",
            "[0.8810310963770823, 0.9231359066182323, 0.8819793285866817, 0.9021825761435626, 0.8387465619293518, 0.8213450895106899, 0.9010872427287349, 0.920963310898535, 0.8952423254005256, 1.0000000000000002]\n"
          ]
        }
      ]
    },
    {
      "cell_type": "code",
      "source": [
        "max_value = np.max(similarity_matrix)\n",
        "print(max_value)"
      ],
      "metadata": {
        "colab": {
          "base_uri": "https://localhost:8080/"
        },
        "id": "I3QVw5hUnSzr",
        "outputId": "494ae1d3-d0f6-433a-eb6e-ec11de4d7f85"
      },
      "execution_count": null,
      "outputs": [
        {
          "output_type": "stream",
          "name": "stdout",
          "text": [
            "1.0000000000000004\n"
          ]
        }
      ]
    },
    {
      "cell_type": "code",
      "source": [
        "mean_value = np.mean(similarity_matrix)\n",
        "print(\"The cosine similarity for climate aet:\", mean_value)"
      ],
      "metadata": {
        "colab": {
          "base_uri": "https://localhost:8080/"
        },
        "id": "A9esJSmYoGgl",
        "outputId": "3298c456-c896-4147-8650-7ca144e7cc9e"
      },
      "execution_count": null,
      "outputs": [
        {
          "output_type": "stream",
          "name": "stdout",
          "text": [
            "The cosine similarity for climate aet: 0.8817031590299708\n"
          ]
        }
      ]
    },
    {
      "cell_type": "code",
      "source": [
        "file_path = '/content/climate def.xlsx'\n",
        "data = pd.read_excel(file_path)\n",
        "vector1=data.iloc[0]\n",
        "vector2=data.iloc[1]\n",
        "vector3=data.iloc[2]\n",
        "vector4=data.iloc[3]\n",
        "vector5=data.iloc[4]\n",
        "vector6=data.iloc[5]\n",
        "vector7=data.iloc[6]\n",
        "vector8=data.iloc[7]\n",
        "vector9=data.iloc[8]\n",
        "vector10=data.iloc[9]\n",
        "vectors = [vector1, vector2, vector3, vector4, vector5, vector6, vector7, vector8, vector9, vector10]"
      ],
      "metadata": {
        "id": "Tc_kbeLLotmM"
      },
      "execution_count": null,
      "outputs": []
    },
    {
      "cell_type": "code",
      "source": [
        "# Calculate cosine similarity for each pair of vectors\n",
        "similarity_matrix = []\n",
        "for i in range(len(vectors)):\n",
        "    similarities = []\n",
        "    for j in range(len(vectors)):\n",
        "        similarity_score = cosine_similarity(vectors[i], vectors[j])\n",
        "        similarities.append(similarity_score)\n",
        "    similarity_matrix.append(similarities)\n",
        "\n",
        "# Print similarity matrix\n",
        "for row in similarity_matrix:\n",
        "    print(row)"
      ],
      "metadata": {
        "colab": {
          "base_uri": "https://localhost:8080/"
        },
        "id": "dTAaqUCcoto0",
        "outputId": "878c08de-8cc1-48af-a23d-e90acd8595ad"
      },
      "execution_count": null,
      "outputs": [
        {
          "output_type": "stream",
          "name": "stdout",
          "text": [
            "[1.0000000000000002, 0.7144004231962388, 0.8013701167129201, 0.8265455925630116, 0.722174866001626, 0.8454517720044104, 0.6345763685979224, 0.7519855029168487, 0.7005657938692941, 0.7469698646016544]\n",
            "[0.7144004231962388, 1.0000000000000004, 0.7053387084399639, 0.7647124960715849, 0.6978030115177761, 0.7814348421111467, 0.578291913640858, 0.6683812685173481, 0.639847749169511, 0.6629891972292407]\n",
            "[0.8013701167129201, 0.7053387084399639, 1.0, 0.815465153550822, 0.9054979245201394, 0.904213781388538, 0.905561986415016, 0.9746194371962258, 0.9511042506167647, 0.9663122451460476]\n",
            "[0.8265455925630116, 0.7647124960715849, 0.815465153550822, 0.9999999999999999, 0.807504816931845, 0.8909316460013654, 0.7047471203811236, 0.7928288544162092, 0.7448306613135512, 0.792821572009688]\n",
            "[0.722174866001626, 0.6978030115177761, 0.9054979245201394, 0.807504816931845, 1.0000000000000004, 0.8962185192910379, 0.8068809583423712, 0.9114994811463534, 0.8520481093387595, 0.8784579461639894]\n",
            "[0.8454517720044104, 0.7814348421111467, 0.904213781388538, 0.8909316460013654, 0.8962185192910379, 0.9999999999999999, 0.7918208389999775, 0.883871465741475, 0.8469910745701057, 0.8827395592679949]\n",
            "[0.6345763685979224, 0.578291913640858, 0.905561986415016, 0.7047471203811236, 0.8068809583423712, 0.7918208389999775, 1.0, 0.9347978418550171, 0.9355228351239964, 0.9419128435088013]\n",
            "[0.7519855029168487, 0.6683812685173481, 0.9746194371962258, 0.7928288544162092, 0.9114994811463534, 0.883871465741475, 0.9347978418550171, 1.0, 0.9516248705081285, 0.9678253155615321]\n",
            "[0.7005657938692941, 0.639847749169511, 0.9511042506167647, 0.7448306613135512, 0.8520481093387595, 0.8469910745701057, 0.9355228351239964, 0.9516248705081285, 1.0, 0.9746656079121659]\n",
            "[0.7469698646016544, 0.6629891972292407, 0.9663122451460476, 0.792821572009688, 0.8784579461639894, 0.8827395592679949, 0.9419128435088013, 0.9678253155615321, 0.9746656079121659, 0.9999999999999998]\n"
          ]
        }
      ]
    },
    {
      "cell_type": "code",
      "source": [
        "max_value = np.max(similarity_matrix)\n",
        "print(max_value)"
      ],
      "metadata": {
        "colab": {
          "base_uri": "https://localhost:8080/"
        },
        "id": "Ss7tn_1hotrg",
        "outputId": "a671a064-7e09-4223-dda5-52cefb692fb4"
      },
      "execution_count": null,
      "outputs": [
        {
          "output_type": "stream",
          "name": "stdout",
          "text": [
            "1.0000000000000004\n"
          ]
        }
      ]
    },
    {
      "cell_type": "code",
      "source": [
        "mean_value = np.mean(similarity_matrix)\n",
        "print(\"The cosine similarity for climate def:\", mean_value)"
      ],
      "metadata": {
        "colab": {
          "base_uri": "https://localhost:8080/"
        },
        "id": "qAyKmOkpotuM",
        "outputId": "9db510c9-e3c2-4b51-cdb0-902e1a6ab867"
      },
      "execution_count": null,
      "outputs": [
        {
          "output_type": "stream",
          "name": "stdout",
          "text": [
            "The cosine similarity for climate def: 0.8371231240876079\n"
          ]
        }
      ]
    },
    {
      "cell_type": "code",
      "source": [
        "file_path = '/content/climate pdsi.xlsx'\n",
        "data = pd.read_excel(file_path)\n",
        "vector1=data.iloc[0]\n",
        "vector2=data.iloc[1]\n",
        "vector3=data.iloc[2]\n",
        "vector4=data.iloc[3]\n",
        "vector5=data.iloc[4]\n",
        "vector6=data.iloc[5]\n",
        "vector7=data.iloc[6]\n",
        "vector8=data.iloc[7]\n",
        "vector9=data.iloc[8]\n",
        "vector10=data.iloc[9]\n",
        "vectors = [vector1, vector2, vector3, vector4, vector5, vector6, vector7, vector8, vector9, vector10]"
      ],
      "metadata": {
        "id": "V1pYtYeqotwl"
      },
      "execution_count": null,
      "outputs": []
    },
    {
      "cell_type": "code",
      "source": [
        "# Calculate cosine similarity for each pair of vectors\n",
        "similarity_matrix = []\n",
        "for i in range(len(vectors)):\n",
        "    similarities = []\n",
        "    for j in range(len(vectors)):\n",
        "        similarity_score = cosine_similarity(vectors[i], vectors[j])\n",
        "        similarities.append(similarity_score)\n",
        "    similarity_matrix.append(similarities)\n",
        "\n",
        "# Print similarity matrix\n",
        "for row in similarity_matrix:\n",
        "    print(row)"
      ],
      "metadata": {
        "colab": {
          "base_uri": "https://localhost:8080/"
        },
        "id": "1EXGuLLxoty-",
        "outputId": "6dd810fb-5608-43a6-c72a-eeff1157ef1f"
      },
      "execution_count": null,
      "outputs": [
        {
          "output_type": "stream",
          "name": "stdout",
          "text": [
            "[1.0, 0.731261663501922, 0.9202550896156719, 0.8967801067363489, 0.8565756999595687, 0.8622277853097181, 0.8097897698799299, 0.8827243517237793, 0.878820960043646, 0.8133710572951134]\n",
            "[0.731261663501922, 1.0, 0.7481047921012453, 0.7038996599924104, 0.6278483362837827, 0.7049425970899468, 0.6028276210843754, 0.7000129149836934, 0.6742620284576021, 0.5929855129267776]\n",
            "[0.9202550896156719, 0.7481047921012453, 0.9999999999999998, 0.9519572562166948, 0.9328928289660732, 0.9406269634340894, 0.9080310134074967, 0.9514504678988427, 0.9425025009471616, 0.9065361786182676]\n",
            "[0.8967801067363489, 0.7038996599924104, 0.9519572562166948, 0.9999999999999999, 0.9745604333753299, 0.9684602601829211, 0.950566408065853, 0.9747810444153238, 0.9746466833431682, 0.9556892309579623]\n",
            "[0.8565756999595687, 0.6278483362837827, 0.9328928289660732, 0.9745604333753299, 0.9999999999999997, 0.9601972787155786, 0.971842074678867, 0.9723027811534857, 0.9631397075115196, 0.9818565160718795]\n",
            "[0.8622277853097181, 0.7049425970899468, 0.9406269634340894, 0.9684602601829211, 0.9601972787155786, 1.0000000000000002, 0.9507673762584927, 0.9691292689526296, 0.9510521957547221, 0.9441101888412685]\n",
            "[0.8097897698799299, 0.6028276210843754, 0.9080310134074967, 0.950566408065853, 0.971842074678867, 0.9507673762584927, 1.0, 0.9558515566318649, 0.9568081079580465, 0.9866937426330217]\n",
            "[0.8827243517237793, 0.7000129149836934, 0.9514504678988427, 0.9747810444153238, 0.9723027811534857, 0.9691292689526296, 0.9558515566318649, 0.9999999999999999, 0.9656726158610365, 0.9612802893875368]\n",
            "[0.878820960043646, 0.6742620284576021, 0.9425025009471616, 0.9746466833431682, 0.9631397075115196, 0.9510521957547221, 0.9568081079580465, 0.9656726158610365, 0.9999999999999998, 0.9577507269850692]\n",
            "[0.8133710572951134, 0.5929855129267776, 0.9065361786182676, 0.9556892309579623, 0.9818565160718795, 0.9441101888412685, 0.9866937426330217, 0.9612802893875368, 0.9577507269850692, 1.0]\n"
          ]
        }
      ]
    },
    {
      "cell_type": "code",
      "source": [
        "mean_value = np.mean(similarity_matrix)\n",
        "print(\"The cosine similarity for climate pdsi:\", mean_value)"
      ],
      "metadata": {
        "colab": {
          "base_uri": "https://localhost:8080/"
        },
        "id": "bpfkyy7Got1C",
        "outputId": "7aa00a26-2f68-4212-fe52-b4330060120e"
      },
      "execution_count": null,
      "outputs": [
        {
          "output_type": "stream",
          "name": "stdout",
          "text": [
            "The cosine similarity for climate pdsi: 0.8957569128841947\n"
          ]
        }
      ]
    },
    {
      "cell_type": "code",
      "source": [
        "file_path = '/content/climate pet.xlsx'\n",
        "data = pd.read_excel(file_path)\n",
        "vector1=data.iloc[0]\n",
        "vector2=data.iloc[1]\n",
        "vector3=data.iloc[2]\n",
        "vector4=data.iloc[3]\n",
        "vector5=data.iloc[4]\n",
        "vector6=data.iloc[5]\n",
        "vector7=data.iloc[6]\n",
        "vector8=data.iloc[7]\n",
        "vector9=data.iloc[8]\n",
        "vector10=data.iloc[9]\n",
        "vectors = [vector1, vector2, vector3, vector4, vector5, vector6, vector7, vector8, vector9, vector10]"
      ],
      "metadata": {
        "id": "yTCgoB-qot3t"
      },
      "execution_count": null,
      "outputs": []
    },
    {
      "cell_type": "code",
      "source": [
        "# Calculate cosine similarity for each pair of vectors\n",
        "similarity_matrix = []\n",
        "for i in range(len(vectors)):\n",
        "    similarities = []\n",
        "    for j in range(len(vectors)):\n",
        "        similarity_score = cosine_similarity(vectors[i], vectors[j])\n",
        "        similarities.append(similarity_score)\n",
        "    similarity_matrix.append(similarities)\n",
        "\n",
        "# Print similarity matrix\n",
        "for row in similarity_matrix:\n",
        "    print(row)"
      ],
      "metadata": {
        "colab": {
          "base_uri": "https://localhost:8080/"
        },
        "id": "laVzXgpLpsEA",
        "outputId": "3b5f9fea-ada2-4cfb-bf57-1f6d9c769f3f"
      },
      "execution_count": null,
      "outputs": [
        {
          "output_type": "stream",
          "name": "stdout",
          "text": [
            "[1.0000000000000002, 0.7518331334489075, 0.7641940499508294, 0.7548369416404312, 0.6923078104236686, 0.7313872298030407, 0.7285835379927821, 0.6127514111022222, 0.716504871484637, 0.702556861257511]\n",
            "[0.7518331334489075, 1.0, 0.9252116028450208, 0.9375369242040782, 0.9474530571849047, 0.9564874469249735, 0.9634822813655592, 0.9130800921777027, 0.951846297649659, 0.9282951073334086]\n",
            "[0.7641940499508294, 0.9252116028450208, 0.9999999999999998, 0.9407701569073775, 0.8967322395588658, 0.9043978092810522, 0.928056326353105, 0.7892508055568483, 0.9018026474258726, 0.8640823954696683]\n",
            "[0.7548369416404312, 0.9375369242040782, 0.9407701569073775, 1.0000000000000002, 0.9282383391556558, 0.9507370066413519, 0.9463448342450715, 0.8452327111570485, 0.9417784297155088, 0.908479654249511]\n",
            "[0.6923078104236686, 0.9474530571849047, 0.8967322395588658, 0.9282383391556558, 1.0000000000000002, 0.947866633792862, 0.9552640490366275, 0.9374212613928943, 0.9726281478350345, 0.9185626296991756]\n",
            "[0.7313872298030407, 0.9564874469249735, 0.9043978092810522, 0.9507370066413519, 0.947866633792862, 1.0, 0.9518189163876611, 0.904242566949031, 0.9582706852713122, 0.9435614350364381]\n",
            "[0.7285835379927821, 0.9634822813655592, 0.928056326353105, 0.9463448342450715, 0.9552640490366275, 0.9518189163876611, 1.0, 0.9005847241287105, 0.9671678696494016, 0.8968101126824206]\n",
            "[0.6127514111022222, 0.9130800921777027, 0.7892508055568483, 0.8452327111570485, 0.9374212613928943, 0.904242566949031, 0.9005847241287105, 1.0000000000000002, 0.9174072632690116, 0.9037735270982836]\n",
            "[0.716504871484637, 0.951846297649659, 0.9018026474258726, 0.9417784297155088, 0.9726281478350345, 0.9582706852713122, 0.9671678696494016, 0.9174072632690116, 1.0, 0.9172733696260156]\n",
            "[0.702556861257511, 0.9282951073334086, 0.8640823954696683, 0.908479654249511, 0.9185626296991756, 0.9435614350364381, 0.8968101126824206, 0.9037735270982836, 0.9172733696260156, 1.0000000000000002]\n"
          ]
        }
      ]
    },
    {
      "cell_type": "code",
      "source": [
        "mean_value = np.mean(similarity_matrix)\n",
        "print(\"The cosine similarity for climate pet:\", mean_value)"
      ],
      "metadata": {
        "colab": {
          "base_uri": "https://localhost:8080/"
        },
        "id": "Mm5BuA4UpsGN",
        "outputId": "c85cf408-be9f-4d62-8454-c68d0f050dc9"
      },
      "execution_count": null,
      "outputs": [
        {
          "output_type": "stream",
          "name": "stdout",
          "text": [
            "The cosine similarity for climate pet: 0.8943381040872229\n"
          ]
        }
      ]
    },
    {
      "cell_type": "code",
      "source": [
        "file_path = '/content/climate pr.xlsx'\n",
        "data = pd.read_excel(file_path)\n",
        "vector1=data.iloc[0]\n",
        "vector2=data.iloc[1]\n",
        "vector3=data.iloc[2]\n",
        "vector4=data.iloc[3]\n",
        "vector5=data.iloc[4]\n",
        "vector6=data.iloc[5]\n",
        "vector7=data.iloc[6]\n",
        "vector8=data.iloc[7]\n",
        "vector9=data.iloc[8]\n",
        "vector10=data.iloc[9]\n",
        "vectors = [vector1, vector2, vector3, vector4, vector5, vector6, vector7, vector8, vector9, vector10]"
      ],
      "metadata": {
        "id": "OY9LThx7psIr"
      },
      "execution_count": null,
      "outputs": []
    },
    {
      "cell_type": "code",
      "source": [
        "# Calculate cosine similarity for each pair of vectors\n",
        "similarity_matrix = []\n",
        "for i in range(len(vectors)):\n",
        "    similarities = []\n",
        "    for j in range(len(vectors)):\n",
        "        similarity_score = cosine_similarity(vectors[i], vectors[j])\n",
        "        similarities.append(similarity_score)\n",
        "    similarity_matrix.append(similarities)\n",
        "\n",
        "# Print similarity matrix\n",
        "for row in similarity_matrix:\n",
        "    print(row)"
      ],
      "metadata": {
        "colab": {
          "base_uri": "https://localhost:8080/"
        },
        "id": "GBCWKdTzpsLR",
        "outputId": "6a7428c2-ee6e-409e-e637-b1b69552ed84"
      },
      "execution_count": null,
      "outputs": [
        {
          "output_type": "stream",
          "name": "stdout",
          "text": [
            "[0.9999999999999999, 0.7464025429684084, 0.8798511209511227, 0.7711408261723874, 0.8448148871660524, 0.8685240145315754, 0.8173178987387912, 0.8756311583461257, 0.8723897028075286, 0.8485280433231843]\n",
            "[0.7464025429684084, 0.9999999999999997, 0.7047286965323242, 0.5809267897038007, 0.7373787504220938, 0.6426213049859988, 0.6715135686825126, 0.7085525700505425, 0.7643422095742225, 0.6803773944038216]\n",
            "[0.8798511209511227, 0.7047286965323242, 1.0000000000000002, 0.8693468134208329, 0.8526948111374654, 0.9557065155666089, 0.9145061206282049, 0.9200805290742714, 0.9152824077680433, 0.9600569789243641]\n",
            "[0.7711408261723874, 0.5809267897038007, 0.8693468134208329, 1.0, 0.7441246534811619, 0.8639197736469997, 0.8018526869625456, 0.7680215027365763, 0.7796374840687703, 0.9025110918523409]\n",
            "[0.8448148871660524, 0.7373787504220938, 0.8526948111374654, 0.7441246534811619, 0.9999999999999999, 0.8052298590535547, 0.7750760176491241, 0.872075284524598, 0.8339535579732167, 0.8115956569704111]\n",
            "[0.8685240145315754, 0.6426213049859988, 0.9557065155666089, 0.8639197736469997, 0.8052298590535547, 1.0, 0.9259244991987258, 0.8982535638924009, 0.8958709638168296, 0.9474361826055346]\n",
            "[0.8173178987387912, 0.6715135686825126, 0.9145061206282049, 0.8018526869625456, 0.7750760176491241, 0.9259244991987258, 1.0000000000000002, 0.8925123119065318, 0.8841522534343962, 0.9231018988519498]\n",
            "[0.8756311583461257, 0.7085525700505425, 0.9200805290742714, 0.7680215027365763, 0.872075284524598, 0.8982535638924009, 0.8925123119065318, 0.9999999999999998, 0.8767606059460306, 0.8881021062744167]\n",
            "[0.8723897028075286, 0.7643422095742225, 0.9152824077680433, 0.7796374840687703, 0.8339535579732167, 0.8958709638168296, 0.8841522534343962, 0.8767606059460306, 1.0, 0.8540083563739306]\n",
            "[0.8485280433231843, 0.6803773944038216, 0.9600569789243641, 0.9025110918523409, 0.8115956569704111, 0.9474361826055346, 0.9231018988519498, 0.8881021062744167, 0.8540083563739306, 1.0]\n"
          ]
        }
      ]
    },
    {
      "cell_type": "code",
      "source": [
        "mean_value = np.mean(similarity_matrix)\n",
        "print(\"The cosine similarity for climate pr:\", mean_value)"
      ],
      "metadata": {
        "colab": {
          "base_uri": "https://localhost:8080/"
        },
        "id": "oNmX3vHUpsNx",
        "outputId": "7bb02e34-6aa4-4189-fb9c-64ee922242e3"
      },
      "execution_count": null,
      "outputs": [
        {
          "output_type": "stream",
          "name": "stdout",
          "text": [
            "The cosine similarity for climate pr: 0.8469367193420065\n"
          ]
        }
      ]
    },
    {
      "cell_type": "code",
      "source": [
        "file_path = '/content/climate ro.xlsx'\n",
        "data = pd.read_excel(file_path)\n",
        "vector1=data.iloc[0]\n",
        "vector2=data.iloc[1]\n",
        "vector3=data.iloc[2]\n",
        "vector4=data.iloc[3]\n",
        "vector5=data.iloc[4]\n",
        "vector6=data.iloc[5]\n",
        "vector7=data.iloc[6]\n",
        "vector8=data.iloc[7]\n",
        "vector9=data.iloc[8]\n",
        "vector10=data.iloc[9]\n",
        "vectors = [vector1, vector2, vector3, vector4, vector5, vector6, vector7, vector8, vector9, vector10]"
      ],
      "metadata": {
        "id": "LpTHIV1NpsQh"
      },
      "execution_count": null,
      "outputs": []
    },
    {
      "cell_type": "code",
      "source": [
        "# Calculate cosine similarity for each pair of vectors\n",
        "similarity_matrix = []\n",
        "for i in range(len(vectors)):\n",
        "    similarities = []\n",
        "    for j in range(len(vectors)):\n",
        "        similarity_score = cosine_similarity(vectors[i], vectors[j])\n",
        "        similarities.append(similarity_score)\n",
        "    similarity_matrix.append(similarities)\n",
        "\n",
        "# Print similarity matrix\n",
        "for row in similarity_matrix:\n",
        "    print(row)"
      ],
      "metadata": {
        "colab": {
          "base_uri": "https://localhost:8080/"
        },
        "id": "A46bD6rHpsT4",
        "outputId": "6304e21f-c078-4f6a-ca6f-64f64398795b"
      },
      "execution_count": null,
      "outputs": [
        {
          "output_type": "stream",
          "name": "stdout",
          "text": [
            "[1.0, 0.6984368970890569, 0.8695565402587815, 0.6984368970890569, 0.8930730244378277, 0.8689071050937182, 0.6375136623348783, 0.8484944662908231, 0.8682173460100827, 0.8088427866230484]\n",
            "[0.6984368970890569, 1.0, 0.7559753014515013, 1.0, 0.769914234892984, 0.7232828169685912, 0.5224164728675404, 0.803841823028638, 0.745279055059972, 0.7333899920480532]\n",
            "[0.8695565402587815, 0.7559753014515013, 0.9999999999999999, 0.7559753014515013, 0.9322973257033705, 0.9305646098405823, 0.7084778951951931, 0.841602932879285, 0.884108481824632, 0.8630229049403751]\n",
            "[0.6984368970890569, 1.0, 0.7559753014515013, 1.0, 0.769914234892984, 0.7232828169685912, 0.5224164728675404, 0.803841823028638, 0.745279055059972, 0.7333899920480532]\n",
            "[0.8930730244378277, 0.769914234892984, 0.9322973257033705, 0.769914234892984, 0.9999999999999999, 0.8973686892188901, 0.7387045626608068, 0.8821149615104761, 0.914017112018577, 0.9344101803793329]\n",
            "[0.8689071050937182, 0.7232828169685912, 0.9305646098405823, 0.7232828169685912, 0.8973686892188901, 1.0000000000000002, 0.6120961427163251, 0.8490970156025794, 0.8598417346699019, 0.7998095928712352]\n",
            "[0.6375136623348783, 0.5224164728675404, 0.7084778951951931, 0.5224164728675404, 0.7387045626608068, 0.6120961427163251, 1.0, 0.578335193735624, 0.7033237786928903, 0.7708333105874616]\n",
            "[0.8484944662908231, 0.803841823028638, 0.841602932879285, 0.803841823028638, 0.8821149615104761, 0.8490970156025794, 0.578335193735624, 0.9999999999999997, 0.8577417830124378, 0.7847278430230605]\n",
            "[0.8682173460100827, 0.745279055059972, 0.884108481824632, 0.745279055059972, 0.914017112018577, 0.8598417346699019, 0.7033237786928903, 0.8577417830124378, 0.9999999999999999, 0.8468157664709001]\n",
            "[0.8088427866230484, 0.7333899920480532, 0.8630229049403751, 0.7333899920480532, 0.9344101803793329, 0.7998095928712352, 0.7708333105874616, 0.7847278430230605, 0.8468157664709001, 0.9999999999999999]\n"
          ]
        }
      ]
    },
    {
      "cell_type": "code",
      "source": [
        "mean_value = np.mean(similarity_matrix)\n",
        "print(\"The cosine similarity for climate ro:\", mean_value)"
      ],
      "metadata": {
        "colab": {
          "base_uri": "https://localhost:8080/"
        },
        "id": "Vew8Lp0Mot7P",
        "outputId": "ac597874-fd44-471d-8bba-bed1f892bde2"
      },
      "execution_count": null,
      "outputs": [
        {
          "output_type": "stream",
          "name": "stdout",
          "text": [
            "The cosine similarity for climate ro: 0.8097797987083155\n"
          ]
        }
      ]
    },
    {
      "cell_type": "code",
      "source": [
        "file_path = '/content/climate srad.xlsx'\n",
        "data = pd.read_excel(file_path)\n",
        "vector1=data.iloc[0]\n",
        "vector2=data.iloc[1]\n",
        "vector3=data.iloc[2]\n",
        "vector4=data.iloc[3]\n",
        "vector5=data.iloc[4]\n",
        "vector6=data.iloc[5]\n",
        "vector7=data.iloc[6]\n",
        "vector8=data.iloc[7]\n",
        "vector9=data.iloc[8]\n",
        "vector10=data.iloc[9]\n",
        "vectors = [vector1, vector2, vector3, vector4, vector5, vector6, vector7, vector8, vector9, vector10]"
      ],
      "metadata": {
        "id": "b0ZNKOwGqc95"
      },
      "execution_count": null,
      "outputs": []
    },
    {
      "cell_type": "code",
      "source": [
        "# Calculate cosine similarity for each pair of vectors\n",
        "similarity_matrix = []\n",
        "for i in range(len(vectors)):\n",
        "    similarities = []\n",
        "    for j in range(len(vectors)):\n",
        "        similarity_score = cosine_similarity(vectors[i], vectors[j])\n",
        "        similarities.append(similarity_score)\n",
        "    similarity_matrix.append(similarities)\n",
        "\n",
        "# Print similarity matrix\n",
        "for row in similarity_matrix:\n",
        "    print(row)"
      ],
      "metadata": {
        "colab": {
          "base_uri": "https://localhost:8080/"
        },
        "id": "_0DbdSi8qdAh",
        "outputId": "9d3ed8b9-3093-4364-f776-cd1e6b4ceac7"
      },
      "execution_count": null,
      "outputs": [
        {
          "output_type": "stream",
          "name": "stdout",
          "text": [
            "[1.0000000000000002, 0.7432961704784601, 0.9230601027745912, 0.8636675014616405, 0.8054907518786939, 0.8865514653297619, 0.8763553621470322, 0.8871067405715627, 0.903098400788308, 0.8732895989611265]\n",
            "[0.7432961704784601, 0.9999999999999999, 0.707964286626502, 0.6969168064458449, 0.6183232316031771, 0.7330166504320862, 0.6867041414244336, 0.6949740395622235, 0.730692253820267, 0.6655292985131877]\n",
            "[0.9230601027745912, 0.707964286626502, 0.9999999999999998, 0.9344169802345269, 0.9015321569220166, 0.9475832481171863, 0.9540730361237011, 0.9607621409532231, 0.9529114799383271, 0.934779643318348]\n",
            "[0.8636675014616405, 0.6969168064458449, 0.9344169802345269, 1.0000000000000002, 0.8642982252733682, 0.9363318178354229, 0.9275448706832057, 0.9338965095835399, 0.9270674390977081, 0.9005703559640938]\n",
            "[0.8054907518786939, 0.6183232316031771, 0.9015321569220166, 0.8642982252733682, 0.9999999999999998, 0.8505626826595469, 0.9615600803521261, 0.949244954533217, 0.9370493818053576, 0.960487969424702]\n",
            "[0.8865514653297619, 0.7330166504320862, 0.9475832481171863, 0.9363318178354229, 0.8505626826595469, 1.0000000000000002, 0.9169998133331827, 0.9276432173845999, 0.9499788272011069, 0.8963623821561524]\n",
            "[0.8763553621470322, 0.6867041414244336, 0.9540730361237011, 0.9275448706832057, 0.9615600803521261, 0.9169998133331827, 1.0000000000000002, 0.9808650235573896, 0.9700701818769877, 0.9716828349675393]\n",
            "[0.8871067405715627, 0.6949740395622235, 0.9607621409532231, 0.9338965095835399, 0.949244954533217, 0.9276432173845999, 0.9808650235573896, 1.0, 0.9730454726513522, 0.9740984398979338]\n",
            "[0.903098400788308, 0.730692253820267, 0.9529114799383271, 0.9270674390977081, 0.9370493818053576, 0.9499788272011069, 0.9700701818769877, 0.9730454726513522, 1.0000000000000002, 0.9703123678063535]\n",
            "[0.8732895989611265, 0.6655292985131877, 0.934779643318348, 0.9005703559640938, 0.960487969424702, 0.8963623821561524, 0.9716828349675393, 0.9740984398979338, 0.9703123678063535, 1.0000000000000002]\n"
          ]
        }
      ]
    },
    {
      "cell_type": "code",
      "source": [
        "mean_value = np.mean(similarity_matrix)\n",
        "print(\"The cosine similarity for climate srad:\", mean_value)"
      ],
      "metadata": {
        "colab": {
          "base_uri": "https://localhost:8080/"
        },
        "id": "IuNugAG7qdDI",
        "outputId": "4982cf23-d728-43e4-c81d-3162f4f75e0a"
      },
      "execution_count": null,
      "outputs": [
        {
          "output_type": "stream",
          "name": "stdout",
          "text": [
            "The cosine similarity for climate srad: 0.8912353667294223\n"
          ]
        }
      ]
    },
    {
      "cell_type": "code",
      "source": [
        "file_path = '/content/climate vap.xlsx'\n",
        "data = pd.read_excel(file_path)\n",
        "vector1=data.iloc[0]\n",
        "vector2=data.iloc[1]\n",
        "vector3=data.iloc[2]\n",
        "vector4=data.iloc[3]\n",
        "vector5=data.iloc[4]\n",
        "vector6=data.iloc[5]\n",
        "vector7=data.iloc[6]\n",
        "vector8=data.iloc[7]\n",
        "vector9=data.iloc[8]\n",
        "vector10=data.iloc[9]\n",
        "vectors = [vector1, vector2, vector3, vector4, vector5, vector6, vector7, vector8, vector9, vector10]"
      ],
      "metadata": {
        "id": "UXvTIWmEqdFu"
      },
      "execution_count": null,
      "outputs": []
    },
    {
      "cell_type": "code",
      "source": [
        "# Calculate cosine similarity for each pair of vectors\n",
        "similarity_matrix = []\n",
        "for i in range(len(vectors)):\n",
        "    similarities = []\n",
        "    for j in range(len(vectors)):\n",
        "        similarity_score = cosine_similarity(vectors[i], vectors[j])\n",
        "        similarities.append(similarity_score)\n",
        "    similarity_matrix.append(similarities)\n",
        "\n",
        "# Print similarity matrix\n",
        "for row in similarity_matrix:\n",
        "    print(row)"
      ],
      "metadata": {
        "colab": {
          "base_uri": "https://localhost:8080/"
        },
        "id": "jZVrgGzvqdIN",
        "outputId": "5e6d81fb-973c-44b5-c61b-a44ac729d1c3"
      },
      "execution_count": null,
      "outputs": [
        {
          "output_type": "stream",
          "name": "stdout",
          "text": [
            "[1.0000000000000004, 0.7192797334690045, 0.9033574595012556, 0.9093059830780477, 0.8498748451745729, 0.8553993025898672, 0.8023335117387675, 0.7192797334690045, 0.777568318685293, 0.7773868793186751]\n",
            "[0.7192797334690045, 0.9999999999999999, 0.7314342073552405, 0.7628370149517747, 0.7076365867123097, 0.681846225235659, 0.6033681973282479, 0.9999999999999999, 0.6249103781963934, 0.6045914059073644]\n",
            "[0.9033574595012556, 0.7314342073552405, 1.0, 0.9180887399651062, 0.9165304501411462, 0.9237067012460238, 0.8845462718674008, 0.7314342073552405, 0.8347488570572602, 0.8593854399513038]\n",
            "[0.9093059830780477, 0.7628370149517747, 0.9180887399651062, 1.0, 0.9302574897336567, 0.9291555365034043, 0.8676879681396195, 0.7628370149517747, 0.8454039068573381, 0.8475670998393161]\n",
            "[0.8498748451745729, 0.7076365867123097, 0.9165304501411462, 0.9302574897336567, 1.0, 0.9590423393742147, 0.9629480089792698, 0.7076365867123097, 0.925653080987661, 0.9575939928925624]\n",
            "[0.8553993025898672, 0.681846225235659, 0.9237067012460238, 0.9291555365034043, 0.9590423393742147, 1.0, 0.946021671589804, 0.681846225235659, 0.9050619144424539, 0.9395111378731341]\n",
            "[0.8023335117387675, 0.6033681973282479, 0.8845462718674008, 0.8676879681396195, 0.9629480089792698, 0.946021671589804, 1.0000000000000002, 0.6033681973282479, 0.9027422130861844, 0.9819256070036172]\n",
            "[0.7192797334690045, 0.9999999999999999, 0.7314342073552405, 0.7628370149517747, 0.7076365867123097, 0.681846225235659, 0.6033681973282479, 0.9999999999999999, 0.6249103781963934, 0.6045914059073644]\n",
            "[0.777568318685293, 0.6249103781963934, 0.8347488570572602, 0.8454039068573381, 0.925653080987661, 0.9050619144424539, 0.9027422130861844, 0.6249103781963934, 0.9999999999999997, 0.9111423289010563]\n",
            "[0.7773868793186751, 0.6045914059073644, 0.8593854399513038, 0.8475670998393161, 0.9575939928925624, 0.9395111378731341, 0.9819256070036172, 0.6045914059073644, 0.9111423289010563, 1.0000000000000002]\n"
          ]
        }
      ]
    },
    {
      "cell_type": "code",
      "source": [
        "mean_value = np.mean(similarity_matrix)\n",
        "print(\"The cosine similarity for climate vap:\", mean_value)"
      ],
      "metadata": {
        "colab": {
          "base_uri": "https://localhost:8080/"
        },
        "id": "zbs2-r4GqdLv",
        "outputId": "aa90b8fa-5057-4d82-f87d-eec9f311681d"
      },
      "execution_count": null,
      "outputs": [
        {
          "output_type": "stream",
          "name": "stdout",
          "text": [
            "The cosine similarity for climate vap: 0.8379150910966001\n"
          ]
        }
      ]
    },
    {
      "cell_type": "code",
      "source": [
        "file_path = '/content/climate vs.xlsx'\n",
        "data = pd.read_excel(file_path)\n",
        "vector1=data.iloc[0]\n",
        "vector2=data.iloc[1]\n",
        "vector3=data.iloc[2]\n",
        "vector4=data.iloc[3]\n",
        "vector5=data.iloc[4]\n",
        "vector6=data.iloc[5]\n",
        "vector7=data.iloc[6]\n",
        "vector8=data.iloc[7]\n",
        "vector9=data.iloc[8]\n",
        "vector10=data.iloc[9]\n",
        "vectors = [vector1, vector2, vector3, vector4, vector5, vector6, vector7, vector8, vector9, vector10]"
      ],
      "metadata": {
        "id": "6zWNV9oHq5N5"
      },
      "execution_count": null,
      "outputs": []
    },
    {
      "cell_type": "code",
      "source": [
        "# Calculate cosine similarity for each pair of vectors\n",
        "similarity_matrix = []\n",
        "for i in range(len(vectors)):\n",
        "    similarities = []\n",
        "    for j in range(len(vectors)):\n",
        "        similarity_score = cosine_similarity(vectors[i], vectors[j])\n",
        "        similarities.append(similarity_score)\n",
        "    similarity_matrix.append(similarities)\n",
        "\n",
        "# Print similarity matrix\n",
        "for row in similarity_matrix:\n",
        "    print(row)"
      ],
      "metadata": {
        "colab": {
          "base_uri": "https://localhost:8080/"
        },
        "id": "oAttEUHOq_t9",
        "outputId": "af992e6f-cd65-41ec-b261-0f56bcb6da1a"
      },
      "execution_count": null,
      "outputs": [
        {
          "output_type": "stream",
          "name": "stdout",
          "text": [
            "[0.9999999999999997, 0.6942161034234337, 0.7432107310252588, 0.512292197973884, 0.79564147858782, 0.7821924117162149, 0.6699157167331273, 0.6804829785360741, 0.6514627094459102, 0.7654593746862066]\n",
            "[0.6942161034234337, 0.9999999999999993, 0.7557091689927896, 0.4574482637433371, 0.7841987277201442, 0.8398574074753521, 0.712336866866208, 0.6886415073323611, 0.7270374351441361, 0.6935055146039615]\n",
            "[0.7432107310252588, 0.7557091689927896, 1.0, 0.6309188801886776, 0.9040233754248722, 0.8759939864052796, 0.9153733667515606, 0.9166992571388998, 0.9030308908000287, 0.8822070903028939]\n",
            "[0.512292197973884, 0.4574482637433371, 0.6309188801886776, 1.0, 0.6364292794807056, 0.5522278710419545, 0.6354271627913148, 0.6323395690803529, 0.6183745254838989, 0.7053201309900348]\n",
            "[0.79564147858782, 0.7841987277201442, 0.9040233754248722, 0.6364292794807056, 1.0, 0.8939033364181148, 0.9236022054189338, 0.9202668380974736, 0.9123002463205736, 0.8912476097466058]\n",
            "[0.7821924117162149, 0.8398574074753521, 0.8759939864052796, 0.5522278710419545, 0.8939033364181148, 1.0000000000000004, 0.8358549027015302, 0.830387041170546, 0.8473023861211056, 0.8356773595010623]\n",
            "[0.6699157167331273, 0.712336866866208, 0.9153733667515606, 0.6354271627913148, 0.9236022054189338, 0.8358549027015302, 1.0000000000000002, 0.9710921704898344, 0.9765243314981066, 0.8611492973714893]\n",
            "[0.6804829785360741, 0.6886415073323611, 0.9166992571388998, 0.6323395690803529, 0.9202668380974736, 0.830387041170546, 0.9710921704898344, 1.0, 0.9565334849249258, 0.8791122633643844]\n",
            "[0.6514627094459102, 0.7270374351441361, 0.9030308908000287, 0.6183745254838989, 0.9123002463205736, 0.8473023861211056, 0.9765243314981066, 0.9565334849249258, 1.0000000000000002, 0.8423546412339659]\n",
            "[0.7654593746862066, 0.6935055146039615, 0.8822070903028939, 0.7053201309900348, 0.8912476097466058, 0.8356773595010623, 0.8611492973714893, 0.8791122633643844, 0.8423546412339659, 1.0]\n"
          ]
        }
      ]
    },
    {
      "cell_type": "code",
      "source": [
        "mean_value = np.mean(similarity_matrix)\n",
        "print(\"The cosine similarity for climate vs:\", mean_value)"
      ],
      "metadata": {
        "colab": {
          "base_uri": "https://localhost:8080/"
        },
        "id": "Hc5M83zgrB3Y",
        "outputId": "075aca76-906e-4b63-b206-197f3f251e58"
      },
      "execution_count": null,
      "outputs": [
        {
          "output_type": "stream",
          "name": "stdout",
          "text": [
            "The cosine similarity for climate vs: 0.802785641885307\n"
          ]
        }
      ]
    },
    {
      "cell_type": "code",
      "source": [
        "file_path = '/content/climte vpd.xlsx'\n",
        "data = pd.read_excel(file_path)\n",
        "vector1=data.iloc[0]\n",
        "vector2=data.iloc[1]\n",
        "vector3=data.iloc[2]\n",
        "vector4=data.iloc[3]\n",
        "vector5=data.iloc[4]\n",
        "vector6=data.iloc[5]\n",
        "vector7=data.iloc[6]\n",
        "vector8=data.iloc[7]\n",
        "vector9=data.iloc[8]\n",
        "vector10=data.iloc[9]\n",
        "vectors = [vector1, vector2, vector3, vector4, vector5, vector6, vector7, vector8, vector9, vector10]"
      ],
      "metadata": {
        "id": "ozW7q0BMrMcE"
      },
      "execution_count": null,
      "outputs": []
    },
    {
      "cell_type": "code",
      "source": [
        "# Calculate cosine similarity for each pair of vectors\n",
        "similarity_matrix = []\n",
        "for i in range(len(vectors)):\n",
        "    similarities = []\n",
        "    for j in range(len(vectors)):\n",
        "        similarity_score = cosine_similarity(vectors[i], vectors[j])\n",
        "        similarities.append(similarity_score)\n",
        "    similarity_matrix.append(similarities)\n",
        "\n",
        "# Print similarity matrix\n",
        "for row in similarity_matrix:\n",
        "    print(row)"
      ],
      "metadata": {
        "colab": {
          "base_uri": "https://localhost:8080/"
        },
        "id": "ITPAGBeTrMet",
        "outputId": "cae249fc-f59b-46da-93e7-bd60f527e603"
      },
      "execution_count": null,
      "outputs": [
        {
          "output_type": "stream",
          "name": "stdout",
          "text": [
            "[1.0000000000000002, 0.7203284017109782, 0.8837828936076968, 0.8655655047167008, 0.8427618676616008, 0.8832438338348644, 0.898980727417532, 0.8531204585594331, 0.9086014370381891, 0.9033843029744665]\n",
            "[0.7203284017109782, 1.0000000000000002, 0.7783380032766342, 0.7523791204874526, 0.684438106135809, 0.7837004979579745, 0.7223793319104987, 0.6899615384491119, 0.7261128074023508, 0.7468404597146754]\n",
            "[0.8837828936076968, 0.7783380032766342, 1.0000000000000002, 0.8460774954133962, 0.854694412354749, 0.8798758643909805, 0.8435293402178026, 0.8191402919753864, 0.8125242333623199, 0.8620942532890927]\n",
            "[0.8655655047167008, 0.7523791204874526, 0.8460774954133962, 1.0, 0.8090158954185752, 0.8891042074831407, 0.8741010710266176, 0.8057076793961526, 0.8669851714192188, 0.8679639109806823]\n",
            "[0.8427618676616008, 0.684438106135809, 0.854694412354749, 0.8090158954185752, 0.9999999999999996, 0.8558930757598454, 0.8212097756271551, 0.8053549588759263, 0.8413106262659523, 0.8643649664173708]\n",
            "[0.8832438338348644, 0.7837004979579745, 0.8798758643909805, 0.8891042074831407, 0.8558930757598454, 0.9999999999999998, 0.8993086741935029, 0.8323281872737361, 0.8902612116876217, 0.8996274909802766]\n",
            "[0.898980727417532, 0.7223793319104987, 0.8435293402178026, 0.8741010710266176, 0.8212097756271551, 0.8993086741935029, 0.9999999999999999, 0.8416428661369927, 0.8964064608688296, 0.9455242989459299]\n",
            "[0.8531204585594331, 0.6899615384491119, 0.8191402919753864, 0.8057076793961526, 0.8053549588759263, 0.8323281872737361, 0.8416428661369927, 0.9999999999999999, 0.8565919507158704, 0.8421253777289952]\n",
            "[0.9086014370381891, 0.7261128074023508, 0.8125242333623199, 0.8669851714192188, 0.8413106262659523, 0.8902612116876217, 0.8964064608688296, 0.8565919507158704, 1.0000000000000002, 0.8854410831114626]\n",
            "[0.9033843029744665, 0.7468404597146754, 0.8620942532890927, 0.8679639109806823, 0.8643649664173708, 0.8996274909802766, 0.9455242989459299, 0.8421253777289952, 0.8854410831114626, 1.0000000000000004]\n"
          ]
        }
      ]
    },
    {
      "cell_type": "code",
      "source": [
        "mean_value = np.mean(similarity_matrix)\n",
        "print(\"The cosine similarity for climate vs:\", mean_value)"
      ],
      "metadata": {
        "colab": {
          "base_uri": "https://localhost:8080/"
        },
        "id": "ETQ4EAcnrMhV",
        "outputId": "9cf1175a-8c61-49b2-92a0-27f6c61a5221"
      },
      "execution_count": null,
      "outputs": [
        {
          "output_type": "stream",
          "name": "stdout",
          "text": [
            "The cosine similarity for climate vs: 0.8530424824834709\n"
          ]
        }
      ]
    },
    {
      "cell_type": "code",
      "source": [
        "file_path = '/content/Soil bdod.xlsx'\n",
        "data = pd.read_excel(file_path)\n",
        "vector1=data.iloc[0]\n",
        "vector2=data.iloc[1]\n",
        "vector3=data.iloc[2]\n",
        "vector4=data.iloc[3]\n",
        "vector5=data.iloc[4]\n",
        "vector6=data.iloc[5]\n",
        "vector7=data.iloc[6]\n",
        "vector8=data.iloc[7]\n",
        "vector9=data.iloc[8]\n",
        "vector10=data.iloc[9]\n",
        "vectors = [vector1, vector2, vector3, vector4, vector5, vector6, vector7, vector8, vector9, vector10]"
      ],
      "metadata": {
        "id": "hcZOt7ebrMjz"
      },
      "execution_count": null,
      "outputs": []
    },
    {
      "cell_type": "code",
      "source": [
        "# Calculate cosine similarity for each pair of vectors\n",
        "similarity_matrix = []\n",
        "for i in range(len(vectors)):\n",
        "    similarities = []\n",
        "    for j in range(len(vectors)):\n",
        "        similarity_score = cosine_similarity(vectors[i], vectors[j])\n",
        "        similarities.append(similarity_score)\n",
        "    similarity_matrix.append(similarities)\n",
        "\n",
        "# Print similarity matrix\n",
        "for row in similarity_matrix:\n",
        "    print(row)"
      ],
      "metadata": {
        "id": "DOHYGAH1rMmV"
      },
      "execution_count": null,
      "outputs": []
    },
    {
      "cell_type": "code",
      "source": [
        "mean_value = np.mean(similarity_matrix)\n",
        "print(\"The cosine similarity for Soil bdod:\", mean_value)"
      ],
      "metadata": {
        "colab": {
          "base_uri": "https://localhost:8080/"
        },
        "id": "_ZZsSGTVrMpK",
        "outputId": "2ebdd44b-f0ff-4dd1-fb94-fffc880b0ba4"
      },
      "execution_count": null,
      "outputs": [
        {
          "output_type": "stream",
          "name": "stdout",
          "text": [
            "The cosine similarity for Soil bdod: 0.5796120943172922\n"
          ]
        }
      ]
    },
    {
      "cell_type": "code",
      "source": [
        "file_path = '/content/Soil cec.xlsx'\n",
        "data = pd.read_excel(file_path)\n",
        "vector1=data.iloc[0]\n",
        "vector2=data.iloc[1]\n",
        "vector3=data.iloc[2]\n",
        "vector4=data.iloc[3]\n",
        "vector5=data.iloc[4]\n",
        "vector6=data.iloc[5]\n",
        "vector7=data.iloc[6]\n",
        "vector8=data.iloc[7]\n",
        "vector9=data.iloc[8]\n",
        "vector10=data.iloc[9]\n",
        "vectors = [vector1, vector2, vector3, vector4, vector5, vector6, vector7, vector8, vector9, vector10]"
      ],
      "metadata": {
        "id": "NNaRU0sbrMsp"
      },
      "execution_count": null,
      "outputs": []
    },
    {
      "cell_type": "code",
      "source": [
        "# Calculate cosine similarity for each pair of vectors\n",
        "similarity_matrix = []\n",
        "for i in range(len(vectors)):\n",
        "    similarities = []\n",
        "    for j in range(len(vectors)):\n",
        "        similarity_score = cosine_similarity(vectors[i], vectors[j])\n",
        "        similarities.append(similarity_score)\n",
        "    similarity_matrix.append(similarities)"
      ],
      "metadata": {
        "id": "QNBaOz8Ir1hP"
      },
      "execution_count": null,
      "outputs": []
    },
    {
      "cell_type": "code",
      "source": [
        "mean_value = np.mean(similarity_matrix)\n",
        "print(\"The cosine similarity for Soil cec:\", mean_value)"
      ],
      "metadata": {
        "colab": {
          "base_uri": "https://localhost:8080/"
        },
        "id": "lkwWXAMKr1sv",
        "outputId": "31ad4c4e-fcbe-4456-a26c-3f22f27b4277"
      },
      "execution_count": null,
      "outputs": [
        {
          "output_type": "stream",
          "name": "stdout",
          "text": [
            "The cosine similarity for Soil cec: 0.8100220818467543\n"
          ]
        }
      ]
    },
    {
      "cell_type": "code",
      "source": [
        "file_path = '/content/Soil cfvo.xlsx'\n",
        "data = pd.read_excel(file_path)\n",
        "vector1=data.iloc[0]\n",
        "vector2=data.iloc[1]\n",
        "vector3=data.iloc[2]\n",
        "vector4=data.iloc[3]\n",
        "vector5=data.iloc[4]\n",
        "vector6=data.iloc[5]\n",
        "vector7=data.iloc[6]\n",
        "vector8=data.iloc[7]\n",
        "vector9=data.iloc[8]\n",
        "vector10=data.iloc[9]\n",
        "vectors = [vector1, vector2, vector3, vector4, vector5, vector6, vector7, vector8, vector9, vector10]"
      ],
      "metadata": {
        "id": "jzXBagEir1y6"
      },
      "execution_count": null,
      "outputs": []
    },
    {
      "cell_type": "code",
      "source": [
        "# Calculate cosine similarity for each pair of vectors\n",
        "similarity_matrix = []\n",
        "for i in range(len(vectors)):\n",
        "    similarities = []\n",
        "    for j in range(len(vectors)):\n",
        "        similarity_score = cosine_similarity(vectors[i], vectors[j])\n",
        "        similarities.append(similarity_score)\n",
        "    similarity_matrix.append(similarities)"
      ],
      "metadata": {
        "id": "6jnCgBErsGok"
      },
      "execution_count": null,
      "outputs": []
    },
    {
      "cell_type": "code",
      "source": [
        "mean_value = np.mean(similarity_matrix)\n",
        "print(\"The cosine similarity for Soil cfvo:\", mean_value)"
      ],
      "metadata": {
        "colab": {
          "base_uri": "https://localhost:8080/"
        },
        "id": "V8xS1E3ysId1",
        "outputId": "ad9b84cc-5b54-4ca8-b048-7ca5ac191cc0"
      },
      "execution_count": null,
      "outputs": [
        {
          "output_type": "stream",
          "name": "stdout",
          "text": [
            "The cosine similarity for Soil cfvo: 0.8413068737534823\n"
          ]
        }
      ]
    },
    {
      "cell_type": "code",
      "source": [
        "file_path = '/content/Soil clay.xlsx'\n",
        "data = pd.read_excel(file_path)\n",
        "vector1=data.iloc[0]\n",
        "vector2=data.iloc[1]\n",
        "vector3=data.iloc[2]\n",
        "vector4=data.iloc[3]\n",
        "vector5=data.iloc[4]\n",
        "vector6=data.iloc[5]\n",
        "vector7=data.iloc[6]\n",
        "vector8=data.iloc[7]\n",
        "vector9=data.iloc[8]\n",
        "vector10=data.iloc[9]\n",
        "vectors = [vector1, vector2, vector3, vector4, vector5, vector6, vector7, vector8, vector9, vector10]\n",
        "\n",
        "# Calculate cosine similarity for each pair of vectors\n",
        "similarity_matrix = []\n",
        "for i in range(len(vectors)):\n",
        "    similarities = []\n",
        "    for j in range(len(vectors)):\n",
        "        similarity_score = cosine_similarity(vectors[i], vectors[j])\n",
        "        similarities.append(similarity_score)\n",
        "    similarity_matrix.append(similarities)"
      ],
      "metadata": {
        "id": "_zjyOJqDsQQK"
      },
      "execution_count": null,
      "outputs": []
    },
    {
      "cell_type": "code",
      "source": [
        "mean_value = np.mean(similarity_matrix)\n",
        "print(\"The cosine similarity for Soil clay:\", mean_value)"
      ],
      "metadata": {
        "colab": {
          "base_uri": "https://localhost:8080/"
        },
        "id": "DJzi-PF6sVE9",
        "outputId": "f4d2cb16-5723-4645-d9db-09ffcf8c4168"
      },
      "execution_count": null,
      "outputs": [
        {
          "output_type": "stream",
          "name": "stdout",
          "text": [
            "The cosine similarity for Soil clay: 0.8607906218652898\n"
          ]
        }
      ]
    },
    {
      "cell_type": "code",
      "source": [
        "file_path = '/content/Soil nitrogen.xlsx'\n",
        "data = pd.read_excel(file_path)\n",
        "vector1=data.iloc[0]\n",
        "vector2=data.iloc[1]\n",
        "vector3=data.iloc[2]\n",
        "vector4=data.iloc[3]\n",
        "vector5=data.iloc[4]\n",
        "vector6=data.iloc[5]\n",
        "vector7=data.iloc[6]\n",
        "vector8=data.iloc[7]\n",
        "vector9=data.iloc[8]\n",
        "vector10=data.iloc[9]\n",
        "vectors = [vector1, vector2, vector3, vector4, vector5, vector6, vector7, vector8, vector9, vector10]\n",
        "\n",
        "# Calculate cosine similarity for each pair of vectors\n",
        "similarity_matrix = []\n",
        "for i in range(len(vectors)):\n",
        "    similarities = []\n",
        "    for j in range(len(vectors)):\n",
        "        similarity_score = cosine_similarity(vectors[i], vectors[j])\n",
        "        similarities.append(similarity_score)\n",
        "    similarity_matrix.append(similarities)"
      ],
      "metadata": {
        "id": "jz2TsMhbsSLr"
      },
      "execution_count": null,
      "outputs": []
    },
    {
      "cell_type": "code",
      "source": [
        "mean_value = np.mean(similarity_matrix)\n",
        "print(\"The cosine similarity for Soil nitrogen:\", mean_value)"
      ],
      "metadata": {
        "colab": {
          "base_uri": "https://localhost:8080/"
        },
        "id": "so8mNc7ssfx-",
        "outputId": "9f6aefdf-ad95-4210-990f-dd5c5ff3e9d3"
      },
      "execution_count": null,
      "outputs": [
        {
          "output_type": "stream",
          "name": "stdout",
          "text": [
            "The cosine similarity for Soil nitrogen: 0.9148648839490364\n"
          ]
        }
      ]
    },
    {
      "cell_type": "code",
      "source": [
        "file_path = '/content/Soil ocd.xlsx'\n",
        "data = pd.read_excel(file_path)\n",
        "vector1=data.iloc[0]\n",
        "vector2=data.iloc[1]\n",
        "vector3=data.iloc[2]\n",
        "vector4=data.iloc[3]\n",
        "vector5=data.iloc[4]\n",
        "vector6=data.iloc[5]\n",
        "vector7=data.iloc[6]\n",
        "vector8=data.iloc[7]\n",
        "vector9=data.iloc[8]\n",
        "vector10=data.iloc[9]\n",
        "vectors = [vector1, vector2, vector3, vector4, vector5, vector6, vector7, vector8, vector9, vector10]\n",
        "\n",
        "# Calculate cosine similarity for each pair of vectors\n",
        "similarity_matrix = []\n",
        "for i in range(len(vectors)):\n",
        "    similarities = []\n",
        "    for j in range(len(vectors)):\n",
        "        similarity_score = cosine_similarity(vectors[i], vectors[j])\n",
        "        similarities.append(similarity_score)\n",
        "    similarity_matrix.append(similarities)"
      ],
      "metadata": {
        "id": "WdevW7xQsmaJ"
      },
      "execution_count": null,
      "outputs": []
    },
    {
      "cell_type": "code",
      "source": [
        "mean_value = np.mean(similarity_matrix)\n",
        "print(\"The cosine similarity for Soil ocd:\", mean_value)"
      ],
      "metadata": {
        "colab": {
          "base_uri": "https://localhost:8080/"
        },
        "id": "d339fWvssrnu",
        "outputId": "dc1881ff-bfb7-45ee-de3b-2a837bf930aa"
      },
      "execution_count": null,
      "outputs": [
        {
          "output_type": "stream",
          "name": "stdout",
          "text": [
            "The cosine similarity for Soil ocd: 0.7849197476329038\n"
          ]
        }
      ]
    },
    {
      "cell_type": "code",
      "source": [
        "file_path = '/content/Soil ocs.xlsx'\n",
        "data = pd.read_excel(file_path)\n",
        "vector1=data.iloc[0]\n",
        "vector2=data.iloc[1]\n",
        "vector3=data.iloc[2]\n",
        "vector4=data.iloc[3]\n",
        "vector5=data.iloc[4]\n",
        "vector6=data.iloc[5]\n",
        "vector7=data.iloc[6]\n",
        "vector8=data.iloc[7]\n",
        "vector9=data.iloc[8]\n",
        "vector10=data.iloc[9]\n",
        "vectors = [vector1, vector2, vector3, vector4, vector5, vector6, vector7, vector8, vector9, vector10]\n",
        "\n",
        "# Calculate cosine similarity for each pair of vectors\n",
        "similarity_matrix = []\n",
        "for i in range(len(vectors)):\n",
        "    similarities = []\n",
        "    for j in range(len(vectors)):\n",
        "        similarity_score = cosine_similarity(vectors[i], vectors[j])\n",
        "        similarities.append(similarity_score)\n",
        "    similarity_matrix.append(similarities)"
      ],
      "metadata": {
        "id": "uOIWfP8EsuIc"
      },
      "execution_count": null,
      "outputs": []
    },
    {
      "cell_type": "code",
      "source": [
        "mean_value = np.mean(similarity_matrix)\n",
        "print(\"The cosine similarity for Soil ocs:\", mean_value)"
      ],
      "metadata": {
        "colab": {
          "base_uri": "https://localhost:8080/"
        },
        "id": "cfOEcu36syQC",
        "outputId": "847db0b9-cc30-4e31-8ffb-c0e165bc7292"
      },
      "execution_count": null,
      "outputs": [
        {
          "output_type": "stream",
          "name": "stdout",
          "text": [
            "The cosine similarity for Soil ocs: 0.770107699733908\n"
          ]
        }
      ]
    },
    {
      "cell_type": "code",
      "source": [
        "file_path = '/content/Soil phh2o.xlsx'\n",
        "data = pd.read_excel(file_path)\n",
        "vector1=data.iloc[0]\n",
        "vector2=data.iloc[1]\n",
        "vector3=data.iloc[2]\n",
        "vector4=data.iloc[3]\n",
        "vector5=data.iloc[4]\n",
        "vector6=data.iloc[5]\n",
        "vector7=data.iloc[6]\n",
        "vector8=data.iloc[7]\n",
        "vector9=data.iloc[8]\n",
        "vector10=data.iloc[9]\n",
        "vectors = [vector1, vector2, vector3, vector4, vector5, vector6, vector7, vector8, vector9, vector10]\n",
        "\n",
        "# Calculate cosine similarity for each pair of vectors\n",
        "similarity_matrix = []\n",
        "for i in range(len(vectors)):\n",
        "    similarities = []\n",
        "    for j in range(len(vectors)):\n",
        "        similarity_score = cosine_similarity(vectors[i], vectors[j])\n",
        "        similarities.append(similarity_score)\n",
        "    similarity_matrix.append(similarities)"
      ],
      "metadata": {
        "id": "aYcQfZBos3Y9"
      },
      "execution_count": null,
      "outputs": []
    },
    {
      "cell_type": "code",
      "source": [
        "mean_value = np.mean(similarity_matrix)\n",
        "print(\"The cosine similarity for Soil phh2o:\", mean_value)"
      ],
      "metadata": {
        "colab": {
          "base_uri": "https://localhost:8080/"
        },
        "id": "k-9zrFYzs3k8",
        "outputId": "680e0049-fbb7-45fa-ccfe-d4930216b2fc"
      },
      "execution_count": null,
      "outputs": [
        {
          "output_type": "stream",
          "name": "stdout",
          "text": [
            "The cosine similarity for Soil phh2o: 0.5749187000384246\n"
          ]
        }
      ]
    },
    {
      "cell_type": "code",
      "source": [
        "file_path = '/content/Soil Sand.xlsx'\n",
        "data = pd.read_excel(file_path)\n",
        "vector1=data.iloc[0]\n",
        "vector2=data.iloc[1]\n",
        "vector3=data.iloc[2]\n",
        "vector4=data.iloc[3]\n",
        "vector5=data.iloc[4]\n",
        "vector6=data.iloc[5]\n",
        "vector7=data.iloc[6]\n",
        "vector8=data.iloc[7]\n",
        "vector9=data.iloc[8]\n",
        "vector10=data.iloc[9]\n",
        "vectors = [vector1, vector2, vector3, vector4, vector5, vector6, vector7, vector8, vector9, vector10]\n",
        "\n",
        "# Calculate cosine similarity for each pair of vectors\n",
        "similarity_matrix = []\n",
        "for i in range(len(vectors)):\n",
        "    similarities = []\n",
        "    for j in range(len(vectors)):\n",
        "        similarity_score = cosine_similarity(vectors[i], vectors[j])\n",
        "        similarities.append(similarity_score)\n",
        "    similarity_matrix.append(similarities)"
      ],
      "metadata": {
        "id": "9v4cDGTWs3na"
      },
      "execution_count": null,
      "outputs": []
    },
    {
      "cell_type": "code",
      "source": [
        "mean_value = np.mean(similarity_matrix)\n",
        "print(\"The cosine similarity for Soil Sand:\", mean_value)"
      ],
      "metadata": {
        "colab": {
          "base_uri": "https://localhost:8080/"
        },
        "id": "27aU1ngRs3p_",
        "outputId": "e219560a-9ee4-4f37-964a-c4a11b6de8b4"
      },
      "execution_count": null,
      "outputs": [
        {
          "output_type": "stream",
          "name": "stdout",
          "text": [
            "The cosine similarity for Soil Sand: 0.7820714701685774\n"
          ]
        }
      ]
    },
    {
      "cell_type": "code",
      "source": [
        "file_path = '/content/Soil silt.xlsx'\n",
        "data = pd.read_excel(file_path)\n",
        "vector1=data.iloc[0]\n",
        "vector2=data.iloc[1]\n",
        "vector3=data.iloc[2]\n",
        "vector4=data.iloc[3]\n",
        "vector5=data.iloc[4]\n",
        "vector6=data.iloc[5]\n",
        "vector7=data.iloc[6]\n",
        "vector8=data.iloc[7]\n",
        "vector9=data.iloc[8]\n",
        "vector10=data.iloc[9]\n",
        "vectors = [vector1, vector2, vector3, vector4, vector5, vector6, vector7, vector8, vector9, vector10]\n",
        "\n",
        "# Calculate cosine similarity for each pair of vectors\n",
        "similarity_matrix = []\n",
        "for i in range(len(vectors)):\n",
        "    similarities = []\n",
        "    for j in range(len(vectors)):\n",
        "        similarity_score = cosine_similarity(vectors[i], vectors[j])\n",
        "        similarities.append(similarity_score)\n",
        "    similarity_matrix.append(similarities)"
      ],
      "metadata": {
        "id": "QL00n4Rss3sZ"
      },
      "execution_count": null,
      "outputs": []
    },
    {
      "cell_type": "code",
      "source": [
        "mean_value = np.mean(similarity_matrix)\n",
        "print(\"The cosine similarity for Soil silt:\", mean_value)"
      ],
      "metadata": {
        "colab": {
          "base_uri": "https://localhost:8080/"
        },
        "id": "I5sR314Ws3u-",
        "outputId": "cb20e3a7-1420-4897-902f-c47d1da296a9"
      },
      "execution_count": null,
      "outputs": [
        {
          "output_type": "stream",
          "name": "stdout",
          "text": [
            "The cosine similarity for Soil silt: 0.7864672873944188\n"
          ]
        }
      ]
    },
    {
      "cell_type": "code",
      "source": [
        "file_path = '/content/Soil soc.xlsx'\n",
        "data = pd.read_excel(file_path)\n",
        "vector1=data.iloc[0]\n",
        "vector2=data.iloc[1]\n",
        "vector3=data.iloc[2]\n",
        "vector4=data.iloc[3]\n",
        "vector5=data.iloc[4]\n",
        "vector6=data.iloc[5]\n",
        "vector7=data.iloc[6]\n",
        "vector8=data.iloc[7]\n",
        "vector9=data.iloc[8]\n",
        "vector10=data.iloc[9]\n",
        "vectors = [vector1, vector2, vector3, vector4, vector5, vector6, vector7, vector8, vector9, vector10]\n",
        "\n",
        "# Calculate cosine similarity for each pair of vectors\n",
        "similarity_matrix = []\n",
        "for i in range(len(vectors)):\n",
        "    similarities = []\n",
        "    for j in range(len(vectors)):\n",
        "        similarity_score = cosine_similarity(vectors[i], vectors[j])\n",
        "        similarities.append(similarity_score)\n",
        "    similarity_matrix.append(similarities)"
      ],
      "metadata": {
        "id": "WV9I-ILfs3xl"
      },
      "execution_count": null,
      "outputs": []
    },
    {
      "cell_type": "code",
      "source": [
        "mean_value = np.mean(similarity_matrix)\n",
        "print(\"The cosine similarity for Soil soc:\", mean_value)"
      ],
      "metadata": {
        "colab": {
          "base_uri": "https://localhost:8080/"
        },
        "id": "hB7Q3dqPs3z1",
        "outputId": "80a9b313-ee94-4073-c30b-143efb4ca047"
      },
      "execution_count": null,
      "outputs": [
        {
          "output_type": "stream",
          "name": "stdout",
          "text": [
            "The cosine similarity for Soil soc: 0.920878431351841\n"
          ]
        }
      ]
    },
    {
      "cell_type": "code",
      "source": [
        "file_path = '/content/Thermal max.xlsx'\n",
        "data = pd.read_excel(file_path)\n",
        "vector1=data.iloc[0]\n",
        "vector2=data.iloc[1]\n",
        "vector3=data.iloc[2]\n",
        "vector4=data.iloc[3]\n",
        "vector5=data.iloc[4]\n",
        "vector6=data.iloc[5]\n",
        "vector7=data.iloc[6]\n",
        "vector8=data.iloc[7]\n",
        "vector9=data.iloc[8]\n",
        "vector10=data.iloc[9]\n",
        "vectors = [vector1, vector2, vector3, vector4, vector5, vector6, vector7, vector8, vector9, vector10]\n",
        "\n",
        "# Calculate cosine similarity for each pair of vectors\n",
        "similarity_matrix = []\n",
        "for i in range(len(vectors)):\n",
        "    similarities = []\n",
        "    for j in range(len(vectors)):\n",
        "        similarity_score = cosine_similarity(vectors[i], vectors[j])\n",
        "        similarities.append(similarity_score)\n",
        "    similarity_matrix.append(similarities)"
      ],
      "metadata": {
        "id": "TiA3qI3Fs32Q"
      },
      "execution_count": null,
      "outputs": []
    },
    {
      "cell_type": "code",
      "source": [
        "mean_value = np.mean(similarity_matrix)\n",
        "print(\"The cosine similarity for Thermal max:\", mean_value)"
      ],
      "metadata": {
        "colab": {
          "base_uri": "https://localhost:8080/"
        },
        "id": "5544dK4As347",
        "outputId": "32e4340f-b5ed-4245-eb44-f6b18f81d50d"
      },
      "execution_count": null,
      "outputs": [
        {
          "output_type": "stream",
          "name": "stdout",
          "text": [
            "The cosine similarity for Thermal max: 0.920878431351841\n"
          ]
        }
      ]
    },
    {
      "cell_type": "code",
      "source": [
        "file_path = '/content/Thermal min.xlsx'\n",
        "data = pd.read_excel(file_path)\n",
        "vector1=data.iloc[0]\n",
        "vector2=data.iloc[1]\n",
        "vector3=data.iloc[2]\n",
        "vector4=data.iloc[3]\n",
        "vector5=data.iloc[4]\n",
        "vector6=data.iloc[5]\n",
        "vector7=data.iloc[6]\n",
        "vector8=data.iloc[7]\n",
        "vector9=data.iloc[8]\n",
        "vector10=data.iloc[9]\n",
        "vectors = [vector1, vector2, vector3, vector4, vector5, vector6, vector7, vector8, vector9, vector10]\n",
        "\n",
        "# Calculate cosine similarity for each pair of vectors\n",
        "similarity_matrix = []\n",
        "for i in range(len(vectors)):\n",
        "    similarities = []\n",
        "    for j in range(len(vectors)):\n",
        "        similarity_score = cosine_similarity(vectors[i], vectors[j])\n",
        "        similarities.append(similarity_score)\n",
        "    similarity_matrix.append(similarities)"
      ],
      "metadata": {
        "id": "MfGkB7zas37y"
      },
      "execution_count": null,
      "outputs": []
    },
    {
      "cell_type": "code",
      "source": [
        "mean_value = np.mean(similarity_matrix)\n",
        "print(\"The cosine similarity for Thermal min:\", mean_value)"
      ],
      "metadata": {
        "colab": {
          "base_uri": "https://localhost:8080/"
        },
        "id": "vMbhGAbvs3_J",
        "outputId": "4038797c-73e8-4fc8-de27-a457fa330cce"
      },
      "execution_count": null,
      "outputs": [
        {
          "output_type": "stream",
          "name": "stdout",
          "text": [
            "The cosine similarity for Thermal min: 0.8696241176775665\n"
          ]
        }
      ]
    },
    {
      "cell_type": "code",
      "source": [
        "file_path = '/content/Yield.xlsx'\n",
        "data = pd.read_excel(file_path)\n",
        "vector1=data.iloc[0]\n",
        "vector2=data.iloc[1]\n",
        "vector3=data.iloc[2]\n",
        "vector4=data.iloc[3]\n",
        "vector5=data.iloc[4]\n",
        "vector6=data.iloc[5]\n",
        "vector7=data.iloc[6]\n",
        "vector8=data.iloc[7]\n",
        "vector9=data.iloc[8]\n",
        "vector10=data.iloc[9]\n",
        "\n",
        "vectors = [vector1, vector2, vector3, vector4, vector5, vector6, vector7, vector8, vector9, vector10]\n",
        "\n",
        "# Calculate cosine similarity for each pair of vectors\n",
        "similarity_matrix = []\n",
        "for i in range(len(vectors)):\n",
        "    similarities = []\n",
        "    for j in range(len(vectors)):\n",
        "        similarity_score = cosine_similarity(vectors[i], vectors[j])\n",
        "        similarities.append(similarity_score)\n",
        "    similarity_matrix.append(similarities)"
      ],
      "metadata": {
        "id": "ZKgwCX8xuAnt"
      },
      "execution_count": null,
      "outputs": []
    },
    {
      "cell_type": "code",
      "source": [
        "mean_value = np.mean(similarity_matrix)\n",
        "print(\"The cosine similarity for Yield:\", mean_value)"
      ],
      "metadata": {
        "colab": {
          "base_uri": "https://localhost:8080/"
        },
        "id": "Bf04qX8OuFU3",
        "outputId": "316d0462-cfa8-46fb-dec9-fd2be9dc4f30"
      },
      "execution_count": null,
      "outputs": [
        {
          "output_type": "stream",
          "name": "stdout",
          "text": [
            "The cosine similarity for Yield: 0.9673415256461211\n"
          ]
        }
      ]
    },
    {
      "cell_type": "code",
      "source": [
        "file_path = '/content/Year.xlsx'\n",
        "data = pd.read_excel(file_path)\n",
        "vector1=data.iloc[0]\n",
        "vector2=data.iloc[1]\n",
        "vector3=data.iloc[2]\n",
        "vector4=data.iloc[3]\n",
        "\n",
        "vectors = [vector1, vector2, vector3, vector4]\n",
        "\n",
        "# Calculate cosine similarity for each pair of vectors\n",
        "similarity_matrix = []\n",
        "for i in range(len(vectors)):\n",
        "    similarities = []\n",
        "    for j in range(len(vectors)):\n",
        "        similarity_score = cosine_similarity(vectors[i], vectors[j])\n",
        "        similarities.append(similarity_score)\n",
        "    similarity_matrix.append(similarities)"
      ],
      "metadata": {
        "id": "TwrZP4Hwo010"
      },
      "execution_count": null,
      "outputs": []
    },
    {
      "cell_type": "code",
      "source": [
        "mean_value = np.mean(similarity_matrix)\n",
        "print(\"The cosine similarity for Year:\", mean_value)"
      ],
      "metadata": {
        "colab": {
          "base_uri": "https://localhost:8080/"
        },
        "id": "1gVu9QG4o04V",
        "outputId": "100ccfae-d559-4225-ed96-f143e45f3e73"
      },
      "execution_count": null,
      "outputs": [
        {
          "output_type": "stream",
          "name": "stdout",
          "text": [
            "The cosine similarity for Year: 0.5434787095898658\n"
          ]
        }
      ]
    },
    {
      "cell_type": "code",
      "source": [],
      "metadata": {
        "id": "5Pl4hGWRo06v"
      },
      "execution_count": null,
      "outputs": []
    },
    {
      "cell_type": "code",
      "source": [],
      "metadata": {
        "id": "u0fpCpaTo09F"
      },
      "execution_count": null,
      "outputs": []
    },
    {
      "cell_type": "code",
      "source": [],
      "metadata": {
        "id": "N-HDLc1Po0_0"
      },
      "execution_count": null,
      "outputs": []
    },
    {
      "cell_type": "code",
      "source": [],
      "metadata": {
        "id": "UYO8mRNGo1DE"
      },
      "execution_count": null,
      "outputs": []
    },
    {
      "cell_type": "code",
      "source": [],
      "metadata": {
        "id": "9LCcrXiCo1Gs"
      },
      "execution_count": null,
      "outputs": []
    }
  ]
}