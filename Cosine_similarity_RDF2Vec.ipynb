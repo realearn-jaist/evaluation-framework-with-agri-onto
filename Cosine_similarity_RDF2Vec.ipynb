{
  "nbformat": 4,
  "nbformat_minor": 0,
  "metadata": {
    "colab": {
      "provenance": []
    },
    "kernelspec": {
      "name": "python3",
      "display_name": "Python 3"
    },
    "language_info": {
      "name": "python"
    }
  },
  "cells": [
    {
      "cell_type": "code",
      "execution_count": null,
      "metadata": {
        "id": "MeAEK-4p_Kv4"
      },
      "outputs": [],
      "source": [
        "import numpy as np\n",
        "\n",
        "def cosine_similarity(vector_a, vector_b):\n",
        "    dot_product = np.dot(vector_a, vector_b)\n",
        "    magnitude_a = np.linalg.norm(vector_a)\n",
        "    magnitude_b = np.linalg.norm(vector_b)\n",
        "    similarity = dot_product / (magnitude_a * magnitude_b)\n",
        "    return similarity"
      ]
    },
    {
      "cell_type": "code",
      "source": [
        "import pandas as pd"
      ],
      "metadata": {
        "id": "5-eISHay_T-9"
      },
      "execution_count": null,
      "outputs": []
    },
    {
      "cell_type": "code",
      "source": [
        "file_path = '/content/Field ID.xlsx'\n",
        "data = pd.read_excel(file_path)\n",
        "vector1=data.iloc[0]\n",
        "vector2=data.iloc[1]\n",
        "vector3=data.iloc[2]\n",
        "vector4=data.iloc[3]\n",
        "vector5=data.iloc[4]\n",
        "vector6=data.iloc[5]\n",
        "vector7=data.iloc[6]\n",
        "vector8=data.iloc[7]\n",
        "vector9=data.iloc[8]\n",
        "vector10=data.iloc[9]\n",
        "vectors = [vector1, vector2, vector3, vector4, vector5, vector6, vector7, vector8, vector9, vector10]"
      ],
      "metadata": {
        "id": "89AAmWaC_XAO"
      },
      "execution_count": null,
      "outputs": []
    },
    {
      "cell_type": "code",
      "source": [
        "# Calculate cosine similarity for each pair of vectors\n",
        "similarity_matrix = []\n",
        "for i in range(len(vectors)):\n",
        "    similarities = []\n",
        "    for j in range(len(vectors)):\n",
        "        similarity_score = cosine_similarity(vectors[i], vectors[j])\n",
        "        similarities.append(similarity_score)\n",
        "    similarity_matrix.append(similarities)\n"
      ],
      "metadata": {
        "id": "TtJgzXFn_XdM"
      },
      "execution_count": null,
      "outputs": []
    },
    {
      "cell_type": "code",
      "source": [
        "max_value = np.max(similarity_matrix)\n",
        "print(max_value)"
      ],
      "metadata": {
        "colab": {
          "base_uri": "https://localhost:8080/"
        },
        "id": "OxMurPma_b-o",
        "outputId": "b852b7f2-55b7-4901-c879-6073c0274f62"
      },
      "execution_count": null,
      "outputs": [
        {
          "output_type": "stream",
          "name": "stdout",
          "text": [
            "1.0000000000000004\n"
          ]
        }
      ]
    },
    {
      "cell_type": "code",
      "source": [
        "mean_value = np.mean(similarity_matrix)\n",
        "print(\"The cosine similarity for Field:\", mean_value)"
      ],
      "metadata": {
        "colab": {
          "base_uri": "https://localhost:8080/"
        },
        "id": "OU-luNyI_d8w",
        "outputId": "f07a131f-7290-44c6-fd7d-c1d24491c54f"
      },
      "execution_count": null,
      "outputs": [
        {
          "output_type": "stream",
          "name": "stdout",
          "text": [
            "The cosine similarity for Field: 0.9843607595412588\n"
          ]
        }
      ]
    },
    {
      "cell_type": "code",
      "source": [
        "file_path = '/content/Thermal min.xlsx'\n",
        "data = pd.read_excel(file_path)\n",
        "vector1=data.iloc[0]\n",
        "vector2=data.iloc[1]\n",
        "vector3=data.iloc[2]\n",
        "vector4=data.iloc[3]\n",
        "vector5=data.iloc[4]\n",
        "vector6=data.iloc[5]\n",
        "vector7=data.iloc[6]\n",
        "vector8=data.iloc[7]\n",
        "vector9=data.iloc[8]\n",
        "vector10=data.iloc[9]\n",
        "vectors = [vector1, vector2, vector3, vector4, vector5, vector6, vector7, vector8, vector9, vector10]"
      ],
      "metadata": {
        "id": "v9G5RqBb_f7i"
      },
      "execution_count": null,
      "outputs": []
    },
    {
      "cell_type": "code",
      "source": [
        "# Calculate cosine similarity for each pair of vectors\n",
        "similarity_matrix = []\n",
        "for i in range(len(vectors)):\n",
        "    similarities = []\n",
        "    for j in range(len(vectors)):\n",
        "        similarity_score = cosine_similarity(vectors[i], vectors[j])\n",
        "        similarities.append(similarity_score)\n",
        "    similarity_matrix.append(similarities)\n"
      ],
      "metadata": {
        "id": "hd1DavUjEXI7"
      },
      "execution_count": null,
      "outputs": []
    },
    {
      "cell_type": "code",
      "source": [
        "mean_value = np.mean(similarity_matrix)\n",
        "print(\"The cosine similarity for Field:\", mean_value)"
      ],
      "metadata": {
        "colab": {
          "base_uri": "https://localhost:8080/"
        },
        "id": "zv4C1Fn_EZ5Y",
        "outputId": "adc84577-795e-4d21-ea52-d7b2ed8bf71a"
      },
      "execution_count": null,
      "outputs": [
        {
          "output_type": "stream",
          "name": "stdout",
          "text": [
            "The cosine similarity for Field: 0.9649220276408021\n"
          ]
        }
      ]
    },
    {
      "cell_type": "code",
      "source": [
        "file_path = '/content/climate vs.xlsx'\n",
        "data = pd.read_excel(file_path)\n",
        "vector1=data.iloc[0]\n",
        "vector2=data.iloc[1]\n",
        "vector3=data.iloc[2]\n",
        "vector4=data.iloc[3]\n",
        "vector5=data.iloc[4]\n",
        "vector6=data.iloc[5]\n",
        "vector7=data.iloc[6]\n",
        "vector8=data.iloc[7]\n",
        "vector9=data.iloc[8]\n",
        "vector10=data.iloc[9]\n",
        "vectors = [vector1, vector2, vector3, vector4, vector5, vector6, vector7, vector8, vector9, vector10]"
      ],
      "metadata": {
        "id": "oHNcO9SqEv3G"
      },
      "execution_count": null,
      "outputs": []
    },
    {
      "cell_type": "code",
      "source": [
        "# Calculate cosine similarity for each pair of vectors\n",
        "similarity_matrix = []\n",
        "for i in range(len(vectors)):\n",
        "    similarities = []\n",
        "    for j in range(len(vectors)):\n",
        "        similarity_score = cosine_similarity(vectors[i], vectors[j])\n",
        "        similarities.append(similarity_score)\n",
        "    similarity_matrix.append(similarities)\n"
      ],
      "metadata": {
        "id": "iZ1br8_oEv6T"
      },
      "execution_count": null,
      "outputs": []
    },
    {
      "cell_type": "code",
      "source": [
        "mean_value = np.mean(similarity_matrix)\n",
        "print(\"The cosine similarity for climate vs:\", mean_value)"
      ],
      "metadata": {
        "colab": {
          "base_uri": "https://localhost:8080/"
        },
        "id": "Mb3k_SE2GUKB",
        "outputId": "de90ff88-ac02-4aa0-c359-e7a10798068c"
      },
      "execution_count": null,
      "outputs": [
        {
          "output_type": "stream",
          "name": "stdout",
          "text": [
            "The cosine similarity for climate vs: 0.9634758575196354\n"
          ]
        }
      ]
    },
    {
      "cell_type": "code",
      "source": [
        "file_path = '/content/climate vpd.xlsx'\n",
        "data = pd.read_excel(file_path)\n",
        "vector1=data.iloc[0]\n",
        "vector2=data.iloc[1]\n",
        "vector3=data.iloc[2]\n",
        "vector4=data.iloc[3]\n",
        "vector5=data.iloc[4]\n",
        "vector6=data.iloc[5]\n",
        "vector7=data.iloc[6]\n",
        "vector8=data.iloc[7]\n",
        "vector9=data.iloc[8]\n",
        "vector10=data.iloc[9]\n",
        "vectors = [vector1, vector2, vector3, vector4, vector5, vector6, vector7, vector8, vector9, vector10]"
      ],
      "metadata": {
        "id": "DERHPzrLEv85"
      },
      "execution_count": null,
      "outputs": []
    },
    {
      "cell_type": "code",
      "source": [
        "# Calculate cosine similarity for each pair of vectors\n",
        "similarity_matrix = []\n",
        "for i in range(len(vectors)):\n",
        "    similarities = []\n",
        "    for j in range(len(vectors)):\n",
        "        similarity_score = cosine_similarity(vectors[i], vectors[j])\n",
        "        similarities.append(similarity_score)\n",
        "    similarity_matrix.append(similarities)\n"
      ],
      "metadata": {
        "id": "ZlEZllPfEv_3"
      },
      "execution_count": null,
      "outputs": []
    },
    {
      "cell_type": "code",
      "source": [
        "mean_value = np.mean(similarity_matrix)\n",
        "print(\"The cosine similarity for climate vpd:\", mean_value)"
      ],
      "metadata": {
        "colab": {
          "base_uri": "https://localhost:8080/"
        },
        "id": "d4QMTMa0EwDW",
        "outputId": "a09e55fb-9139-4b3c-84f9-0612c401fda1"
      },
      "execution_count": null,
      "outputs": [
        {
          "output_type": "stream",
          "name": "stdout",
          "text": [
            "The cosine similarity for climate vpd: 0.9828946405695249\n"
          ]
        }
      ]
    },
    {
      "cell_type": "code",
      "source": [
        "file_path = '/content/climate srad.xlsx'\n",
        "data = pd.read_excel(file_path)\n",
        "vector1=data.iloc[0]\n",
        "vector2=data.iloc[1]\n",
        "vector3=data.iloc[2]\n",
        "vector4=data.iloc[3]\n",
        "vector5=data.iloc[4]\n",
        "vector6=data.iloc[5]\n",
        "vector7=data.iloc[6]\n",
        "vector8=data.iloc[7]\n",
        "vector9=data.iloc[8]\n",
        "vector10=data.iloc[9]\n",
        "vectors = [vector1, vector2, vector3, vector4, vector5, vector6, vector7, vector8, vector9, vector10]"
      ],
      "metadata": {
        "id": "bLOLOmgtKN4b"
      },
      "execution_count": null,
      "outputs": []
    },
    {
      "cell_type": "code",
      "source": [
        "# Calculate cosine similarity for each pair of vectors\n",
        "similarity_matrix = []\n",
        "for i in range(len(vectors)):\n",
        "    similarities = []\n",
        "    for j in range(len(vectors)):\n",
        "        similarity_score = cosine_similarity(vectors[i], vectors[j])\n",
        "        similarities.append(similarity_score)\n",
        "    similarity_matrix.append(similarities)\n"
      ],
      "metadata": {
        "id": "EqXi2nZEKN6r"
      },
      "execution_count": null,
      "outputs": []
    },
    {
      "cell_type": "code",
      "source": [
        "mean_value = np.mean(similarity_matrix)\n",
        "print(\"The cosine similarity for climate srad:\", mean_value)"
      ],
      "metadata": {
        "colab": {
          "base_uri": "https://localhost:8080/"
        },
        "id": "tkqew_paKN9D",
        "outputId": "b140b680-85d8-4b7c-ca2b-384656451d57"
      },
      "execution_count": null,
      "outputs": [
        {
          "output_type": "stream",
          "name": "stdout",
          "text": [
            "The cosine similarity for climate srad: 0.9049293472713223\n"
          ]
        }
      ]
    },
    {
      "cell_type": "code",
      "source": [
        "file_path = '/content/climate vap.xlsx'\n",
        "data = pd.read_excel(file_path)\n",
        "vector1=data.iloc[0]\n",
        "vector2=data.iloc[1]\n",
        "vector3=data.iloc[2]\n",
        "vector4=data.iloc[3]\n",
        "vector5=data.iloc[4]\n",
        "vector6=data.iloc[5]\n",
        "vector7=data.iloc[6]\n",
        "vector8=data.iloc[7]\n",
        "vector9=data.iloc[8]\n",
        "vector10=data.iloc[9]\n",
        "vectors = [vector1, vector2, vector3, vector4, vector5, vector6, vector7, vector8, vector9, vector10]"
      ],
      "metadata": {
        "id": "9XTHwp0ZKN_a"
      },
      "execution_count": null,
      "outputs": []
    },
    {
      "cell_type": "code",
      "source": [
        "# Calculate cosine similarity for each pair of vectors\n",
        "similarity_matrix = []\n",
        "for i in range(len(vectors)):\n",
        "    similarities = []\n",
        "    for j in range(len(vectors)):\n",
        "        similarity_score = cosine_similarity(vectors[i], vectors[j])\n",
        "        similarities.append(similarity_score)\n",
        "    similarity_matrix.append(similarities)"
      ],
      "metadata": {
        "id": "t3i0U4pQL-z4"
      },
      "execution_count": null,
      "outputs": []
    },
    {
      "cell_type": "code",
      "source": [
        "mean_value = np.mean(similarity_matrix)\n",
        "print(\"The cosine similarity for climate vap:\", mean_value)"
      ],
      "metadata": {
        "colab": {
          "base_uri": "https://localhost:8080/"
        },
        "id": "-ajzFLx8L-2D",
        "outputId": "35007e0d-c359-40d3-af90-35f5fcfe3037"
      },
      "execution_count": null,
      "outputs": [
        {
          "output_type": "stream",
          "name": "stdout",
          "text": [
            "The cosine similarity for climate vap: 0.9185994748684903\n"
          ]
        }
      ]
    },
    {
      "cell_type": "code",
      "source": [
        "file_path = '/content/climate pr.xlsx'\n",
        "data = pd.read_excel(file_path)\n",
        "vector1=data.iloc[0]\n",
        "vector2=data.iloc[1]\n",
        "vector3=data.iloc[2]\n",
        "vector4=data.iloc[3]\n",
        "vector5=data.iloc[4]\n",
        "vector6=data.iloc[5]\n",
        "vector7=data.iloc[6]\n",
        "vector8=data.iloc[7]\n",
        "vector9=data.iloc[8]\n",
        "vector10=data.iloc[9]\n",
        "vectors = [vector1, vector2, vector3, vector4, vector5, vector6, vector7, vector8, vector9, vector10]"
      ],
      "metadata": {
        "id": "B_znpw4sL-4g"
      },
      "execution_count": null,
      "outputs": []
    },
    {
      "cell_type": "code",
      "source": [
        "# Calculate cosine similarity for each pair of vectors\n",
        "similarity_matrix = []\n",
        "for i in range(len(vectors)):\n",
        "    similarities = []\n",
        "    for j in range(len(vectors)):\n",
        "        similarity_score = cosine_similarity(vectors[i], vectors[j])\n",
        "        similarities.append(similarity_score)\n",
        "    similarity_matrix.append(similarities)"
      ],
      "metadata": {
        "id": "5OXqQ9cuL-7H"
      },
      "execution_count": null,
      "outputs": []
    },
    {
      "cell_type": "code",
      "source": [
        "mean_value = np.mean(similarity_matrix)\n",
        "print(\"The cosine similarity for climate pr:\", mean_value)"
      ],
      "metadata": {
        "colab": {
          "base_uri": "https://localhost:8080/"
        },
        "id": "Z_qTvz3yL--l",
        "outputId": "be290011-b968-4265-ddf1-4d37eef7770b"
      },
      "execution_count": null,
      "outputs": [
        {
          "output_type": "stream",
          "name": "stdout",
          "text": [
            "The cosine similarity for climate pr: 0.9419849507830332\n"
          ]
        }
      ]
    },
    {
      "cell_type": "code",
      "source": [
        "file_path = '/content/climate ro.xlsx'\n",
        "data = pd.read_excel(file_path)\n",
        "vector1=data.iloc[0]\n",
        "vector2=data.iloc[1]\n",
        "vector3=data.iloc[2]\n",
        "vector4=data.iloc[3]\n",
        "vector5=data.iloc[4]\n",
        "vector6=data.iloc[5]\n",
        "vector7=data.iloc[6]\n",
        "vector8=data.iloc[7]\n",
        "vector9=data.iloc[8]\n",
        "vector10=data.iloc[9]\n",
        "vectors = [vector1, vector2, vector3, vector4, vector5, vector6, vector7, vector8, vector9, vector10]"
      ],
      "metadata": {
        "id": "zkuwLu6pPewp"
      },
      "execution_count": null,
      "outputs": []
    },
    {
      "cell_type": "code",
      "source": [
        "# Calculate cosine similarity for each pair of vectors\n",
        "similarity_matrix = []\n",
        "for i in range(len(vectors)):\n",
        "    similarities = []\n",
        "    for j in range(len(vectors)):\n",
        "        similarity_score = cosine_similarity(vectors[i], vectors[j])\n",
        "        similarities.append(similarity_score)\n",
        "    similarity_matrix.append(similarities)"
      ],
      "metadata": {
        "id": "vhNqJgQdPezI"
      },
      "execution_count": null,
      "outputs": []
    },
    {
      "cell_type": "code",
      "source": [
        "mean_value = np.mean(similarity_matrix)\n",
        "print(\"The cosine similarity for climate ro:\", mean_value)"
      ],
      "metadata": {
        "colab": {
          "base_uri": "https://localhost:8080/"
        },
        "id": "muyUZWKLPe1l",
        "outputId": "1497d89f-d11a-4e8d-c4d7-cb6f1a91ef62"
      },
      "execution_count": null,
      "outputs": [
        {
          "output_type": "stream",
          "name": "stdout",
          "text": [
            "The cosine similarity for climate ro: 0.9794277463667013\n"
          ]
        }
      ]
    },
    {
      "cell_type": "code",
      "source": [
        "file_path = '/content/climate pdsi.xlsx'\n",
        "data = pd.read_excel(file_path)\n",
        "vector1=data.iloc[0]\n",
        "vector2=data.iloc[1]\n",
        "vector3=data.iloc[2]\n",
        "vector4=data.iloc[3]\n",
        "vector5=data.iloc[4]\n",
        "vector6=data.iloc[5]\n",
        "vector7=data.iloc[6]\n",
        "vector8=data.iloc[7]\n",
        "vector9=data.iloc[8]\n",
        "vector10=data.iloc[9]\n",
        "vectors = [vector1, vector2, vector3, vector4, vector5, vector6, vector7, vector8, vector9, vector10]"
      ],
      "metadata": {
        "id": "_X_R1A47Pumd"
      },
      "execution_count": null,
      "outputs": []
    },
    {
      "cell_type": "code",
      "source": [
        "# Calculate cosine similarity for each pair of vectors\n",
        "similarity_matrix = []\n",
        "for i in range(len(vectors)):\n",
        "    similarities = []\n",
        "    for j in range(len(vectors)):\n",
        "        similarity_score = cosine_similarity(vectors[i], vectors[j])\n",
        "        similarities.append(similarity_score)\n",
        "    similarity_matrix.append(similarities)"
      ],
      "metadata": {
        "id": "Auvk-iQKPuo2"
      },
      "execution_count": null,
      "outputs": []
    },
    {
      "cell_type": "code",
      "source": [
        "mean_value = np.mean(similarity_matrix)\n",
        "print(\"The cosine similarity for climate pdsi:\", mean_value)"
      ],
      "metadata": {
        "colab": {
          "base_uri": "https://localhost:8080/"
        },
        "id": "iE7S6UvnPurM",
        "outputId": "58dbba63-f93d-4504-d89b-3c937afc6c2e"
      },
      "execution_count": null,
      "outputs": [
        {
          "output_type": "stream",
          "name": "stdout",
          "text": [
            "The cosine similarity for climate pdsi: 0.8226902852851494\n"
          ]
        }
      ]
    },
    {
      "cell_type": "code",
      "source": [
        "file_path = '/content/climate pet.xlsx'\n",
        "data = pd.read_excel(file_path)\n",
        "vector1=data.iloc[0]\n",
        "vector2=data.iloc[1]\n",
        "vector3=data.iloc[2]\n",
        "vector4=data.iloc[3]\n",
        "vector5=data.iloc[4]\n",
        "vector6=data.iloc[5]\n",
        "vector7=data.iloc[6]\n",
        "vector8=data.iloc[7]\n",
        "vector9=data.iloc[8]\n",
        "vector10=data.iloc[9]\n",
        "vectors = [vector1, vector2, vector3, vector4, vector5, vector6, vector7, vector8, vector9, vector10]"
      ],
      "metadata": {
        "id": "jAtsZ32EPutw"
      },
      "execution_count": null,
      "outputs": []
    },
    {
      "cell_type": "code",
      "source": [
        "# Calculate cosine similarity for each pair of vectors\n",
        "similarity_matrix = []\n",
        "for i in range(len(vectors)):\n",
        "    similarities = []\n",
        "    for j in range(len(vectors)):\n",
        "        similarity_score = cosine_similarity(vectors[i], vectors[j])\n",
        "        similarities.append(similarity_score)\n",
        "    similarity_matrix.append(similarities)"
      ],
      "metadata": {
        "id": "07zFXOL2PuxK"
      },
      "execution_count": null,
      "outputs": []
    },
    {
      "cell_type": "code",
      "source": [
        "mean_value = np.mean(similarity_matrix)\n",
        "print(\"The cosine similarity for climate pet:\", mean_value)"
      ],
      "metadata": {
        "colab": {
          "base_uri": "https://localhost:8080/"
        },
        "id": "ceGuuoDCPe3a",
        "outputId": "100f73b0-342d-4fcd-82c0-57f8a835f605"
      },
      "execution_count": null,
      "outputs": [
        {
          "output_type": "stream",
          "name": "stdout",
          "text": [
            "The cosine similarity for climate pet: 0.9413669076637073\n"
          ]
        }
      ]
    },
    {
      "cell_type": "code",
      "source": [
        "file_path = '/content/climate def.xlsx'\n",
        "data = pd.read_excel(file_path)\n",
        "vector1=data.iloc[0]\n",
        "vector2=data.iloc[1]\n",
        "vector3=data.iloc[2]\n",
        "vector4=data.iloc[3]\n",
        "vector5=data.iloc[4]\n",
        "vector6=data.iloc[5]\n",
        "vector7=data.iloc[6]\n",
        "vector8=data.iloc[7]\n",
        "vector9=data.iloc[8]\n",
        "vector10=data.iloc[9]\n",
        "vectors = [vector1, vector2, vector3, vector4, vector5, vector6, vector7, vector8, vector9, vector10]"
      ],
      "metadata": {
        "id": "jVuUSEtZPe7C"
      },
      "execution_count": null,
      "outputs": []
    },
    {
      "cell_type": "code",
      "source": [
        "# Calculate cosine similarity for each pair of vectors\n",
        "similarity_matrix = []\n",
        "for i in range(len(vectors)):\n",
        "    similarities = []\n",
        "    for j in range(len(vectors)):\n",
        "        similarity_score = cosine_similarity(vectors[i], vectors[j])\n",
        "        similarities.append(similarity_score)\n",
        "    similarity_matrix.append(similarities)"
      ],
      "metadata": {
        "id": "sP2btEUeKOBn"
      },
      "execution_count": null,
      "outputs": []
    },
    {
      "cell_type": "code",
      "source": [
        "mean_value = np.mean(similarity_matrix)\n",
        "print(\"The cosine similarity for climate def:\", mean_value)"
      ],
      "metadata": {
        "colab": {
          "base_uri": "https://localhost:8080/"
        },
        "id": "0JmtO66bKOFN",
        "outputId": "c15caa31-dbca-4f82-8e0a-a7fe770feb21"
      },
      "execution_count": null,
      "outputs": [
        {
          "output_type": "stream",
          "name": "stdout",
          "text": [
            "The cosine similarity for climate def: 0.9105777900776713\n"
          ]
        }
      ]
    },
    {
      "cell_type": "code",
      "source": [
        "file_path = '/content/climate aet.xlsx'\n",
        "data = pd.read_excel(file_path)\n",
        "vector1=data.iloc[0]\n",
        "vector2=data.iloc[1]\n",
        "vector3=data.iloc[2]\n",
        "vector4=data.iloc[3]\n",
        "vector5=data.iloc[4]\n",
        "vector6=data.iloc[5]\n",
        "vector7=data.iloc[6]\n",
        "vector8=data.iloc[7]\n",
        "vector9=data.iloc[8]\n",
        "vector10=data.iloc[9]\n",
        "vectors = [vector1, vector2, vector3, vector4, vector5, vector6, vector7, vector8, vector9, vector10]"
      ],
      "metadata": {
        "id": "An4rx4-wWJGf"
      },
      "execution_count": null,
      "outputs": []
    },
    {
      "cell_type": "code",
      "source": [
        "# Calculate cosine similarity for each pair of vectors\n",
        "similarity_matrix = []\n",
        "for i in range(len(vectors)):\n",
        "    similarities = []\n",
        "    for j in range(len(vectors)):\n",
        "        similarity_score = cosine_similarity(vectors[i], vectors[j])\n",
        "        similarities.append(similarity_score)\n",
        "    similarity_matrix.append(similarities)"
      ],
      "metadata": {
        "id": "Mh6-VT1nWJIm"
      },
      "execution_count": null,
      "outputs": []
    },
    {
      "cell_type": "code",
      "source": [
        "mean_value = np.mean(similarity_matrix)\n",
        "print(\"The cosine similarity for climate aet:\", mean_value)"
      ],
      "metadata": {
        "colab": {
          "base_uri": "https://localhost:8080/"
        },
        "id": "Gr9uHmgQWJK9",
        "outputId": "bd0dee2e-3b54-4d2e-f981-b4ef15fd9aef"
      },
      "execution_count": null,
      "outputs": [
        {
          "output_type": "stream",
          "name": "stdout",
          "text": [
            "The cosine similarity for climate aet: 0.8194660515809922\n"
          ]
        }
      ]
    },
    {
      "cell_type": "code",
      "source": [
        "file_path = '/content/Soil soc.xlsx'\n",
        "data = pd.read_excel(file_path)\n",
        "vector1=data.iloc[0]\n",
        "vector2=data.iloc[1]\n",
        "vector3=data.iloc[2]\n",
        "vector4=data.iloc[3]\n",
        "vector5=data.iloc[4]\n",
        "vector6=data.iloc[5]\n",
        "vector7=data.iloc[6]\n",
        "vector8=data.iloc[7]\n",
        "vector9=data.iloc[8]\n",
        "vector10=data.iloc[9]\n",
        "vectors = [vector1, vector2, vector3, vector4, vector5, vector6, vector7, vector8, vector9, vector10]"
      ],
      "metadata": {
        "id": "6eXWlXvNWJNX"
      },
      "execution_count": null,
      "outputs": []
    },
    {
      "cell_type": "code",
      "source": [
        "# Calculate cosine similarity for each pair of vectors\n",
        "similarity_matrix = []\n",
        "for i in range(len(vectors)):\n",
        "    similarities = []\n",
        "    for j in range(len(vectors)):\n",
        "        similarity_score = cosine_similarity(vectors[i], vectors[j])\n",
        "        similarities.append(similarity_score)\n",
        "    similarity_matrix.append(similarities)"
      ],
      "metadata": {
        "id": "RyaJdv7IWbko"
      },
      "execution_count": null,
      "outputs": []
    },
    {
      "cell_type": "code",
      "source": [
        "mean_value = np.mean(similarity_matrix)\n",
        "print(\"The cosine similarity for Soil soc:\", mean_value)"
      ],
      "metadata": {
        "colab": {
          "base_uri": "https://localhost:8080/"
        },
        "id": "8hSN191vWbnG",
        "outputId": "369e4e8a-dd81-482d-aed4-c94323d0830a"
      },
      "execution_count": null,
      "outputs": [
        {
          "output_type": "stream",
          "name": "stdout",
          "text": [
            "The cosine similarity for Soil soc: 0.9697424214997494\n"
          ]
        }
      ]
    },
    {
      "cell_type": "code",
      "source": [
        "file_path = '/content/Soil phh2o.xlsx'\n",
        "data = pd.read_excel(file_path)\n",
        "vector1=data.iloc[0]\n",
        "vector2=data.iloc[1]\n",
        "vector3=data.iloc[2]\n",
        "vector4=data.iloc[3]\n",
        "vector5=data.iloc[4]\n",
        "vector6=data.iloc[5]\n",
        "vector7=data.iloc[6]\n",
        "vector8=data.iloc[7]\n",
        "vector9=data.iloc[8]\n",
        "vector10=data.iloc[9]\n",
        "vectors = [vector1, vector2, vector3, vector4, vector5, vector6, vector7, vector8, vector9, vector10]"
      ],
      "metadata": {
        "id": "nunwcftKWbqj"
      },
      "execution_count": null,
      "outputs": []
    },
    {
      "cell_type": "code",
      "source": [
        "# Calculate cosine similarity for each pair of vectors\n",
        "similarity_matrix = []\n",
        "for i in range(len(vectors)):\n",
        "    similarities = []\n",
        "    for j in range(len(vectors)):\n",
        "        similarity_score = cosine_similarity(vectors[i], vectors[j])\n",
        "        similarities.append(similarity_score)\n",
        "    similarity_matrix.append(similarities)"
      ],
      "metadata": {
        "id": "8ZdxpuV7WJPw"
      },
      "execution_count": null,
      "outputs": []
    },
    {
      "cell_type": "code",
      "source": [
        "mean_value = np.mean(similarity_matrix)\n",
        "print(\"The cosine similarity for Soil phh2o:\", mean_value)"
      ],
      "metadata": {
        "colab": {
          "base_uri": "https://localhost:8080/"
        },
        "id": "hRxouVHLWJSD",
        "outputId": "41b97af5-e0c6-45a1-9a84-e3cb4496f2b2"
      },
      "execution_count": null,
      "outputs": [
        {
          "output_type": "stream",
          "name": "stdout",
          "text": [
            "The cosine similarity for Soil phh2o: 0.995245313887882\n"
          ]
        }
      ]
    },
    {
      "cell_type": "code",
      "source": [
        "file_path = '/content/Soil sand.xlsx'\n",
        "data = pd.read_excel(file_path)\n",
        "vector1=data.iloc[0]\n",
        "vector2=data.iloc[1]\n",
        "vector3=data.iloc[2]\n",
        "vector4=data.iloc[3]\n",
        "vector5=data.iloc[4]\n",
        "vector6=data.iloc[5]\n",
        "vector7=data.iloc[6]\n",
        "vector8=data.iloc[7]\n",
        "vector9=data.iloc[8]\n",
        "vector10=data.iloc[9]\n",
        "vectors = [vector1, vector2, vector3, vector4, vector5, vector6, vector7, vector8, vector9, vector10]"
      ],
      "metadata": {
        "id": "SYKN8rHMWJUf"
      },
      "execution_count": null,
      "outputs": []
    },
    {
      "cell_type": "code",
      "source": [
        "# Calculate cosine similarity for each pair of vectors\n",
        "similarity_matrix = []\n",
        "for i in range(len(vectors)):\n",
        "    similarities = []\n",
        "    for j in range(len(vectors)):\n",
        "        similarity_score = cosine_similarity(vectors[i], vectors[j])\n",
        "        similarities.append(similarity_score)\n",
        "    similarity_matrix.append(similarities)"
      ],
      "metadata": {
        "id": "VGTO-NsnWJWw"
      },
      "execution_count": null,
      "outputs": []
    },
    {
      "cell_type": "code",
      "source": [
        "mean_value = np.mean(similarity_matrix)\n",
        "print(\"The cosine similarity for Soil sand:\", mean_value)"
      ],
      "metadata": {
        "colab": {
          "base_uri": "https://localhost:8080/"
        },
        "id": "bOXTycchWJZO",
        "outputId": "db8f583a-88c1-412c-f2de-fe44fd59dfe3"
      },
      "execution_count": null,
      "outputs": [
        {
          "output_type": "stream",
          "name": "stdout",
          "text": [
            "The cosine similarity for Soil sand: 0.985222062140095\n"
          ]
        }
      ]
    },
    {
      "cell_type": "code",
      "source": [
        "file_path = '/content/Soil silt.xlsx'\n",
        "data = pd.read_excel(file_path)\n",
        "vector1=data.iloc[0]\n",
        "vector2=data.iloc[1]\n",
        "vector3=data.iloc[2]\n",
        "vector4=data.iloc[3]\n",
        "vector5=data.iloc[4]\n",
        "vector6=data.iloc[5]\n",
        "vector7=data.iloc[6]\n",
        "vector8=data.iloc[7]\n",
        "vector9=data.iloc[8]\n",
        "vector10=data.iloc[9]\n",
        "vectors = [vector1, vector2, vector3, vector4, vector5, vector6, vector7, vector8, vector9, vector10]"
      ],
      "metadata": {
        "id": "oRah33FfWJb6"
      },
      "execution_count": null,
      "outputs": []
    },
    {
      "cell_type": "code",
      "source": [
        "# Calculate cosine similarity for each pair of vectors\n",
        "similarity_matrix = []\n",
        "for i in range(len(vectors)):\n",
        "    similarities = []\n",
        "    for j in range(len(vectors)):\n",
        "        similarity_score = cosine_similarity(vectors[i], vectors[j])\n",
        "        similarities.append(similarity_score)\n",
        "    similarity_matrix.append(similarities)"
      ],
      "metadata": {
        "id": "4pwFxcCrWJfV"
      },
      "execution_count": null,
      "outputs": []
    },
    {
      "cell_type": "code",
      "source": [
        "mean_value = np.mean(similarity_matrix)\n",
        "print(\"The cosine similarity for Soil silt:\", mean_value)"
      ],
      "metadata": {
        "colab": {
          "base_uri": "https://localhost:8080/"
        },
        "id": "iFs2wKoOcC_j",
        "outputId": "1e1e6c2f-de26-40a0-ecbc-7baf7ebd2af5"
      },
      "execution_count": null,
      "outputs": [
        {
          "output_type": "stream",
          "name": "stdout",
          "text": [
            "The cosine similarity for Soil silt: 0.993791067175012\n"
          ]
        }
      ]
    },
    {
      "cell_type": "code",
      "source": [
        "file_path = '/content/Soil ocd.xlsx'\n",
        "data = pd.read_excel(file_path)\n",
        "vector1=data.iloc[0]\n",
        "vector2=data.iloc[1]\n",
        "vector3=data.iloc[2]\n",
        "vector4=data.iloc[3]\n",
        "vector5=data.iloc[4]\n",
        "vector6=data.iloc[5]\n",
        "vector7=data.iloc[6]\n",
        "vector8=data.iloc[7]\n",
        "vector9=data.iloc[8]\n",
        "vector10=data.iloc[9]\n",
        "vectors = [vector1, vector2, vector3, vector4, vector5, vector6, vector7, vector8, vector9, vector10]"
      ],
      "metadata": {
        "id": "STyAuY9bcDCH"
      },
      "execution_count": null,
      "outputs": []
    },
    {
      "cell_type": "code",
      "source": [
        "# Calculate cosine similarity for each pair of vectors\n",
        "similarity_matrix = []\n",
        "for i in range(len(vectors)):\n",
        "    similarities = []\n",
        "    for j in range(len(vectors)):\n",
        "        similarity_score = cosine_similarity(vectors[i], vectors[j])\n",
        "        similarities.append(similarity_score)\n",
        "    similarity_matrix.append(similarities)"
      ],
      "metadata": {
        "id": "5STa5fjhcDEl"
      },
      "execution_count": null,
      "outputs": []
    },
    {
      "cell_type": "code",
      "source": [
        "mean_value = np.mean(similarity_matrix)\n",
        "print(\"The cosine similarity for Soil ocd:\", mean_value)"
      ],
      "metadata": {
        "colab": {
          "base_uri": "https://localhost:8080/"
        },
        "id": "nraAektjcDHX",
        "outputId": "c435a7f1-6aad-424a-9a6d-bf88272c0f32"
      },
      "execution_count": null,
      "outputs": [
        {
          "output_type": "stream",
          "name": "stdout",
          "text": [
            "The cosine similarity for Soil ocd: 0.9954675608817185\n"
          ]
        }
      ]
    },
    {
      "cell_type": "code",
      "source": [
        "file_path = '/content/Soil ocs.xlsx'\n",
        "data = pd.read_excel(file_path)\n",
        "vector1=data.iloc[0]\n",
        "vector2=data.iloc[1]\n",
        "vector3=data.iloc[2]\n",
        "vector4=data.iloc[3]\n",
        "vector5=data.iloc[4]\n",
        "vector6=data.iloc[5]\n",
        "vector7=data.iloc[6]\n",
        "vector8=data.iloc[7]\n",
        "vector9=data.iloc[8]\n",
        "vector10=data.iloc[9]\n",
        "vectors = [vector1, vector2, vector3, vector4, vector5, vector6, vector7, vector8, vector9, vector10]"
      ],
      "metadata": {
        "id": "68MCR2BGcDJ8"
      },
      "execution_count": null,
      "outputs": []
    },
    {
      "cell_type": "code",
      "source": [
        "# Calculate cosine similarity for each pair of vectors\n",
        "similarity_matrix = []\n",
        "for i in range(len(vectors)):\n",
        "    similarities = []\n",
        "    for j in range(len(vectors)):\n",
        "        similarity_score = cosine_similarity(vectors[i], vectors[j])\n",
        "        similarities.append(similarity_score)\n",
        "    similarity_matrix.append(similarities)"
      ],
      "metadata": {
        "id": "nsHNq7u9cDMi"
      },
      "execution_count": null,
      "outputs": []
    },
    {
      "cell_type": "code",
      "source": [
        "mean_value = np.mean(similarity_matrix)\n",
        "print(\"The cosine similarity for Soil ocs:\", mean_value)"
      ],
      "metadata": {
        "colab": {
          "base_uri": "https://localhost:8080/"
        },
        "id": "k67OkyWwcDPQ",
        "outputId": "9e84ec53-8344-49bd-f783-56a427f3f0ec"
      },
      "execution_count": null,
      "outputs": [
        {
          "output_type": "stream",
          "name": "stdout",
          "text": [
            "The cosine similarity for Soil ocs: 0.9885125078029675\n"
          ]
        }
      ]
    },
    {
      "cell_type": "code",
      "source": [
        "file_path = '/content/Soil clay.xlsx'\n",
        "data = pd.read_excel(file_path)\n",
        "vector1=data.iloc[0]\n",
        "vector2=data.iloc[1]\n",
        "vector3=data.iloc[2]\n",
        "vector4=data.iloc[3]\n",
        "vector5=data.iloc[4]\n",
        "vector6=data.iloc[5]\n",
        "vector7=data.iloc[6]\n",
        "vector8=data.iloc[7]\n",
        "vector9=data.iloc[8]\n",
        "vector10=data.iloc[9]\n",
        "vectors = [vector1, vector2, vector3, vector4, vector5, vector6, vector7, vector8, vector9, vector10]"
      ],
      "metadata": {
        "id": "hgo9cOGdcDSD"
      },
      "execution_count": null,
      "outputs": []
    },
    {
      "cell_type": "code",
      "source": [
        "# Calculate cosine similarity for each pair of vectors\n",
        "similarity_matrix = []\n",
        "for i in range(len(vectors)):\n",
        "    similarities = []\n",
        "    for j in range(len(vectors)):\n",
        "        similarity_score = cosine_similarity(vectors[i], vectors[j])\n",
        "        similarities.append(similarity_score)\n",
        "    similarity_matrix.append(similarities)"
      ],
      "metadata": {
        "id": "--rGu09ScDUa"
      },
      "execution_count": null,
      "outputs": []
    },
    {
      "cell_type": "code",
      "source": [
        "mean_value = np.mean(similarity_matrix)\n",
        "print(\"The cosine similarity for Soil clay:\", mean_value)"
      ],
      "metadata": {
        "colab": {
          "base_uri": "https://localhost:8080/"
        },
        "id": "5HTm-bfrcDYJ",
        "outputId": "4c1117e8-3363-4bf8-e485-93d6a4842729"
      },
      "execution_count": null,
      "outputs": [
        {
          "output_type": "stream",
          "name": "stdout",
          "text": [
            "The cosine similarity for Soil clay: 0.9869423010189595\n"
          ]
        }
      ]
    },
    {
      "cell_type": "code",
      "source": [
        "file_path = '/content/Soil nitrogen.xlsx'\n",
        "data = pd.read_excel(file_path)\n",
        "vector1=data.iloc[0]\n",
        "vector2=data.iloc[1]\n",
        "vector3=data.iloc[2]\n",
        "vector4=data.iloc[3]\n",
        "vector5=data.iloc[4]\n",
        "vector6=data.iloc[5]\n",
        "vector7=data.iloc[6]\n",
        "vector8=data.iloc[7]\n",
        "vector9=data.iloc[8]\n",
        "vector10=data.iloc[9]\n",
        "vectors = [vector1, vector2, vector3, vector4, vector5, vector6, vector7, vector8, vector9, vector10]"
      ],
      "metadata": {
        "id": "pzi0EZkwgSje"
      },
      "execution_count": null,
      "outputs": []
    },
    {
      "cell_type": "code",
      "source": [
        "# Calculate cosine similarity for each pair of vectors\n",
        "similarity_matrix = []\n",
        "for i in range(len(vectors)):\n",
        "    similarities = []\n",
        "    for j in range(len(vectors)):\n",
        "        similarity_score = cosine_similarity(vectors[i], vectors[j])\n",
        "        similarities.append(similarity_score)\n",
        "    similarity_matrix.append(similarities)"
      ],
      "metadata": {
        "id": "4rfr_ZNlgSly"
      },
      "execution_count": null,
      "outputs": []
    },
    {
      "cell_type": "code",
      "source": [
        "mean_value = np.mean(similarity_matrix)\n",
        "print(\"The cosine similarity for Soil nitrogen:\", mean_value)"
      ],
      "metadata": {
        "colab": {
          "base_uri": "https://localhost:8080/"
        },
        "id": "hEQjSE8pgSoQ",
        "outputId": "34f6b487-938f-4d14-fdff-706152137d2d"
      },
      "execution_count": null,
      "outputs": [
        {
          "output_type": "stream",
          "name": "stdout",
          "text": [
            "The cosine similarity for Soil nitrogen: 0.8374005713740322\n"
          ]
        }
      ]
    },
    {
      "cell_type": "code",
      "source": [
        "file_path = '/content/Soil cec.xlsx'\n",
        "data = pd.read_excel(file_path)\n",
        "vector1=data.iloc[0]\n",
        "vector2=data.iloc[1]\n",
        "vector3=data.iloc[2]\n",
        "vector4=data.iloc[3]\n",
        "vector5=data.iloc[4]\n",
        "vector6=data.iloc[5]\n",
        "vector7=data.iloc[6]\n",
        "vector8=data.iloc[7]\n",
        "vector9=data.iloc[8]\n",
        "vector10=data.iloc[9]\n",
        "vectors = [vector1, vector2, vector3, vector4, vector5, vector6, vector7, vector8, vector9, vector10]"
      ],
      "metadata": {
        "id": "YQWHfBmzgSqx"
      },
      "execution_count": null,
      "outputs": []
    },
    {
      "cell_type": "code",
      "source": [
        "# Calculate cosine similarity for each pair of vectors\n",
        "similarity_matrix = []\n",
        "for i in range(len(vectors)):\n",
        "    similarities = []\n",
        "    for j in range(len(vectors)):\n",
        "        similarity_score = cosine_similarity(vectors[i], vectors[j])\n",
        "        similarities.append(similarity_score)\n",
        "    similarity_matrix.append(similarities)"
      ],
      "metadata": {
        "id": "KV_A2WjKgStH"
      },
      "execution_count": null,
      "outputs": []
    },
    {
      "cell_type": "code",
      "source": [
        "mean_value = np.mean(similarity_matrix)\n",
        "print(\"The cosine similarity for Soil cec:\", mean_value)"
      ],
      "metadata": {
        "colab": {
          "base_uri": "https://localhost:8080/"
        },
        "id": "oDgxd0-DgSvV",
        "outputId": "ebf75b00-6d6b-482f-c776-2e4ff49700db"
      },
      "execution_count": null,
      "outputs": [
        {
          "output_type": "stream",
          "name": "stdout",
          "text": [
            "The cosine similarity for Soil cec: 0.9855183731477591\n"
          ]
        }
      ]
    },
    {
      "cell_type": "code",
      "source": [
        "file_path = '/content/Soil cfvo.xlsx'\n",
        "data = pd.read_excel(file_path)\n",
        "vector1=data.iloc[0]\n",
        "vector2=data.iloc[1]\n",
        "vector3=data.iloc[2]\n",
        "vector4=data.iloc[3]\n",
        "vector5=data.iloc[4]\n",
        "vector6=data.iloc[5]\n",
        "vector7=data.iloc[6]\n",
        "vector8=data.iloc[7]\n",
        "vector9=data.iloc[8]\n",
        "vector10=data.iloc[9]\n",
        "vectors = [vector1, vector2, vector3, vector4, vector5, vector6, vector7, vector8, vector9, vector10]"
      ],
      "metadata": {
        "id": "_eawPhAygSxy"
      },
      "execution_count": null,
      "outputs": []
    },
    {
      "cell_type": "code",
      "source": [
        "# Calculate cosine similarity for each pair of vectors\n",
        "similarity_matrix = []\n",
        "for i in range(len(vectors)):\n",
        "    similarities = []\n",
        "    for j in range(len(vectors)):\n",
        "        similarity_score = cosine_similarity(vectors[i], vectors[j])\n",
        "        similarities.append(similarity_score)\n",
        "    similarity_matrix.append(similarities)"
      ],
      "metadata": {
        "id": "t8wrrdABgS0Y"
      },
      "execution_count": null,
      "outputs": []
    },
    {
      "cell_type": "code",
      "source": [
        "mean_value = np.mean(similarity_matrix)\n",
        "print(\"The cosine similarity for Soil cfvo:\", mean_value)"
      ],
      "metadata": {
        "colab": {
          "base_uri": "https://localhost:8080/"
        },
        "id": "bcdukWY8gS2v",
        "outputId": "4a0a2bb3-3bb1-425e-954e-50268dd58deb"
      },
      "execution_count": null,
      "outputs": [
        {
          "output_type": "stream",
          "name": "stdout",
          "text": [
            "The cosine similarity for Soil cfvo: 0.9656517624011315\n"
          ]
        }
      ]
    },
    {
      "cell_type": "code",
      "source": [
        "file_path = '/content/Year.xlsx'\n",
        "data = pd.read_excel(file_path)\n",
        "vector1=data.iloc[0]\n",
        "vector2=data.iloc[1]\n",
        "vector3=data.iloc[2]\n",
        "vector4=data.iloc[3]\n",
        "\n",
        "vectors = [vector1, vector2, vector3, vector4]"
      ],
      "metadata": {
        "id": "VVtGZvSNgS43"
      },
      "execution_count": null,
      "outputs": []
    },
    {
      "cell_type": "code",
      "source": [
        "# Calculate cosine similarity for each pair of vectors\n",
        "similarity_matrix = []\n",
        "for i in range(len(vectors)):\n",
        "    similarities = []\n",
        "    for j in range(len(vectors)):\n",
        "        similarity_score = cosine_similarity(vectors[i], vectors[j])\n",
        "        similarities.append(similarity_score)\n",
        "    similarity_matrix.append(similarities)"
      ],
      "metadata": {
        "id": "t-o7Vk0LlKY4"
      },
      "execution_count": null,
      "outputs": []
    },
    {
      "cell_type": "code",
      "source": [
        "mean_value = np.mean(similarity_matrix)\n",
        "print(\"The cosine similarity for Year:\", mean_value)"
      ],
      "metadata": {
        "colab": {
          "base_uri": "https://localhost:8080/"
        },
        "id": "5fU4-MjblKbZ",
        "outputId": "c9938ad3-cc82-414e-fc07-ad44486b6a32"
      },
      "execution_count": null,
      "outputs": [
        {
          "output_type": "stream",
          "name": "stdout",
          "text": [
            "The cosine similarity for Year: 0.9939311268083104\n"
          ]
        }
      ]
    },
    {
      "cell_type": "code",
      "source": [
        "file_path = '/content/Yield.xlsx'\n",
        "data = pd.read_excel(file_path)\n",
        "vector1=data.iloc[0]\n",
        "vector2=data.iloc[1]\n",
        "vector3=data.iloc[2]\n",
        "vector4=data.iloc[3]\n",
        "vector5=data.iloc[4]\n",
        "vector6=data.iloc[5]\n",
        "vector7=data.iloc[6]\n",
        "vector8=data.iloc[7]\n",
        "vector9=data.iloc[8]\n",
        "vector10=data.iloc[9]\n",
        "vectors = [vector1, vector2, vector3, vector4, vector5, vector6, vector7, vector8, vector9, vector10]"
      ],
      "metadata": {
        "id": "XH7moY6AlKd4"
      },
      "execution_count": null,
      "outputs": []
    },
    {
      "cell_type": "code",
      "source": [
        "# Calculate cosine similarity for each pair of vectors\n",
        "similarity_matrix = []\n",
        "for i in range(len(vectors)):\n",
        "    similarities = []\n",
        "    for j in range(len(vectors)):\n",
        "        similarity_score = cosine_similarity(vectors[i], vectors[j])\n",
        "        similarities.append(similarity_score)\n",
        "    similarity_matrix.append(similarities)"
      ],
      "metadata": {
        "id": "sVAGmUqilKgW"
      },
      "execution_count": null,
      "outputs": []
    },
    {
      "cell_type": "code",
      "source": [
        "mean_value = np.mean(similarity_matrix)\n",
        "print(\"The cosine similarity for Yield:\", mean_value)"
      ],
      "metadata": {
        "colab": {
          "base_uri": "https://localhost:8080/"
        },
        "id": "4CB2IM3XlKi1",
        "outputId": "58356e41-d91e-4f8e-d174-459f47a653a6"
      },
      "execution_count": null,
      "outputs": [
        {
          "output_type": "stream",
          "name": "stdout",
          "text": [
            "The cosine similarity for Yield: 0.6962328603680363\n"
          ]
        }
      ]
    },
    {
      "cell_type": "code",
      "source": [
        "file_path = '/content/Soil bdod.xlsx'\n",
        "data = pd.read_excel(file_path)\n",
        "vector1=data.iloc[0]\n",
        "vector2=data.iloc[1]\n",
        "vector3=data.iloc[2]\n",
        "vector4=data.iloc[3]\n",
        "vector5=data.iloc[4]\n",
        "vector6=data.iloc[5]\n",
        "vector7=data.iloc[6]\n",
        "vector8=data.iloc[7]\n",
        "vector9=data.iloc[8]\n",
        "vector10=data.iloc[9]\n",
        "vectors = [vector1, vector2, vector3, vector4, vector5, vector6, vector7, vector8, vector9, vector10]"
      ],
      "metadata": {
        "id": "vo7kg1oOlKmc"
      },
      "execution_count": null,
      "outputs": []
    },
    {
      "cell_type": "code",
      "source": [
        "# Calculate cosine similarity for each pair of vectors\n",
        "similarity_matrix = []\n",
        "for i in range(len(vectors)):\n",
        "    similarities = []\n",
        "    for j in range(len(vectors)):\n",
        "        similarity_score = cosine_similarity(vectors[i], vectors[j])\n",
        "        similarities.append(similarity_score)\n",
        "    similarity_matrix.append(similarities)"
      ],
      "metadata": {
        "id": "PvuJrLaZlKvi"
      },
      "execution_count": null,
      "outputs": []
    },
    {
      "cell_type": "code",
      "source": [
        "mean_value = np.mean(similarity_matrix)\n",
        "print(\"The cosine similarity for Soil bdod:\", mean_value)"
      ],
      "metadata": {
        "colab": {
          "base_uri": "https://localhost:8080/"
        },
        "id": "mQumQVrngS7m",
        "outputId": "7cdf4e1a-7960-41b8-b4ff-46f4b2e190a8"
      },
      "execution_count": null,
      "outputs": [
        {
          "output_type": "stream",
          "name": "stdout",
          "text": [
            "The cosine similarity for Soil bdod: 0.9963088705447949\n"
          ]
        }
      ]
    },
    {
      "cell_type": "code",
      "source": [
        "file_path = '/content/Thermal max.xlsx'\n",
        "data = pd.read_excel(file_path)\n",
        "vector1=data.iloc[0]\n",
        "vector2=data.iloc[1]\n",
        "vector3=data.iloc[2]\n",
        "vector4=data.iloc[3]\n",
        "vector5=data.iloc[4]\n",
        "vector6=data.iloc[5]\n",
        "vector7=data.iloc[6]\n",
        "vector8=data.iloc[7]\n",
        "vector9=data.iloc[8]\n",
        "vector10=data.iloc[9]\n",
        "vectors = [vector1, vector2, vector3, vector4, vector5, vector6, vector7, vector8, vector9, vector10]"
      ],
      "metadata": {
        "id": "AFgoTUf-gS9w"
      },
      "execution_count": null,
      "outputs": []
    },
    {
      "cell_type": "code",
      "source": [
        "# Calculate cosine similarity for each pair of vectors\n",
        "similarity_matrix = []\n",
        "for i in range(len(vectors)):\n",
        "    similarities = []\n",
        "    for j in range(len(vectors)):\n",
        "        similarity_score = cosine_similarity(vectors[i], vectors[j])\n",
        "        similarities.append(similarity_score)\n",
        "    similarity_matrix.append(similarities)"
      ],
      "metadata": {
        "id": "B8_QBiUFgTBJ"
      },
      "execution_count": null,
      "outputs": []
    },
    {
      "cell_type": "code",
      "source": [
        "mean_value = np.mean(similarity_matrix)\n",
        "print(\"The cosine similarity for Soil bdod:\", mean_value)"
      ],
      "metadata": {
        "colab": {
          "base_uri": "https://localhost:8080/"
        },
        "id": "LJimyxWwcDbr",
        "outputId": "fa51450c-80d3-4b03-ef43-f650200faef9"
      },
      "execution_count": null,
      "outputs": [
        {
          "output_type": "stream",
          "name": "stdout",
          "text": [
            "The cosine similarity for Soil bdod: 0.9880408367093666\n"
          ]
        }
      ]
    },
    {
      "cell_type": "code",
      "source": [
        "file_path = '/content/cosine between climate vs and thermal max.xlsx'\n",
        "data = pd.read_excel(file_path)\n",
        "vector1=data.iloc[0]\n",
        "vector2=data.iloc[1]\n",
        "vector3=data.iloc[2]\n",
        "vector4=data.iloc[3]\n",
        "vector5=data.iloc[4]\n",
        "vector6=data.iloc[5]\n",
        "vector7=data.iloc[6]\n",
        "vector8=data.iloc[7]\n",
        "vector9=data.iloc[8]\n",
        "vector10=data.iloc[9]\n",
        "\n",
        "\n",
        "vector11=data.iloc[10]\n",
        "vector12=data.iloc[11]\n",
        "vector13=data.iloc[12]\n",
        "vector14=data.iloc[13]\n",
        "vector15=data.iloc[14]\n",
        "vector16=data.iloc[15]\n",
        "vector17=data.iloc[16]\n",
        "vector18=data.iloc[17]\n",
        "vector19=data.iloc[18]\n",
        "vector20=data.iloc[19]\n",
        "vectors = [vector1, vector2, vector3, vector4, vector5, vector6, vector7, vector8, vector9, vector10, vector11, vector12, vector13, vector14, vector15, vector16, vector17, vector18, vector19, vector20]"
      ],
      "metadata": {
        "id": "VYAZ_ft4dTKs"
      },
      "execution_count": null,
      "outputs": []
    },
    {
      "cell_type": "code",
      "source": [
        "# Calculate cosine similarity for each pair of vectors\n",
        "similarity_matrix = []\n",
        "for i in range(len(vectors)):\n",
        "    similarities = []\n",
        "    for j in range(len(vectors)):\n",
        "        similarity_score = cosine_similarity(vectors[i], vectors[j])\n",
        "        similarities.append(similarity_score)\n",
        "    similarity_matrix.append(similarities)"
      ],
      "metadata": {
        "id": "C_AtwXRldTNH"
      },
      "execution_count": null,
      "outputs": []
    },
    {
      "cell_type": "code",
      "source": [
        "mean_value = np.mean(similarity_matrix)\n",
        "print(\"The cosine similarity for climate vs and thermal max:\", mean_value)"
      ],
      "metadata": {
        "colab": {
          "base_uri": "https://localhost:8080/"
        },
        "id": "-4pKNfq7dTPw",
        "outputId": "24b80cba-0851-4e0d-8f9a-e30e88c8fcab"
      },
      "execution_count": null,
      "outputs": [
        {
          "output_type": "stream",
          "name": "stdout",
          "text": [
            "The cosine similarity for climate vs and thermal max: 0.9710710998764376\n"
          ]
        }
      ]
    },
    {
      "cell_type": "code",
      "source": [
        "min_value = np.min(similarity_matrix)\n",
        "print(\"The cosine similarity for climate vs and thermal max:\", min_value)"
      ],
      "metadata": {
        "colab": {
          "base_uri": "https://localhost:8080/"
        },
        "id": "zbgIzN9ydTSV",
        "outputId": "77bd47ce-66cf-4590-ff78-f9651fe16d86"
      },
      "execution_count": null,
      "outputs": [
        {
          "output_type": "stream",
          "name": "stdout",
          "text": [
            "The cosine similarity for climate vs and thermal max: 0.9035466605434277\n"
          ]
        }
      ]
    },
    {
      "cell_type": "code",
      "source": [],
      "metadata": {
        "id": "wwYTMy7kdTUv"
      },
      "execution_count": null,
      "outputs": []
    },
    {
      "cell_type": "code",
      "source": [],
      "metadata": {
        "id": "FS5x0uu9dTXR"
      },
      "execution_count": null,
      "outputs": []
    },
    {
      "cell_type": "code",
      "source": [],
      "metadata": {
        "id": "k9GcmO4jdTZn"
      },
      "execution_count": null,
      "outputs": []
    },
    {
      "cell_type": "code",
      "source": [],
      "metadata": {
        "id": "r7ikr-QedTce"
      },
      "execution_count": null,
      "outputs": []
    },
    {
      "cell_type": "code",
      "source": [],
      "metadata": {
        "id": "4YLKQHFGdTf_"
      },
      "execution_count": null,
      "outputs": []
    }
  ]
}