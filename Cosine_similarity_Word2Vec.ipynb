{
  "nbformat": 4,
  "nbformat_minor": 0,
  "metadata": {
    "colab": {
      "provenance": []
    },
    "kernelspec": {
      "name": "python3",
      "display_name": "Python 3"
    },
    "language_info": {
      "name": "python"
    }
  },
  "cells": [
    {
      "cell_type": "code",
      "execution_count": null,
      "metadata": {
        "id": "4efOFUihKsTv"
      },
      "outputs": [],
      "source": [
        "import numpy as np\n",
        "\n",
        "def cosine_similarity(vector_a, vector_b):\n",
        "    dot_product = np.dot(vector_a, vector_b)\n",
        "    magnitude_a = np.linalg.norm(vector_a)\n",
        "    magnitude_b = np.linalg.norm(vector_b)\n",
        "    similarity = dot_product / (magnitude_a * magnitude_b)\n",
        "    return similarity"
      ]
    },
    {
      "cell_type": "code",
      "source": [
        "import pandas as pd"
      ],
      "metadata": {
        "id": "vzj8Q104Ktc5"
      },
      "execution_count": null,
      "outputs": []
    },
    {
      "cell_type": "code",
      "source": [
        "file_path = '/content/Field_cosine.xlsx'\n",
        "data = pd.read_excel(file_path)"
      ],
      "metadata": {
        "id": "D28PbJVQKwYQ"
      },
      "execution_count": null,
      "outputs": []
    },
    {
      "cell_type": "code",
      "source": [
        "vector1=data.iloc[0]\n",
        "vector2=data.iloc[1]\n",
        "vector3=data.iloc[2]\n",
        "vector4=data.iloc[3]\n",
        "vector5=data.iloc[4]\n",
        "vector6=data.iloc[5]\n",
        "vector7=data.iloc[6]\n",
        "vector8=data.iloc[7]\n",
        "vector9=data.iloc[8]\n",
        "vector10=data.iloc[9]\n",
        "vectors = [vector1, vector2, vector3, vector4, vector5, vector6, vector7, vector8, vector9, vector10]"
      ],
      "metadata": {
        "id": "CTfkP1igK0HM"
      },
      "execution_count": null,
      "outputs": []
    },
    {
      "cell_type": "code",
      "source": [
        "# Calculate cosine similarity for each pair of vectors\n",
        "similarity_matrix = []\n",
        "for i in range(len(vectors)):\n",
        "    similarities = []\n",
        "    for j in range(len(vectors)):\n",
        "        similarity_score = cosine_similarity(vectors[i], vectors[j])\n",
        "        similarities.append(similarity_score)\n",
        "    similarity_matrix.append(similarities)\n"
      ],
      "metadata": {
        "id": "fLgScGrTK6_g"
      },
      "execution_count": null,
      "outputs": []
    },
    {
      "cell_type": "code",
      "source": [
        "max_value = np.max(similarity_matrix)\n",
        "print(max_value)"
      ],
      "metadata": {
        "colab": {
          "base_uri": "https://localhost:8080/"
        },
        "id": "T-A5tZd0K-3k",
        "outputId": "0efa0109-74d7-41e8-bb26-298cf4b59fcc"
      },
      "execution_count": null,
      "outputs": [
        {
          "output_type": "stream",
          "name": "stdout",
          "text": [
            "1.0000000000000004\n"
          ]
        }
      ]
    },
    {
      "cell_type": "code",
      "source": [
        "mean_value = np.mean(similarity_matrix)\n",
        "print(\"The cosine similarity for Field:\", mean_value)"
      ],
      "metadata": {
        "colab": {
          "base_uri": "https://localhost:8080/"
        },
        "id": "_RjEfP8kLBDr",
        "outputId": "887f890a-33a7-4924-d796-5a0887fd1b9c"
      },
      "execution_count": null,
      "outputs": [
        {
          "output_type": "stream",
          "name": "stdout",
          "text": [
            "The cosine similarity for Field: 0.8732615989100281\n"
          ]
        }
      ]
    },
    {
      "cell_type": "code",
      "source": [
        "file_path = '/content/Yield.xlsx'\n",
        "data = pd.read_excel(file_path)"
      ],
      "metadata": {
        "id": "VKy7PqwCL0pf"
      },
      "execution_count": null,
      "outputs": []
    },
    {
      "cell_type": "code",
      "source": [
        "vector1=data.iloc[0]\n",
        "vector2=data.iloc[1]\n",
        "vector3=data.iloc[2]\n",
        "vector4=data.iloc[3]\n",
        "vector5=data.iloc[4]\n",
        "vector6=data.iloc[5]\n",
        "vector7=data.iloc[6]\n",
        "vector8=data.iloc[7]\n",
        "vector9=data.iloc[8]\n",
        "vector10=data.iloc[9]\n",
        "vectors = [vector1, vector2, vector3, vector4, vector5, vector6, vector7, vector8, vector9, vector10]"
      ],
      "metadata": {
        "id": "aDU28GtvOPxc"
      },
      "execution_count": null,
      "outputs": []
    },
    {
      "cell_type": "code",
      "source": [
        "# Calculate cosine similarity for each pair of vectors\n",
        "similarity_matrix = []\n",
        "for i in range(len(vectors)):\n",
        "    similarities = []\n",
        "    for j in range(len(vectors)):\n",
        "        similarity_score = cosine_similarity(vectors[i], vectors[j])\n",
        "        similarities.append(similarity_score)\n",
        "    similarity_matrix.append(similarities)"
      ],
      "metadata": {
        "id": "HShvNdn6OP-T"
      },
      "execution_count": null,
      "outputs": []
    },
    {
      "cell_type": "code",
      "source": [
        "max_value = np.max(similarity_matrix)\n",
        "print(max_value)"
      ],
      "metadata": {
        "colab": {
          "base_uri": "https://localhost:8080/"
        },
        "id": "R5YZzRPhOQAg",
        "outputId": "354ca725-4805-4b38-b879-4605817111db"
      },
      "execution_count": null,
      "outputs": [
        {
          "output_type": "stream",
          "name": "stdout",
          "text": [
            "1.0000000000000002\n"
          ]
        }
      ]
    },
    {
      "cell_type": "code",
      "source": [
        "mean_value = np.mean(similarity_matrix)\n",
        "print(\"The cosine similarity for Yield:\", mean_value)"
      ],
      "metadata": {
        "colab": {
          "base_uri": "https://localhost:8080/"
        },
        "id": "6FlL_JN7OQDA",
        "outputId": "0b398c38-56a7-48a5-b7bd-4d891a5ecad6"
      },
      "execution_count": null,
      "outputs": [
        {
          "output_type": "stream",
          "name": "stdout",
          "text": [
            "The cosine similarity for Yield: 0.17774187984143805\n"
          ]
        }
      ]
    },
    {
      "cell_type": "code",
      "source": [
        "file_path = '/content/Soil bdod.xlsx'\n",
        "data = pd.read_excel(file_path)"
      ],
      "metadata": {
        "id": "rqipvCFbOQFX"
      },
      "execution_count": null,
      "outputs": []
    },
    {
      "cell_type": "code",
      "source": [
        "vector1=data.iloc[0]\n",
        "vector2=data.iloc[1]\n",
        "vector3=data.iloc[2]\n",
        "vector4=data.iloc[3]\n",
        "vector5=data.iloc[4]\n",
        "vector6=data.iloc[5]\n",
        "vector7=data.iloc[6]\n",
        "vector8=data.iloc[7]\n",
        "vector9=data.iloc[8]\n",
        "vector10=data.iloc[9]\n",
        "vectors = [vector1, vector2, vector3, vector4, vector5, vector6, vector7, vector8, vector9, vector10]"
      ],
      "metadata": {
        "id": "GfYhbfBbOQI5"
      },
      "execution_count": null,
      "outputs": []
    },
    {
      "cell_type": "code",
      "source": [
        "# Calculate cosine similarity for each pair of vectors\n",
        "similarity_matrix = []\n",
        "for i in range(len(vectors)):\n",
        "    similarities = []\n",
        "    for j in range(len(vectors)):\n",
        "        similarity_score = cosine_similarity(vectors[i], vectors[j])\n",
        "        similarities.append(similarity_score)\n",
        "    similarity_matrix.append(similarities)\n"
      ],
      "metadata": {
        "id": "5CustQjXQyH8"
      },
      "execution_count": null,
      "outputs": []
    },
    {
      "cell_type": "code",
      "source": [
        "mean_value = np.mean(similarity_matrix)\n",
        "print(\"The cosine similarity for Soil bdod:\", mean_value)"
      ],
      "metadata": {
        "colab": {
          "base_uri": "https://localhost:8080/"
        },
        "id": "AmcWJdWAQ1Z4",
        "outputId": "13252ab1-37ea-4215-c0e1-19602bb2b49a"
      },
      "execution_count": null,
      "outputs": [
        {
          "output_type": "stream",
          "name": "stdout",
          "text": [
            "The cosine similarity for Soil bdod: 0.9153775304149901\n"
          ]
        }
      ]
    },
    {
      "cell_type": "code",
      "source": [
        "file_path = '/content/Thermal max.xlsx'\n",
        "data = pd.read_excel(file_path)"
      ],
      "metadata": {
        "id": "IDdDqGxQS36_"
      },
      "execution_count": null,
      "outputs": []
    },
    {
      "cell_type": "code",
      "source": [
        "vector1=data.iloc[0]\n",
        "vector2=data.iloc[1]\n",
        "vector3=data.iloc[2]\n",
        "vector4=data.iloc[3]\n",
        "vector5=data.iloc[4]\n",
        "vector6=data.iloc[5]\n",
        "vector7=data.iloc[6]\n",
        "vector8=data.iloc[7]\n",
        "vector9=data.iloc[8]\n",
        "vector10=data.iloc[9]\n",
        "vectors = [vector1, vector2, vector3, vector4, vector5, vector6, vector7, vector8, vector9, vector10]"
      ],
      "metadata": {
        "id": "YrHe7S3MS39v"
      },
      "execution_count": null,
      "outputs": []
    },
    {
      "cell_type": "code",
      "source": [
        "# Calculate cosine similarity for each pair of vectors\n",
        "similarity_matrix = []\n",
        "for i in range(len(vectors)):\n",
        "    similarities = []\n",
        "    for j in range(len(vectors)):\n",
        "        similarity_score = cosine_similarity(vectors[i], vectors[j])\n",
        "        similarities.append(similarity_score)\n",
        "    similarity_matrix.append(similarities)\n"
      ],
      "metadata": {
        "id": "U-XjSYg-S4AV"
      },
      "execution_count": null,
      "outputs": []
    },
    {
      "cell_type": "code",
      "source": [
        "mean_value = np.mean(similarity_matrix)\n",
        "print(\"The cosine similarity for Thermal max:\", mean_value)"
      ],
      "metadata": {
        "colab": {
          "base_uri": "https://localhost:8080/"
        },
        "id": "0q3cGolYS4DG",
        "outputId": "c01928ec-5234-4904-e688-19e0d06a65b4"
      },
      "execution_count": null,
      "outputs": [
        {
          "output_type": "stream",
          "name": "stdout",
          "text": [
            "The cosine similarity for Thermal max: 0.8472512021064011\n"
          ]
        }
      ]
    },
    {
      "cell_type": "code",
      "source": [
        "file_path = '/content/Thermal min.xlsx'\n",
        "data = pd.read_excel(file_path)"
      ],
      "metadata": {
        "id": "lRUvB4w_S4Fy"
      },
      "execution_count": null,
      "outputs": []
    },
    {
      "cell_type": "code",
      "source": [
        "vector1=data.iloc[0]\n",
        "vector2=data.iloc[1]\n",
        "vector3=data.iloc[2]\n",
        "vector4=data.iloc[3]\n",
        "vector5=data.iloc[4]\n",
        "vector6=data.iloc[5]\n",
        "vector7=data.iloc[6]\n",
        "vector8=data.iloc[7]\n",
        "vector9=data.iloc[8]\n",
        "vector10=data.iloc[9]\n",
        "vectors = [vector1, vector2, vector3, vector4, vector5, vector6, vector7, vector8, vector9, vector10]"
      ],
      "metadata": {
        "id": "qIJeYvbUU8pP"
      },
      "execution_count": null,
      "outputs": []
    },
    {
      "cell_type": "code",
      "source": [
        "# Calculate cosine similarity for each pair of vectors\n",
        "similarity_matrix = []\n",
        "for i in range(len(vectors)):\n",
        "    similarities = []\n",
        "    for j in range(len(vectors)):\n",
        "        similarity_score = cosine_similarity(vectors[i], vectors[j])\n",
        "        similarities.append(similarity_score)\n",
        "    similarity_matrix.append(similarities)\n"
      ],
      "metadata": {
        "id": "yqFKVn_qU8rp"
      },
      "execution_count": null,
      "outputs": []
    },
    {
      "cell_type": "code",
      "source": [
        "mean_value = np.mean(similarity_matrix)\n",
        "print(\"The cosine similarity for Thermal min:\", mean_value)"
      ],
      "metadata": {
        "colab": {
          "base_uri": "https://localhost:8080/"
        },
        "id": "-5FyRUL-U8vV",
        "outputId": "eb5630a8-5123-4456-c1ad-cf0cebfcc2d0"
      },
      "execution_count": null,
      "outputs": [
        {
          "output_type": "stream",
          "name": "stdout",
          "text": [
            "The cosine similarity for Thermal min: 0.7803971159193029\n"
          ]
        }
      ]
    },
    {
      "cell_type": "code",
      "source": [
        "file_path ='/content/climate vs.xlsx'\n",
        "data = pd.read_excel(file_path)"
      ],
      "metadata": {
        "id": "6ZJUujFSS4IN"
      },
      "execution_count": null,
      "outputs": []
    },
    {
      "cell_type": "code",
      "source": [
        "vector1=data.iloc[0]\n",
        "vector2=data.iloc[1]\n",
        "vector3=data.iloc[2]\n",
        "vector4=data.iloc[3]\n",
        "vector5=data.iloc[4]\n",
        "vector6=data.iloc[5]\n",
        "vector7=data.iloc[6]\n",
        "vector8=data.iloc[7]\n",
        "vector9=data.iloc[8]\n",
        "vector10=data.iloc[9]\n",
        "vectors = [vector1, vector2, vector3, vector4, vector5, vector6, vector7, vector8, vector9, vector10]"
      ],
      "metadata": {
        "id": "AKTSujnK_go8"
      },
      "execution_count": null,
      "outputs": []
    },
    {
      "cell_type": "code",
      "source": [
        "# Calculate cosine similarity for each pair of vectors\n",
        "similarity_matrix = []\n",
        "for i in range(len(vectors)):\n",
        "    similarities = []\n",
        "    for j in range(len(vectors)):\n",
        "        similarity_score = cosine_similarity(vectors[i], vectors[j])\n",
        "        similarities.append(similarity_score)\n",
        "    similarity_matrix.append(similarities)\n"
      ],
      "metadata": {
        "id": "fk5l740U_grd"
      },
      "execution_count": null,
      "outputs": []
    },
    {
      "cell_type": "code",
      "source": [
        "mean_value = np.mean(similarity_matrix)\n",
        "print(\"The cosine similarity for climate vs:\", mean_value)"
      ],
      "metadata": {
        "colab": {
          "base_uri": "https://localhost:8080/"
        },
        "id": "BDdzVZMY_guF",
        "outputId": "bdc93a61-5750-453a-cffa-f59562e6d2ab"
      },
      "execution_count": null,
      "outputs": [
        {
          "output_type": "stream",
          "name": "stdout",
          "text": [
            "The cosine similarity for climate vs: 0.567882353510007\n"
          ]
        }
      ]
    },
    {
      "cell_type": "code",
      "source": [
        "file_path ='/content/climate vpd.xlsx'\n",
        "data = pd.read_excel(file_path)"
      ],
      "metadata": {
        "id": "fcTqa8WX_gwv"
      },
      "execution_count": null,
      "outputs": []
    },
    {
      "cell_type": "code",
      "source": [
        "vector1=data.iloc[0]\n",
        "vector2=data.iloc[1]\n",
        "vector3=data.iloc[2]\n",
        "vector4=data.iloc[3]\n",
        "vector5=data.iloc[4]\n",
        "vector6=data.iloc[5]\n",
        "vector7=data.iloc[6]\n",
        "vector8=data.iloc[7]\n",
        "vector9=data.iloc[8]\n",
        "vector10=data.iloc[9]\n",
        "vectors = [vector1, vector2, vector3, vector4, vector5, vector6, vector7, vector8, vector9, vector10]"
      ],
      "metadata": {
        "id": "UhaH1K5z_gzX"
      },
      "execution_count": null,
      "outputs": []
    },
    {
      "cell_type": "code",
      "source": [
        "# Calculate cosine similarity for each pair of vectors\n",
        "similarity_matrix = []\n",
        "for i in range(len(vectors)):\n",
        "    similarities = []\n",
        "    for j in range(len(vectors)):\n",
        "        similarity_score = cosine_similarity(vectors[i], vectors[j])\n",
        "        similarities.append(similarity_score)\n",
        "    similarity_matrix.append(similarities)"
      ],
      "metadata": {
        "id": "KM-dr5Ee_g1x"
      },
      "execution_count": null,
      "outputs": []
    },
    {
      "cell_type": "code",
      "source": [
        "mean_value = np.mean(similarity_matrix)\n",
        "print(\"The cosine similarity for climate vpd:\", mean_value)"
      ],
      "metadata": {
        "colab": {
          "base_uri": "https://localhost:8080/"
        },
        "id": "HH0_WnEH_g5T",
        "outputId": "0e6d2e55-a321-4828-cd55-80a36e9dd977"
      },
      "execution_count": null,
      "outputs": [
        {
          "output_type": "stream",
          "name": "stdout",
          "text": [
            "The cosine similarity for climate vpd: 0.7080310262798608\n"
          ]
        }
      ]
    },
    {
      "cell_type": "code",
      "source": [
        "file_path ='/content/climate srad.xlsx'\n",
        "data = pd.read_excel(file_path)"
      ],
      "metadata": {
        "id": "XptLDzR8S4Km"
      },
      "execution_count": null,
      "outputs": []
    },
    {
      "cell_type": "code",
      "source": [
        "vector1=data.iloc[0]\n",
        "vector2=data.iloc[1]\n",
        "vector3=data.iloc[2]\n",
        "vector4=data.iloc[3]\n",
        "vector5=data.iloc[4]\n",
        "vector6=data.iloc[5]\n",
        "vector7=data.iloc[6]\n",
        "vector8=data.iloc[7]\n",
        "vector9=data.iloc[8]\n",
        "vector10=data.iloc[9]\n",
        "vectors = [vector1, vector2, vector3, vector4, vector5, vector6, vector7, vector8, vector9, vector10]"
      ],
      "metadata": {
        "id": "Vq5g6834S4Nb"
      },
      "execution_count": null,
      "outputs": []
    },
    {
      "cell_type": "code",
      "source": [
        "# Calculate cosine similarity for each pair of vectors\n",
        "similarity_matrix = []\n",
        "for i in range(len(vectors)):\n",
        "    similarities = []\n",
        "    for j in range(len(vectors)):\n",
        "        similarity_score = cosine_similarity(vectors[i], vectors[j])\n",
        "        similarities.append(similarity_score)\n",
        "    similarity_matrix.append(similarities)\n"
      ],
      "metadata": {
        "id": "o6Ar8VLzS4P3"
      },
      "execution_count": null,
      "outputs": []
    },
    {
      "cell_type": "code",
      "source": [
        "mean_value = np.mean(similarity_matrix)\n",
        "print(\"The cosine similarity for climate srad:\", mean_value)"
      ],
      "metadata": {
        "id": "nwcpcRC9S4TZ",
        "colab": {
          "base_uri": "https://localhost:8080/"
        },
        "outputId": "1d35a247-85a1-4829-d764-47d92bf56d6d"
      },
      "execution_count": null,
      "outputs": [
        {
          "output_type": "stream",
          "name": "stdout",
          "text": [
            "The cosine similarity for climate srad: 0.31049306728280945\n"
          ]
        }
      ]
    },
    {
      "cell_type": "code",
      "source": [
        "file_path ='/content/climate vap.xlsx'\n",
        "data = pd.read_excel(file_path)"
      ],
      "metadata": {
        "id": "w0YhqUpsE3FM"
      },
      "execution_count": null,
      "outputs": []
    },
    {
      "cell_type": "code",
      "source": [
        "vector1=data.iloc[0]\n",
        "vector2=data.iloc[1]\n",
        "vector3=data.iloc[2]\n",
        "vector4=data.iloc[3]\n",
        "vector5=data.iloc[4]\n",
        "vector6=data.iloc[5]\n",
        "vector7=data.iloc[6]\n",
        "vector8=data.iloc[7]\n",
        "vector9=data.iloc[8]\n",
        "vector10=data.iloc[9]\n",
        "vectors = [vector1, vector2, vector3, vector4, vector5, vector6, vector7, vector8, vector9, vector10]"
      ],
      "metadata": {
        "id": "yv9-QJ_pE3Hv"
      },
      "execution_count": null,
      "outputs": []
    },
    {
      "cell_type": "code",
      "source": [
        "# Calculate cosine similarity for each pair of vectors\n",
        "similarity_matrix = []\n",
        "for i in range(len(vectors)):\n",
        "    similarities = []\n",
        "    for j in range(len(vectors)):\n",
        "        similarity_score = cosine_similarity(vectors[i], vectors[j])\n",
        "        similarities.append(similarity_score)\n",
        "    similarity_matrix.append(similarities)\n"
      ],
      "metadata": {
        "id": "8K3pveyVE3KU"
      },
      "execution_count": null,
      "outputs": []
    },
    {
      "cell_type": "code",
      "source": [
        "mean_value = np.mean(similarity_matrix)\n",
        "print(\"The cosine similarity for climate vap:\", mean_value)"
      ],
      "metadata": {
        "colab": {
          "base_uri": "https://localhost:8080/"
        },
        "id": "amCvI_WvE3Mr",
        "outputId": "93ade324-ec66-4282-ee67-61447df816fc"
      },
      "execution_count": null,
      "outputs": [
        {
          "output_type": "stream",
          "name": "stdout",
          "text": [
            "The cosine similarity for climate vap: 0.39904598697802024\n"
          ]
        }
      ]
    },
    {
      "cell_type": "code",
      "source": [
        "file_path ='/content/climate pr.xlsx'\n",
        "data = pd.read_excel(file_path)"
      ],
      "metadata": {
        "id": "DZX3Ov8RE3PA"
      },
      "execution_count": null,
      "outputs": []
    },
    {
      "cell_type": "code",
      "source": [
        "vector1=data.iloc[0]\n",
        "vector2=data.iloc[1]\n",
        "vector3=data.iloc[2]\n",
        "vector4=data.iloc[3]\n",
        "vector5=data.iloc[4]\n",
        "vector6=data.iloc[5]\n",
        "vector7=data.iloc[6]\n",
        "vector8=data.iloc[7]\n",
        "vector9=data.iloc[8]\n",
        "vector10=data.iloc[9]\n",
        "vectors = [vector1, vector2, vector3, vector4, vector5, vector6, vector7, vector8, vector9, vector10]"
      ],
      "metadata": {
        "id": "HABDhAiuE3RY"
      },
      "execution_count": null,
      "outputs": []
    },
    {
      "cell_type": "code",
      "source": [
        "# Calculate cosine similarity for each pair of vectors\n",
        "similarity_matrix = []\n",
        "for i in range(len(vectors)):\n",
        "    similarities = []\n",
        "    for j in range(len(vectors)):\n",
        "        similarity_score = cosine_similarity(vectors[i], vectors[j])\n",
        "        similarities.append(similarity_score)\n",
        "    similarity_matrix.append(similarities)\n"
      ],
      "metadata": {
        "id": "XxEyGdbyE3Tt"
      },
      "execution_count": null,
      "outputs": []
    },
    {
      "cell_type": "code",
      "source": [
        "mean_value = np.mean(similarity_matrix)\n",
        "print(\"The cosine similarity for climate pr:\", mean_value)"
      ],
      "metadata": {
        "colab": {
          "base_uri": "https://localhost:8080/"
        },
        "id": "YDKFsrq_E3WD",
        "outputId": "b9a8537a-2c98-4a3a-82b3-260d5aa7b6e0"
      },
      "execution_count": null,
      "outputs": [
        {
          "output_type": "stream",
          "name": "stdout",
          "text": [
            "The cosine similarity for climate pr: 0.6274350616386785\n"
          ]
        }
      ]
    },
    {
      "cell_type": "code",
      "source": [
        "file_path ='/content/climate ro.xlsx'\n",
        "data = pd.read_excel(file_path)"
      ],
      "metadata": {
        "id": "0dvD1xANE3Zn"
      },
      "execution_count": null,
      "outputs": []
    },
    {
      "cell_type": "code",
      "source": [
        "vector1=data.iloc[0]\n",
        "vector2=data.iloc[1]\n",
        "vector3=data.iloc[2]\n",
        "vector4=data.iloc[3]\n",
        "vector5=data.iloc[4]\n",
        "vector6=data.iloc[5]\n",
        "vector7=data.iloc[6]\n",
        "vector8=data.iloc[7]\n",
        "vector9=data.iloc[8]\n",
        "vector10=data.iloc[9]\n",
        "vectors = [vector1, vector2, vector3, vector4, vector5, vector6, vector7, vector8, vector9, vector10]"
      ],
      "metadata": {
        "id": "i2fPbxNTJ41h"
      },
      "execution_count": null,
      "outputs": []
    },
    {
      "cell_type": "code",
      "source": [
        "# Calculate cosine similarity for each pair of vectors\n",
        "similarity_matrix = []\n",
        "for i in range(len(vectors)):\n",
        "    similarities = []\n",
        "    for j in range(len(vectors)):\n",
        "        similarity_score = cosine_similarity(vectors[i], vectors[j])\n",
        "        similarities.append(similarity_score)\n",
        "    similarity_matrix.append(similarities)\n"
      ],
      "metadata": {
        "id": "Q0tAYj5oJ43z"
      },
      "execution_count": null,
      "outputs": []
    },
    {
      "cell_type": "code",
      "source": [
        "mean_value = np.mean(similarity_matrix)\n",
        "print(\"The cosine similarity for climate ro:\", mean_value)"
      ],
      "metadata": {
        "colab": {
          "base_uri": "https://localhost:8080/"
        },
        "id": "ioDZgql8J46K",
        "outputId": "c02e019c-83e1-4aeb-8de7-7130a6bd9c91"
      },
      "execution_count": null,
      "outputs": [
        {
          "output_type": "stream",
          "name": "stdout",
          "text": [
            "The cosine similarity for climate ro: 0.7941360650428719\n"
          ]
        }
      ]
    },
    {
      "cell_type": "code",
      "source": [
        "file_path ='/content/climate pdsi.xlsx'\n",
        "data = pd.read_excel(file_path)"
      ],
      "metadata": {
        "id": "eeURR7kgJ48n"
      },
      "execution_count": null,
      "outputs": []
    },
    {
      "cell_type": "code",
      "source": [
        "vector1=data.iloc[0]\n",
        "vector2=data.iloc[1]\n",
        "vector3=data.iloc[2]\n",
        "vector4=data.iloc[3]\n",
        "vector5=data.iloc[4]\n",
        "vector6=data.iloc[5]\n",
        "vector7=data.iloc[6]\n",
        "vector8=data.iloc[7]\n",
        "vector9=data.iloc[8]\n",
        "vector10=data.iloc[9]\n",
        "vectors = [vector1, vector2, vector3, vector4, vector5, vector6, vector7, vector8, vector9, vector10]"
      ],
      "metadata": {
        "id": "0oqDzR-hLg1M"
      },
      "execution_count": null,
      "outputs": []
    },
    {
      "cell_type": "code",
      "source": [
        "# Calculate cosine similarity for each pair of vectors\n",
        "similarity_matrix = []\n",
        "for i in range(len(vectors)):\n",
        "    similarities = []\n",
        "    for j in range(len(vectors)):\n",
        "        similarity_score = cosine_similarity(vectors[i], vectors[j])\n",
        "        similarities.append(similarity_score)\n",
        "    similarity_matrix.append(similarities)\n",
        "\n"
      ],
      "metadata": {
        "id": "0EPzml4HLg3p"
      },
      "execution_count": null,
      "outputs": []
    },
    {
      "cell_type": "code",
      "source": [
        "mean_value = np.mean(similarity_matrix)\n",
        "print(\"The cosine similarity for climate pdsi:\", mean_value)"
      ],
      "metadata": {
        "colab": {
          "base_uri": "https://localhost:8080/"
        },
        "id": "aSd9zQafLg6D",
        "outputId": "89cfa827-64e6-42d9-fbe5-05f6bd18edae"
      },
      "execution_count": null,
      "outputs": [
        {
          "output_type": "stream",
          "name": "stdout",
          "text": [
            "The cosine similarity for climate pdsi: 0.3110483154301371\n"
          ]
        }
      ]
    },
    {
      "cell_type": "code",
      "source": [
        "file_path ='/content/climate pet.xlsx'\n",
        "data = pd.read_excel(file_path)"
      ],
      "metadata": {
        "id": "-U8V2yz6Lg8r"
      },
      "execution_count": null,
      "outputs": []
    },
    {
      "cell_type": "code",
      "source": [
        "vector1=data.iloc[0]\n",
        "vector2=data.iloc[1]\n",
        "vector3=data.iloc[2]\n",
        "vector4=data.iloc[3]\n",
        "vector5=data.iloc[4]\n",
        "vector6=data.iloc[5]\n",
        "vector7=data.iloc[6]\n",
        "vector8=data.iloc[7]\n",
        "vector9=data.iloc[8]\n",
        "vector10=data.iloc[9]\n",
        "vectors = [vector1, vector2, vector3, vector4, vector5, vector6, vector7, vector8, vector9, vector10]"
      ],
      "metadata": {
        "id": "8jxdPr64LhAI"
      },
      "execution_count": null,
      "outputs": []
    },
    {
      "cell_type": "code",
      "source": [
        "# Calculate cosine similarity for each pair of vectors\n",
        "similarity_matrix = []\n",
        "for i in range(len(vectors)):\n",
        "    similarities = []\n",
        "    for j in range(len(vectors)):\n",
        "        similarity_score = cosine_similarity(vectors[i], vectors[j])\n",
        "        similarities.append(similarity_score)\n",
        "    similarity_matrix.append(similarities)\n",
        "\n"
      ],
      "metadata": {
        "id": "-zgQLtDGJ4_7"
      },
      "execution_count": null,
      "outputs": []
    },
    {
      "cell_type": "code",
      "source": [
        "mean_value = np.mean(similarity_matrix)\n",
        "print(\"The cosine similarity for climate pet:\", mean_value)"
      ],
      "metadata": {
        "colab": {
          "base_uri": "https://localhost:8080/"
        },
        "id": "S9ccwsoeN5_x",
        "outputId": "3ce15732-7c58-4a60-caee-248410e86214"
      },
      "execution_count": null,
      "outputs": [
        {
          "output_type": "stream",
          "name": "stdout",
          "text": [
            "The cosine similarity for climate pet: 0.41703417337613935\n"
          ]
        }
      ]
    },
    {
      "cell_type": "code",
      "source": [
        "file_path ='/content/Soil soc.xlsx'\n",
        "data = pd.read_excel(file_path)"
      ],
      "metadata": {
        "id": "IATyZnO-OCJ3"
      },
      "execution_count": null,
      "outputs": []
    },
    {
      "cell_type": "code",
      "source": [
        "vector1=data.iloc[0]\n",
        "vector2=data.iloc[1]\n",
        "vector3=data.iloc[2]\n",
        "vector4=data.iloc[3]\n",
        "vector5=data.iloc[4]\n",
        "vector6=data.iloc[5]\n",
        "vector7=data.iloc[6]\n",
        "vector8=data.iloc[7]\n",
        "vector9=data.iloc[8]\n",
        "vector10=data.iloc[9]\n",
        "vectors = [vector1, vector2, vector3, vector4, vector5, vector6, vector7, vector8, vector9, vector10]"
      ],
      "metadata": {
        "id": "lfg7IE8TOCMg"
      },
      "execution_count": null,
      "outputs": []
    },
    {
      "cell_type": "code",
      "source": [
        "# Calculate cosine similarity for each pair of vectors\n",
        "similarity_matrix = []\n",
        "for i in range(len(vectors)):\n",
        "    similarities = []\n",
        "    for j in range(len(vectors)):\n",
        "        similarity_score = cosine_similarity(vectors[i], vectors[j])\n",
        "        similarities.append(similarity_score)\n",
        "    similarity_matrix.append(similarities)\n"
      ],
      "metadata": {
        "id": "w4q_2PQpOCPH"
      },
      "execution_count": null,
      "outputs": []
    },
    {
      "cell_type": "code",
      "source": [
        "mean_value = np.mean(similarity_matrix)\n",
        "print(\"The cosine similarity for soil soc:\", mean_value)"
      ],
      "metadata": {
        "colab": {
          "base_uri": "https://localhost:8080/"
        },
        "id": "43yKzi8IOCRd",
        "outputId": "3f24f90b-86e8-42ef-837d-de5c344daba0"
      },
      "execution_count": null,
      "outputs": [
        {
          "output_type": "stream",
          "name": "stdout",
          "text": [
            "The cosine similarity for soil soc: 0.6604743443004721\n"
          ]
        }
      ]
    },
    {
      "cell_type": "code",
      "source": [
        "file_path ='/content/climate def.xlsx'\n",
        "data = pd.read_excel(file_path)"
      ],
      "metadata": {
        "id": "cbuF8fH7P5CL"
      },
      "execution_count": null,
      "outputs": []
    },
    {
      "cell_type": "code",
      "source": [
        "vector1=data.iloc[0]\n",
        "vector2=data.iloc[1]\n",
        "vector3=data.iloc[2]\n",
        "vector4=data.iloc[3]\n",
        "vector5=data.iloc[4]\n",
        "vector6=data.iloc[5]\n",
        "vector7=data.iloc[6]\n",
        "vector8=data.iloc[7]\n",
        "vector9=data.iloc[8]\n",
        "vector10=data.iloc[9]\n",
        "vectors = [vector1, vector2, vector3, vector4, vector5, vector6, vector7, vector8, vector9, vector10]"
      ],
      "metadata": {
        "id": "mOdJPg-3P5Eg"
      },
      "execution_count": null,
      "outputs": []
    },
    {
      "cell_type": "code",
      "source": [
        "# Calculate cosine similarity for each pair of vectors\n",
        "similarity_matrix = []\n",
        "for i in range(len(vectors)):\n",
        "    similarities = []\n",
        "    for j in range(len(vectors)):\n",
        "        similarity_score = cosine_similarity(vectors[i], vectors[j])\n",
        "        similarities.append(similarity_score)\n",
        "    similarity_matrix.append(similarities)\n",
        "\n"
      ],
      "metadata": {
        "id": "GkMK_FFQSAG9"
      },
      "execution_count": null,
      "outputs": []
    },
    {
      "cell_type": "code",
      "source": [
        "mean_value = np.mean(similarity_matrix)\n",
        "print(\"The cosine similarity for climate def:\", mean_value)"
      ],
      "metadata": {
        "colab": {
          "base_uri": "https://localhost:8080/"
        },
        "id": "5LXWR37aP5G_",
        "outputId": "e4dd51b7-478f-4c27-937a-037e23efcd35"
      },
      "execution_count": null,
      "outputs": [
        {
          "output_type": "stream",
          "name": "stdout",
          "text": [
            "The cosine similarity for climate def: 0.5219993199918975\n"
          ]
        }
      ]
    },
    {
      "cell_type": "code",
      "source": [
        "file_path ='/content/phh2o.xlsx'\n",
        "data = pd.read_excel(file_path)"
      ],
      "metadata": {
        "id": "LQJLK5o6P5JZ"
      },
      "execution_count": null,
      "outputs": []
    },
    {
      "cell_type": "code",
      "source": [
        "vector1=data.iloc[0]\n",
        "vector2=data.iloc[1]\n",
        "vector3=data.iloc[2]\n",
        "vector4=data.iloc[3]\n",
        "vector5=data.iloc[4]\n",
        "vector6=data.iloc[5]\n",
        "vector7=data.iloc[6]\n",
        "vector8=data.iloc[7]\n",
        "vector9=data.iloc[8]\n",
        "vector10=data.iloc[9]\n",
        "vectors = [vector1, vector2, vector3, vector4, vector5, vector6, vector7, vector8, vector9, vector10]"
      ],
      "metadata": {
        "id": "H2mRyC58P5L5"
      },
      "execution_count": null,
      "outputs": []
    },
    {
      "cell_type": "code",
      "source": [
        "# Calculate cosine similarity for each pair of vectors\n",
        "similarity_matrix = []\n",
        "for i in range(len(vectors)):\n",
        "    similarities = []\n",
        "    for j in range(len(vectors)):\n",
        "        similarity_score = cosine_similarity(vectors[i], vectors[j])\n",
        "        similarities.append(similarity_score)\n",
        "    similarity_matrix.append(similarities)\n",
        "\n"
      ],
      "metadata": {
        "id": "-ENItUGzP5OJ"
      },
      "execution_count": null,
      "outputs": []
    },
    {
      "cell_type": "code",
      "source": [
        "mean_value = np.mean(similarity_matrix)\n",
        "print(\"The cosine similarity for phh2o:\", mean_value)"
      ],
      "metadata": {
        "colab": {
          "base_uri": "https://localhost:8080/"
        },
        "id": "jBEH_Lh6P5Qg",
        "outputId": "ee2415ba-8ae5-4b84-ca67-350b9ec537d0"
      },
      "execution_count": null,
      "outputs": [
        {
          "output_type": "stream",
          "name": "stdout",
          "text": [
            "The cosine similarity for phh2o: 0.9194693259272193\n"
          ]
        }
      ]
    },
    {
      "cell_type": "code",
      "source": [
        "file_path ='/content/Soil sand.xlsx'\n",
        "data = pd.read_excel(file_path)"
      ],
      "metadata": {
        "id": "N6F1W_7TP5Sy"
      },
      "execution_count": null,
      "outputs": []
    },
    {
      "cell_type": "code",
      "source": [
        "vector1=data.iloc[0]\n",
        "vector2=data.iloc[1]\n",
        "vector3=data.iloc[2]\n",
        "vector4=data.iloc[3]\n",
        "vector5=data.iloc[4]\n",
        "vector6=data.iloc[5]\n",
        "vector7=data.iloc[6]\n",
        "vector8=data.iloc[7]\n",
        "vector9=data.iloc[8]\n",
        "vector10=data.iloc[9]\n",
        "vectors = [vector1, vector2, vector3, vector4, vector5, vector6, vector7, vector8, vector9, vector10]"
      ],
      "metadata": {
        "id": "exnAukSTVA4c"
      },
      "execution_count": null,
      "outputs": []
    },
    {
      "cell_type": "code",
      "source": [
        "# Calculate cosine similarity for each pair of vectors\n",
        "similarity_matrix = []\n",
        "for i in range(len(vectors)):\n",
        "    similarities = []\n",
        "    for j in range(len(vectors)):\n",
        "        similarity_score = cosine_similarity(vectors[i], vectors[j])\n",
        "        similarities.append(similarity_score)\n",
        "    similarity_matrix.append(similarities)\n",
        "\n"
      ],
      "metadata": {
        "id": "g9Noup6WVA6-"
      },
      "execution_count": null,
      "outputs": []
    },
    {
      "cell_type": "code",
      "source": [
        "mean_value = np.mean(similarity_matrix)\n",
        "print(\"The cosine similarity for soil sand:\", mean_value)"
      ],
      "metadata": {
        "colab": {
          "base_uri": "https://localhost:8080/"
        },
        "id": "c0S06oo0VA9h",
        "outputId": "e4bf7e60-8562-4a62-b173-bc13aae18c37"
      },
      "execution_count": null,
      "outputs": [
        {
          "output_type": "stream",
          "name": "stdout",
          "text": [
            "The cosine similarity for soil sand: 0.8881059323114235\n"
          ]
        }
      ]
    },
    {
      "cell_type": "code",
      "source": [
        "file_path ='/content/Soil silt.xlsx'\n",
        "data = pd.read_excel(file_path)"
      ],
      "metadata": {
        "id": "u7219OF2VBA9"
      },
      "execution_count": null,
      "outputs": []
    },
    {
      "cell_type": "code",
      "source": [
        "vector1=data.iloc[0]\n",
        "vector2=data.iloc[1]\n",
        "vector3=data.iloc[2]\n",
        "vector4=data.iloc[3]\n",
        "vector5=data.iloc[4]\n",
        "vector6=data.iloc[5]\n",
        "vector7=data.iloc[6]\n",
        "vector8=data.iloc[7]\n",
        "vector9=data.iloc[8]\n",
        "vector10=data.iloc[9]\n",
        "vectors = [vector1, vector2, vector3, vector4, vector5, vector6, vector7, vector8, vector9, vector10]"
      ],
      "metadata": {
        "id": "3GdgpS1uP5VK"
      },
      "execution_count": null,
      "outputs": []
    },
    {
      "cell_type": "code",
      "source": [
        "# Calculate cosine similarity for each pair of vectors\n",
        "similarity_matrix = []\n",
        "for i in range(len(vectors)):\n",
        "    similarities = []\n",
        "    for j in range(len(vectors)):\n",
        "        similarity_score = cosine_similarity(vectors[i], vectors[j])\n",
        "        similarities.append(similarity_score)\n",
        "    similarity_matrix.append(similarities)\n"
      ],
      "metadata": {
        "id": "Jbbz57dzP5Xf"
      },
      "execution_count": null,
      "outputs": []
    },
    {
      "cell_type": "code",
      "source": [
        "mean_value = np.mean(similarity_matrix)\n",
        "print(\"The cosine similarity for soil silt:\", mean_value)"
      ],
      "metadata": {
        "colab": {
          "base_uri": "https://localhost:8080/"
        },
        "id": "YEklQ8IxP5bA",
        "outputId": "5ca5ae77-9fc6-4682-f815-78086604ff4a"
      },
      "execution_count": null,
      "outputs": [
        {
          "output_type": "stream",
          "name": "stdout",
          "text": [
            "The cosine similarity for soil silt: 0.8873377742255754\n"
          ]
        }
      ]
    },
    {
      "cell_type": "code",
      "source": [
        "file_path ='/content/Soil ocd.xlsx'\n",
        "data = pd.read_excel(file_path)"
      ],
      "metadata": {
        "id": "g9y83AOCOCU3"
      },
      "execution_count": null,
      "outputs": []
    },
    {
      "cell_type": "code",
      "source": [
        "vector1=data.iloc[0]\n",
        "vector2=data.iloc[1]\n",
        "vector3=data.iloc[2]\n",
        "vector4=data.iloc[3]\n",
        "vector5=data.iloc[4]\n",
        "vector6=data.iloc[5]\n",
        "vector7=data.iloc[6]\n",
        "vector8=data.iloc[7]\n",
        "vector9=data.iloc[8]\n",
        "vector10=data.iloc[9]\n",
        "vectors = [vector1, vector2, vector3, vector4, vector5, vector6, vector7, vector8, vector9, vector10]"
      ],
      "metadata": {
        "id": "AKYbHJb2YNt1"
      },
      "execution_count": null,
      "outputs": []
    },
    {
      "cell_type": "code",
      "source": [
        "# Calculate cosine similarity for each pair of vectors\n",
        "similarity_matrix = []\n",
        "for i in range(len(vectors)):\n",
        "    similarities = []\n",
        "    for j in range(len(vectors)):\n",
        "        similarity_score = cosine_similarity(vectors[i], vectors[j])\n",
        "        similarities.append(similarity_score)\n",
        "    similarity_matrix.append(similarities)\n"
      ],
      "metadata": {
        "id": "4KkoPbD2YNwl"
      },
      "execution_count": null,
      "outputs": []
    },
    {
      "cell_type": "code",
      "source": [
        "mean_value = np.mean(similarity_matrix)\n",
        "print(\"The cosine similarity for soil ocd:\", mean_value)"
      ],
      "metadata": {
        "colab": {
          "base_uri": "https://localhost:8080/"
        },
        "id": "A7SrAuRbYNzV",
        "outputId": "596c50f1-229d-412e-8e19-b3faaf8ae388"
      },
      "execution_count": null,
      "outputs": [
        {
          "output_type": "stream",
          "name": "stdout",
          "text": [
            "The cosine similarity for soil ocd: 0.8945196056671133\n"
          ]
        }
      ]
    },
    {
      "cell_type": "code",
      "source": [
        "file_path ='/content/Soil ocs.xlsx'\n",
        "data = pd.read_excel(file_path)"
      ],
      "metadata": {
        "id": "X2kd4q-oYnjL"
      },
      "execution_count": null,
      "outputs": []
    },
    {
      "cell_type": "code",
      "source": [
        "vector1=data.iloc[0]\n",
        "vector2=data.iloc[1]\n",
        "vector3=data.iloc[2]\n",
        "vector4=data.iloc[3]\n",
        "vector5=data.iloc[4]\n",
        "vector6=data.iloc[5]\n",
        "vector7=data.iloc[6]\n",
        "vector8=data.iloc[7]\n",
        "vector9=data.iloc[8]\n",
        "vector10=data.iloc[9]\n",
        "vectors = [vector1, vector2, vector3, vector4, vector5, vector6, vector7, vector8, vector9, vector10]"
      ],
      "metadata": {
        "id": "9xzrpEQqYnli"
      },
      "execution_count": null,
      "outputs": []
    },
    {
      "cell_type": "code",
      "source": [
        "# Calculate cosine similarity for each pair of vectors\n",
        "similarity_matrix = []\n",
        "for i in range(len(vectors)):\n",
        "    similarities = []\n",
        "    for j in range(len(vectors)):\n",
        "        similarity_score = cosine_similarity(vectors[i], vectors[j])\n",
        "        similarities.append(similarity_score)\n",
        "    similarity_matrix.append(similarities)"
      ],
      "metadata": {
        "id": "LkYgd2HEYnoC"
      },
      "execution_count": null,
      "outputs": []
    },
    {
      "cell_type": "code",
      "source": [
        "mean_value = np.mean(similarity_matrix)\n",
        "print(\"The cosine similarity for soil ocs:\", mean_value)"
      ],
      "metadata": {
        "colab": {
          "base_uri": "https://localhost:8080/"
        },
        "id": "4rtoDMwgYnqg",
        "outputId": "e7b8a98b-574e-45a8-fad0-3cf97723787a"
      },
      "execution_count": null,
      "outputs": [
        {
          "output_type": "stream",
          "name": "stdout",
          "text": [
            "The cosine similarity for soil ocs: 0.8169428470406482\n"
          ]
        }
      ]
    },
    {
      "cell_type": "code",
      "source": [
        "file_path ='/content/Soil clay.xlsx'\n",
        "data = pd.read_excel(file_path)"
      ],
      "metadata": {
        "id": "qeZ5VT7_Ynsv"
      },
      "execution_count": null,
      "outputs": []
    },
    {
      "cell_type": "code",
      "source": [
        "vector1=data.iloc[0]\n",
        "vector2=data.iloc[1]\n",
        "vector3=data.iloc[2]\n",
        "vector4=data.iloc[3]\n",
        "vector5=data.iloc[4]\n",
        "vector6=data.iloc[5]\n",
        "vector7=data.iloc[6]\n",
        "vector8=data.iloc[7]\n",
        "vector9=data.iloc[8]\n",
        "vector10=data.iloc[9]\n",
        "vectors = [vector1, vector2, vector3, vector4, vector5, vector6, vector7, vector8, vector9, vector10]"
      ],
      "metadata": {
        "id": "Pe-fEBxJbiYq"
      },
      "execution_count": null,
      "outputs": []
    },
    {
      "cell_type": "code",
      "source": [
        "# Calculate cosine similarity for each pair of vectors\n",
        "similarity_matrix = []\n",
        "for i in range(len(vectors)):\n",
        "    similarities = []\n",
        "    for j in range(len(vectors)):\n",
        "        similarity_score = cosine_similarity(vectors[i], vectors[j])\n",
        "        similarities.append(similarity_score)\n",
        "    similarity_matrix.append(similarities)"
      ],
      "metadata": {
        "id": "ZI4QqXj3Ynvb"
      },
      "execution_count": null,
      "outputs": []
    },
    {
      "cell_type": "code",
      "source": [
        "mean_value = np.mean(similarity_matrix)\n",
        "print(\"The cosine similarity for soil clay:\", mean_value)"
      ],
      "metadata": {
        "colab": {
          "base_uri": "https://localhost:8080/"
        },
        "id": "NBNcw7erYnx9",
        "outputId": "d0cb646e-29f7-4825-cf6d-c2f3e30da5f9"
      },
      "execution_count": null,
      "outputs": [
        {
          "output_type": "stream",
          "name": "stdout",
          "text": [
            "The cosine similarity for soil clay: 0.7745680199831179\n"
          ]
        }
      ]
    },
    {
      "cell_type": "code",
      "source": [
        "file_path ='/content/Soil nitrogen.xlsx'\n",
        "data = pd.read_excel(file_path)"
      ],
      "metadata": {
        "id": "yQCyUdcBYn0V"
      },
      "execution_count": null,
      "outputs": []
    },
    {
      "cell_type": "code",
      "source": [
        "vector1=data.iloc[0]\n",
        "vector2=data.iloc[1]\n",
        "vector3=data.iloc[2]\n",
        "vector4=data.iloc[3]\n",
        "vector5=data.iloc[4]\n",
        "vector6=data.iloc[5]\n",
        "vector7=data.iloc[6]\n",
        "vector8=data.iloc[7]\n",
        "vector9=data.iloc[8]\n",
        "vector10=data.iloc[9]\n",
        "vectors = [vector1, vector2, vector3, vector4, vector5, vector6, vector7, vector8, vector9, vector10]"
      ],
      "metadata": {
        "id": "vZpk30LkYn2o"
      },
      "execution_count": null,
      "outputs": []
    },
    {
      "cell_type": "code",
      "source": [
        "# Calculate cosine similarity for each pair of vectors\n",
        "similarity_matrix = []\n",
        "for i in range(len(vectors)):\n",
        "    similarities = []\n",
        "    for j in range(len(vectors)):\n",
        "        similarity_score = cosine_similarity(vectors[i], vectors[j])\n",
        "        similarities.append(similarity_score)\n",
        "    similarity_matrix.append(similarities)"
      ],
      "metadata": {
        "id": "nTYatLl5Yn5J"
      },
      "execution_count": null,
      "outputs": []
    },
    {
      "cell_type": "code",
      "source": [
        "mean_value = np.mean(similarity_matrix)\n",
        "print(\"The cosine similarity for soil nitrogen:\", mean_value)"
      ],
      "metadata": {
        "colab": {
          "base_uri": "https://localhost:8080/"
        },
        "id": "9Yz0IeD2Yn8d",
        "outputId": "48a06495-1062-4d59-9f4e-d397f132ce5c"
      },
      "execution_count": null,
      "outputs": [
        {
          "output_type": "stream",
          "name": "stdout",
          "text": [
            "The cosine similarity for soil nitrogen: 0.3093717150343997\n"
          ]
        }
      ]
    },
    {
      "cell_type": "code",
      "source": [
        "file_path ='/content/Soil cfvo.xlsx'\n",
        "data = pd.read_excel(file_path)"
      ],
      "metadata": {
        "id": "QIFW7uwaYN23"
      },
      "execution_count": null,
      "outputs": []
    },
    {
      "cell_type": "code",
      "source": [
        "vector1=data.iloc[0]\n",
        "vector2=data.iloc[1]\n",
        "vector3=data.iloc[2]\n",
        "vector4=data.iloc[3]\n",
        "vector5=data.iloc[4]\n",
        "vector6=data.iloc[5]\n",
        "vector7=data.iloc[6]\n",
        "vector8=data.iloc[7]\n",
        "vector9=data.iloc[8]\n",
        "vector10=data.iloc[9]\n",
        "vectors = [vector1, vector2, vector3, vector4, vector5, vector6, vector7, vector8, vector9, vector10]"
      ],
      "metadata": {
        "id": "FtuKihTZOCcq"
      },
      "execution_count": null,
      "outputs": []
    },
    {
      "cell_type": "code",
      "source": [
        "# Calculate cosine similarity for each pair of vectors\n",
        "similarity_matrix = []\n",
        "for i in range(len(vectors)):\n",
        "    similarities = []\n",
        "    for j in range(len(vectors)):\n",
        "        similarity_score = cosine_similarity(vectors[i], vectors[j])\n",
        "        similarities.append(similarity_score)\n",
        "    similarity_matrix.append(similarities)"
      ],
      "metadata": {
        "id": "VbvxvX-dfKJA"
      },
      "execution_count": null,
      "outputs": []
    },
    {
      "cell_type": "code",
      "source": [
        "mean_value = np.mean(similarity_matrix)\n",
        "print(\"The cosine similarity for soil cfvo:\", mean_value)"
      ],
      "metadata": {
        "colab": {
          "base_uri": "https://localhost:8080/"
        },
        "id": "hclavze_fKLs",
        "outputId": "273b8a65-95b7-400a-bd64-fd74b208a92c"
      },
      "execution_count": null,
      "outputs": [
        {
          "output_type": "stream",
          "name": "stdout",
          "text": [
            "The cosine similarity for soil cfvo: 0.8255885767814334\n"
          ]
        }
      ]
    },
    {
      "cell_type": "code",
      "source": [
        "file_path ='/content/Soil cec.xlsx'\n",
        "data = pd.read_excel(file_path)"
      ],
      "metadata": {
        "id": "hml73YDgfKOj"
      },
      "execution_count": null,
      "outputs": []
    },
    {
      "cell_type": "code",
      "source": [
        "vector1=data.iloc[0]\n",
        "vector2=data.iloc[1]\n",
        "vector3=data.iloc[2]\n",
        "vector4=data.iloc[3]\n",
        "vector5=data.iloc[4]\n",
        "vector6=data.iloc[5]\n",
        "vector7=data.iloc[6]\n",
        "vector8=data.iloc[7]\n",
        "vector9=data.iloc[8]\n",
        "vector10=data.iloc[9]\n",
        "vectors = [vector1, vector2, vector3, vector4, vector5, vector6, vector7, vector8, vector9, vector10]"
      ],
      "metadata": {
        "id": "DZSmlT04gc6F"
      },
      "execution_count": null,
      "outputs": []
    },
    {
      "cell_type": "code",
      "source": [
        "# Calculate cosine similarity for each pair of vectors\n",
        "similarity_matrix = []\n",
        "for i in range(len(vectors)):\n",
        "    similarities = []\n",
        "    for j in range(len(vectors)):\n",
        "        similarity_score = cosine_similarity(vectors[i], vectors[j])\n",
        "        similarities.append(similarity_score)\n",
        "    similarity_matrix.append(similarities)"
      ],
      "metadata": {
        "id": "S_pRl_fegc8Q"
      },
      "execution_count": null,
      "outputs": []
    },
    {
      "cell_type": "code",
      "source": [
        "mean_value = np.mean(similarity_matrix)\n",
        "print(\"The cosine similarity for soil cec:\", mean_value)"
      ],
      "metadata": {
        "colab": {
          "base_uri": "https://localhost:8080/"
        },
        "id": "RAWFdWdrgc-t",
        "outputId": "aca4914d-1723-4b36-f4cb-c9022fec1b0a"
      },
      "execution_count": null,
      "outputs": [
        {
          "output_type": "stream",
          "name": "stdout",
          "text": [
            "The cosine similarity for soil cec: 0.8801466565568695\n"
          ]
        }
      ]
    },
    {
      "cell_type": "code",
      "source": [
        "file_path ='/content/Year.xlsx'\n",
        "data = pd.read_excel(file_path)"
      ],
      "metadata": {
        "id": "7RFNhD6Vgpi-"
      },
      "execution_count": null,
      "outputs": []
    },
    {
      "cell_type": "code",
      "source": [
        "vector1=data.iloc[0]\n",
        "vector2=data.iloc[1]\n",
        "vector3=data.iloc[2]\n",
        "vector4=data.iloc[3]\n",
        "\n",
        "vectors = [vector1, vector2, vector3, vector4]"
      ],
      "metadata": {
        "id": "S_wTklQGgplo"
      },
      "execution_count": null,
      "outputs": []
    },
    {
      "cell_type": "code",
      "source": [
        "# Calculate cosine similarity for each pair of vectors\n",
        "similarity_matrix = []\n",
        "for i in range(len(vectors)):\n",
        "    similarities = []\n",
        "    for j in range(len(vectors)):\n",
        "        similarity_score = cosine_similarity(vectors[i], vectors[j])\n",
        "        similarities.append(similarity_score)\n",
        "    similarity_matrix.append(similarities)"
      ],
      "metadata": {
        "id": "1etOoFxggpoY"
      },
      "execution_count": null,
      "outputs": []
    },
    {
      "cell_type": "code",
      "source": [
        "mean_value = np.mean(similarity_matrix)\n",
        "print(\"The cosine similarity for Year:\", mean_value)"
      ],
      "metadata": {
        "colab": {
          "base_uri": "https://localhost:8080/"
        },
        "id": "14-rsKgfgpqq",
        "outputId": "106428cc-8681-4e09-99e8-006476a1adb6"
      },
      "execution_count": null,
      "outputs": [
        {
          "output_type": "stream",
          "name": "stdout",
          "text": [
            "The cosine similarity for Year: 0.9387221926245923\n"
          ]
        }
      ]
    },
    {
      "cell_type": "code",
      "source": [
        "file_path ='/content/climate aet.xlsx'\n",
        "data = pd.read_excel(file_path)"
      ],
      "metadata": {
        "id": "l7RgfqvfgpuH"
      },
      "execution_count": null,
      "outputs": []
    },
    {
      "cell_type": "code",
      "source": [
        "vector1=data.iloc[0]\n",
        "vector2=data.iloc[1]\n",
        "vector3=data.iloc[2]\n",
        "vector4=data.iloc[3]\n",
        "vector5=data.iloc[4]\n",
        "vector6=data.iloc[5]\n",
        "vector7=data.iloc[6]\n",
        "vector8=data.iloc[7]\n",
        "vector9=data.iloc[8]\n",
        "vector10=data.iloc[9]\n",
        "vectors = [vector1, vector2, vector3, vector4, vector5, vector6, vector7, vector8, vector9, vector10]"
      ],
      "metadata": {
        "id": "vfAmBrgCgdDb"
      },
      "execution_count": null,
      "outputs": []
    },
    {
      "cell_type": "code",
      "source": [
        "# Calculate cosine similarity for each pair of vectors\n",
        "similarity_matrix = []\n",
        "for i in range(len(vectors)):\n",
        "    similarities = []\n",
        "    for j in range(len(vectors)):\n",
        "        similarity_score = cosine_similarity(vectors[i], vectors[j])\n",
        "        similarities.append(similarity_score)\n",
        "    similarity_matrix.append(similarities)"
      ],
      "metadata": {
        "id": "GnC52qYDfKRg"
      },
      "execution_count": null,
      "outputs": []
    },
    {
      "cell_type": "code",
      "source": [
        "mean_value = np.mean(similarity_matrix)\n",
        "print(\"The cosine similarity for climate aet:\", mean_value)"
      ],
      "metadata": {
        "colab": {
          "base_uri": "https://localhost:8080/"
        },
        "id": "zSIQqGJUoUi9",
        "outputId": "61d3c3a3-2d1e-4b1d-f93d-d85af7b486fe"
      },
      "execution_count": null,
      "outputs": [
        {
          "output_type": "stream",
          "name": "stdout",
          "text": [
            "The cosine similarity for climate aet: 0.4237696015300372\n"
          ]
        }
      ]
    },
    {
      "cell_type": "code",
      "source": [],
      "metadata": {
        "id": "a3pdzLuMoUld"
      },
      "execution_count": null,
      "outputs": []
    },
    {
      "cell_type": "code",
      "source": [],
      "metadata": {
        "id": "o8AqpvrsoUnq"
      },
      "execution_count": null,
      "outputs": []
    },
    {
      "cell_type": "code",
      "source": [],
      "metadata": {
        "id": "YJMSRTtvoUrO"
      },
      "execution_count": null,
      "outputs": []
    }
  ]
}