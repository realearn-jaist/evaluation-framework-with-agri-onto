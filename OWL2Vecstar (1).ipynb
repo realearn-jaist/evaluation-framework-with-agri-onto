{
  "nbformat": 4,
  "nbformat_minor": 0,
  "metadata": {
    "colab": {
      "provenance": []
    },
    "kernelspec": {
      "name": "python3",
      "display_name": "Python 3"
    },
    "language_info": {
      "name": "python"
    }
  },
  "cells": [
    {
      "cell_type": "code",
      "execution_count": null,
      "metadata": {
        "colab": {
          "base_uri": "https://localhost:8080/"
        },
        "id": "hKmkCHj_C61_",
        "outputId": "a9d18536-cc81-4d3e-da1a-361cef72d7f8"
      },
      "outputs": [
        {
          "output_type": "stream",
          "name": "stdout",
          "text": [
            "Looking in indexes: https://pypi.org/simple, https://us-python.pkg.dev/colab-wheels/public/simple/\n",
            "Requirement already satisfied: pyparsing==2.4.7 in /usr/local/lib/python3.10/dist-packages (2.4.7)\n"
          ]
        }
      ],
      "source": [
        "pip install pyparsing==2.4.7"
      ]
    },
    {
      "cell_type": "code",
      "source": [
        "!git clone https://github.com/KRR-Oxford/OWL2Vec-Star"
      ],
      "metadata": {
        "id": "i8k-q5bvC9_2"
      },
      "execution_count": null,
      "outputs": []
    },
    {
      "cell_type": "code",
      "source": [
        "cd /content/OWL2Vec-Star/"
      ],
      "metadata": {
        "colab": {
          "base_uri": "https://localhost:8080/"
        },
        "id": "VdJmxVeeDAmt",
        "outputId": "aba87fe9-3cb3-4c79-bd69-f1bc2e3eb015"
      },
      "execution_count": null,
      "outputs": [
        {
          "output_type": "stream",
          "name": "stdout",
          "text": [
            "/content/OWL2Vec-Star\n"
          ]
        }
      ]
    },
    {
      "cell_type": "code",
      "source": [
        "pip install --upgrade pip"
      ],
      "metadata": {
        "colab": {
          "base_uri": "https://localhost:8080/"
        },
        "id": "iWmBUKkyEbqP",
        "outputId": "2d4e272b-0961-4d3e-bf6e-9c1aee0d1f69"
      },
      "execution_count": null,
      "outputs": [
        {
          "output_type": "stream",
          "name": "stdout",
          "text": [
            "Looking in indexes: https://pypi.org/simple, https://us-python.pkg.dev/colab-wheels/public/simple/\n",
            "Collecting pip\n",
            "  Using cached https://files.pythonhosted.org/packages/08/e3/57d4c24a050aa0bcca46b2920bff40847db79535dc78141eb83581a52eb8/pip-23.1.2-py3-none-any.whl\n",
            "Installing collected packages: pip\n",
            "  Found existing installation: pip 19.2.3\n",
            "    Uninstalling pip-19.2.3:\n",
            "      Successfully uninstalled pip-19.2.3\n",
            "Successfully installed pip-23.1.2\n"
          ]
        }
      ]
    },
    {
      "cell_type": "code",
      "source": [
        "!pip show click"
      ],
      "metadata": {
        "colab": {
          "base_uri": "https://localhost:8080/"
        },
        "id": "h766kHj6FYR1",
        "outputId": "add57a35-91b8-463b-cf9e-fec22a7db8d1"
      },
      "execution_count": null,
      "outputs": [
        {
          "output_type": "stream",
          "name": "stdout",
          "text": [
            "Name: click\n",
            "Version: 8.0.0\n",
            "Summary: Composable command line interface toolkit\n",
            "Home-page: https://palletsprojects.com/p/click/\n",
            "Author: Armin Ronacher\n",
            "Author-email: armin.ronacher@active-4.com\n",
            "License: BSD-3-Clause\n",
            "Location: /usr/local/lib/python3.10/dist-packages\n",
            "Requires: \n",
            "Required-by: dask, distributed, Flask, nltk, owl2vec-star, pip-tools, tensorflow-datasets, typer\n"
          ]
        }
      ]
    },
    {
      "cell_type": "code",
      "source": [],
      "metadata": {
        "colab": {
          "base_uri": "https://localhost:8080/"
        },
        "id": "4tJwTx_GFifN",
        "outputId": "47c67ff6-2627-4d1b-e943-ddb91c1d13d3"
      },
      "execution_count": null,
      "outputs": [
        {
          "output_type": "stream",
          "name": "stdout",
          "text": [
            "Looking in indexes: https://pypi.org/simple, https://us-python.pkg.dev/colab-wheels/public/simple/\n",
            "Collecting click==8.0\n",
            "\u001b[?25l  Downloading https://files.pythonhosted.org/packages/80/11/597f9102867dc0972b698972f05f50925f586639e57beba4db352029e8f9/click-8.0.0-py3-none-any.whl (96kB)\n",
            "\r\u001b[K     |███▍                            | 10kB 6.0MB/s eta 0:00:01\r\u001b[K     |██████▊                         | 20kB 10.5MB/s eta 0:00:01\r\u001b[K     |██████████▏                     | 30kB 14.0MB/s eta 0:00:01\r\u001b[K     |█████████████▌                  | 40kB 10.8MB/s eta 0:00:01\r\u001b[K     |█████████████████               | 51kB 12.7MB/s eta 0:00:01\r\u001b[K     |████████████████████▎           | 61kB 14.6MB/s eta 0:00:01\r\u001b[K     |███████████████████████▊        | 71kB 16.3MB/s eta 0:00:01\r\u001b[K     |███████████████████████████     | 81kB 17.7MB/s eta 0:00:01\r\u001b[K     |██████████████████████████████▍ | 92kB 16.0MB/s eta 0:00:01\r\u001b[K     |████████████████████████████████| 102kB 14.0MB/s \n",
            "\u001b[31mERROR: pathy 0.10.1 requires dataclasses<1.0,>=0.6; python_version < \"3.7\", which is not installed.\u001b[0m\n",
            "\u001b[31mERROR: spacy 3.5.2 has requirement typing-extensions<4.5.0,>=3.7.4.1; python_version < \"3.8\", but you'll have typing-extensions 4.5.0 which is incompatible.\u001b[0m\n",
            "\u001b[31mERROR: pip-tools 6.13.0 has requirement pip>=22.2, but you'll have pip 19.2.3 which is incompatible.\u001b[0m\n",
            "\u001b[?25hInstalling collected packages: click\n",
            "  Found existing installation: Click 7.0\n",
            "    Uninstalling Click-7.0:\n",
            "      Successfully uninstalled Click-7.0\n",
            "Successfully installed click-8.0.0\n"
          ]
        }
      ]
    },
    {
      "cell_type": "code",
      "source": [
        "pip install -r requirements_dev.txt"
      ],
      "metadata": {
        "colab": {
          "base_uri": "https://localhost:8080/"
        },
        "id": "JUhbTnH3DCt5",
        "outputId": "657da3c5-cf39-43b2-b541-486cebf063b1"
      },
      "execution_count": null,
      "outputs": [
        {
          "output_type": "stream",
          "name": "stdout",
          "text": [
            "Looking in indexes: https://pypi.org/simple, https://us-python.pkg.dev/colab-wheels/public/simple/\n",
            "Collecting pip==19.2.3 (from -r requirements_dev.txt (line 1))\n",
            "  Using cached pip-19.2.3-py2.py3-none-any.whl (1.4 MB)\n",
            "Requirement already satisfied: bump2version==0.5.11 in /usr/local/lib/python3.10/dist-packages (from -r requirements_dev.txt (line 2)) (0.5.11)\n",
            "Requirement already satisfied: wheel==0.33.6 in /usr/local/lib/python3.10/dist-packages (from -r requirements_dev.txt (line 3)) (0.33.6)\n",
            "Requirement already satisfied: watchdog==0.9.0 in /usr/local/lib/python3.10/dist-packages (from -r requirements_dev.txt (line 4)) (0.9.0)\n",
            "Requirement already satisfied: flake8==3.7.8 in /usr/local/lib/python3.10/dist-packages (from -r requirements_dev.txt (line 5)) (3.7.8)\n",
            "Requirement already satisfied: tox==3.14.0 in /usr/local/lib/python3.10/dist-packages (from -r requirements_dev.txt (line 6)) (3.14.0)\n",
            "Requirement already satisfied: coverage==4.5.4 in /usr/local/lib/python3.10/dist-packages (from -r requirements_dev.txt (line 7)) (4.5.4)\n",
            "Requirement already satisfied: Sphinx==1.8.5 in /usr/local/lib/python3.10/dist-packages (from -r requirements_dev.txt (line 8)) (1.8.5)\n",
            "Requirement already satisfied: twine==1.14.0 in /usr/local/lib/python3.10/dist-packages (from -r requirements_dev.txt (line 9)) (1.14.0)\n",
            "Collecting Click==7.0 (from -r requirements_dev.txt (line 10))\n",
            "  Using cached Click-7.0-py2.py3-none-any.whl (81 kB)\n",
            "Requirement already satisfied: PyYAML>=3.10 in /usr/local/lib/python3.10/dist-packages (from watchdog==0.9.0->-r requirements_dev.txt (line 4)) (6.0)\n",
            "Requirement already satisfied: argh>=0.24.1 in /usr/local/lib/python3.10/dist-packages (from watchdog==0.9.0->-r requirements_dev.txt (line 4)) (0.28.1)\n",
            "Requirement already satisfied: pathtools>=0.1.1 in /usr/local/lib/python3.10/dist-packages (from watchdog==0.9.0->-r requirements_dev.txt (line 4)) (0.1.2)\n",
            "Requirement already satisfied: entrypoints<0.4.0,>=0.3.0 in /usr/local/lib/python3.10/dist-packages (from flake8==3.7.8->-r requirements_dev.txt (line 5)) (0.3)\n",
            "Requirement already satisfied: pyflakes<2.2.0,>=2.1.0 in /usr/local/lib/python3.10/dist-packages (from flake8==3.7.8->-r requirements_dev.txt (line 5)) (2.1.1)\n",
            "Requirement already satisfied: pycodestyle<2.6.0,>=2.5.0 in /usr/local/lib/python3.10/dist-packages (from flake8==3.7.8->-r requirements_dev.txt (line 5)) (2.5.0)\n",
            "Requirement already satisfied: mccabe<0.7.0,>=0.6.0 in /usr/local/lib/python3.10/dist-packages (from flake8==3.7.8->-r requirements_dev.txt (line 5)) (0.6.1)\n",
            "Requirement already satisfied: packaging>=14 in /usr/local/lib/python3.10/dist-packages (from tox==3.14.0->-r requirements_dev.txt (line 6)) (23.1)\n",
            "Requirement already satisfied: pluggy<1,>=0.12.0 in /usr/local/lib/python3.10/dist-packages (from tox==3.14.0->-r requirements_dev.txt (line 6)) (0.13.1)\n",
            "Requirement already satisfied: py<2,>=1.4.17 in /usr/local/lib/python3.10/dist-packages (from tox==3.14.0->-r requirements_dev.txt (line 6)) (1.11.0)\n",
            "Requirement already satisfied: six<2,>=1.0.0 in /usr/local/lib/python3.10/dist-packages (from tox==3.14.0->-r requirements_dev.txt (line 6)) (1.16.0)\n",
            "Requirement already satisfied: virtualenv>=14.0.0 in /usr/local/lib/python3.10/dist-packages (from tox==3.14.0->-r requirements_dev.txt (line 6)) (20.23.0)\n",
            "Requirement already satisfied: toml>=0.9.4 in /usr/local/lib/python3.10/dist-packages (from tox==3.14.0->-r requirements_dev.txt (line 6)) (0.10.2)\n",
            "Requirement already satisfied: filelock<4,>=3.0.0 in /usr/local/lib/python3.10/dist-packages (from tox==3.14.0->-r requirements_dev.txt (line 6)) (3.12.0)\n",
            "Requirement already satisfied: Jinja2>=2.3 in /usr/local/lib/python3.10/dist-packages (from Sphinx==1.8.5->-r requirements_dev.txt (line 8)) (3.1.2)\n",
            "Requirement already satisfied: Pygments>=2.0 in /usr/local/lib/python3.10/dist-packages (from Sphinx==1.8.5->-r requirements_dev.txt (line 8)) (2.14.0)\n",
            "Requirement already satisfied: docutils>=0.11 in /usr/local/lib/python3.10/dist-packages (from Sphinx==1.8.5->-r requirements_dev.txt (line 8)) (0.16)\n",
            "Requirement already satisfied: snowballstemmer>=1.1 in /usr/local/lib/python3.10/dist-packages (from Sphinx==1.8.5->-r requirements_dev.txt (line 8)) (2.2.0)\n",
            "Requirement already satisfied: babel!=2.0,>=1.3 in /usr/local/lib/python3.10/dist-packages (from Sphinx==1.8.5->-r requirements_dev.txt (line 8)) (2.12.1)\n",
            "Requirement already satisfied: alabaster<0.8,>=0.7 in /usr/local/lib/python3.10/dist-packages (from Sphinx==1.8.5->-r requirements_dev.txt (line 8)) (0.7.13)\n",
            "Requirement already satisfied: imagesize in /usr/local/lib/python3.10/dist-packages (from Sphinx==1.8.5->-r requirements_dev.txt (line 8)) (1.4.1)\n",
            "Requirement already satisfied: requests>=2.0.0 in /usr/local/lib/python3.10/dist-packages (from Sphinx==1.8.5->-r requirements_dev.txt (line 8)) (2.27.1)\n",
            "Requirement already satisfied: setuptools in /usr/local/lib/python3.10/dist-packages (from Sphinx==1.8.5->-r requirements_dev.txt (line 8)) (67.7.2)\n",
            "Requirement already satisfied: sphinxcontrib-websupport in /usr/local/lib/python3.10/dist-packages (from Sphinx==1.8.5->-r requirements_dev.txt (line 8)) (1.2.4)\n",
            "Requirement already satisfied: pkginfo>=1.4.2 in /usr/local/lib/python3.10/dist-packages (from twine==1.14.0->-r requirements_dev.txt (line 9)) (1.9.6)\n",
            "Requirement already satisfied: readme-renderer>=21.0 in /usr/local/lib/python3.10/dist-packages (from twine==1.14.0->-r requirements_dev.txt (line 9)) (37.3)\n",
            "Requirement already satisfied: requests-toolbelt!=0.9.0,>=0.8.0 in /usr/local/lib/python3.10/dist-packages (from twine==1.14.0->-r requirements_dev.txt (line 9)) (1.0.0)\n",
            "Requirement already satisfied: tqdm>=4.14 in /usr/local/lib/python3.10/dist-packages (from twine==1.14.0->-r requirements_dev.txt (line 9)) (4.65.0)\n",
            "Requirement already satisfied: MarkupSafe>=2.0 in /usr/local/lib/python3.10/dist-packages (from Jinja2>=2.3->Sphinx==1.8.5->-r requirements_dev.txt (line 8)) (2.1.2)\n",
            "Requirement already satisfied: bleach>=2.1.0 in /usr/local/lib/python3.10/dist-packages (from readme-renderer>=21.0->twine==1.14.0->-r requirements_dev.txt (line 9)) (6.0.0)\n",
            "Requirement already satisfied: urllib3<1.27,>=1.21.1 in /usr/local/lib/python3.10/dist-packages (from requests>=2.0.0->Sphinx==1.8.5->-r requirements_dev.txt (line 8)) (1.26.15)\n",
            "Requirement already satisfied: certifi>=2017.4.17 in /usr/local/lib/python3.10/dist-packages (from requests>=2.0.0->Sphinx==1.8.5->-r requirements_dev.txt (line 8)) (2022.12.7)\n",
            "Requirement already satisfied: charset-normalizer~=2.0.0 in /usr/local/lib/python3.10/dist-packages (from requests>=2.0.0->Sphinx==1.8.5->-r requirements_dev.txt (line 8)) (2.0.12)\n",
            "Requirement already satisfied: idna<4,>=2.5 in /usr/local/lib/python3.10/dist-packages (from requests>=2.0.0->Sphinx==1.8.5->-r requirements_dev.txt (line 8)) (3.4)\n",
            "Requirement already satisfied: distlib<1,>=0.3.6 in /usr/local/lib/python3.10/dist-packages (from virtualenv>=14.0.0->tox==3.14.0->-r requirements_dev.txt (line 6)) (0.3.6)\n",
            "Requirement already satisfied: platformdirs<4,>=3.2 in /usr/local/lib/python3.10/dist-packages (from virtualenv>=14.0.0->tox==3.14.0->-r requirements_dev.txt (line 6)) (3.3.0)\n",
            "Requirement already satisfied: sphinxcontrib-serializinghtml in /usr/local/lib/python3.10/dist-packages (from sphinxcontrib-websupport->Sphinx==1.8.5->-r requirements_dev.txt (line 8)) (1.1.5)\n",
            "Requirement already satisfied: webencodings in /usr/local/lib/python3.10/dist-packages (from bleach>=2.1.0->readme-renderer>=21.0->twine==1.14.0->-r requirements_dev.txt (line 9)) (0.5.1)\n",
            "Installing collected packages: pip, Click\n",
            "  Attempting uninstall: pip\n",
            "    Found existing installation: pip 23.1.2\n",
            "    Uninstalling pip-23.1.2:\n",
            "      Successfully uninstalled pip-23.1.2\n",
            "  Attempting uninstall: Click\n",
            "    Found existing installation: click 8.0.0\n",
            "    Uninstalling click-8.0.0:\n",
            "      Successfully uninstalled click-8.0.0\n",
            "\u001b[31mERROR: pip's dependency resolver does not currently take into account all the packages that are installed. This behaviour is the source of the following dependency conflicts.\n",
            "flask 2.2.4 requires click>=8.0, but you have click 7.0 which is incompatible.\n",
            "pip-tools 6.13.0 requires click>=8, but you have click 7.0 which is incompatible.\n",
            "pip-tools 6.13.0 requires pip>=22.2, but you have pip 19.2.3 which is incompatible.\n",
            "typer 0.7.0 requires click<9.0.0,>=7.1.1, but you have click 7.0 which is incompatible.\n",
            "owl2vec-star 0.2.1 requires scikit-learn~=0.24.2, but you have scikit-learn 1.2.2 which is incompatible.\u001b[0m\u001b[31m\n",
            "\u001b[0mSuccessfully installed Click-7.0 pip-19.2.3\n",
            "\u001b[33mWARNING: Running pip as the 'root' user can result in broken permissions and conflicting behaviour with the system package manager. It is recommended to use a virtual environment instead: https://pip.pypa.io/warnings/venv\u001b[0m\u001b[33m\n",
            "\u001b[0m"
          ]
        }
      ]
    },
    {
      "cell_type": "code",
      "source": [
        "pip install -r requirements_owl2vec.txt"
      ],
      "metadata": {
        "colab": {
          "base_uri": "https://localhost:8080/"
        },
        "id": "SgpxbCi6DEyJ",
        "outputId": "029327be-7909-4bca-c5ba-315fd40ca3e3"
      },
      "execution_count": null,
      "outputs": [
        {
          "output_type": "stream",
          "name": "stdout",
          "text": [
            "Looking in indexes: https://pypi.org/simple, https://us-python.pkg.dev/colab-wheels/public/simple/\n",
            "Collecting jupyter==1.0.0 (from -r requirements_owl2vec.txt (line 2))\n",
            "  Using cached https://files.pythonhosted.org/packages/83/df/0f5dd132200728a86190397e1ea87cd76244e42d39ec5e88efd25b2abd7e/jupyter-1.0.0-py2.py3-none-any.whl\n",
            "Requirement already satisfied: rdflib>=4.2.2 in /usr/local/lib/python3.10/dist-packages (from -r requirements_owl2vec.txt (line 3)) (6.3.2)\n",
            "Requirement already satisfied: pyparsing==2.4.7 in /usr/local/lib/python3.10/dist-packages (from -r requirements_owl2vec.txt (line 4)) (2.4.7)\n",
            "Requirement already satisfied: gensim>=3.8.0 in /usr/local/lib/python3.10/dist-packages (from -r requirements_owl2vec.txt (line 5)) (4.3.1)\n",
            "Collecting scikit-learn~=0.24.2 (from -r requirements_owl2vec.txt (line 6))\n",
            "  Using cached https://files.pythonhosted.org/packages/05/04/507280f20fafc8bc94b41e0592938c6f4a910d0e066be7c8ff1299628f5d/scikit-learn-0.24.2.tar.gz\n",
            "  Installing build dependencies ... \u001b[?25l\u001b[?25herror\n",
            "\u001b[31mERROR: Command errored out with exit status 1: /usr/bin/python3 /usr/local/lib/python3.10/dist-packages/pip install --ignore-installed --no-user --prefix /tmp/pip-build-env-860jk6ij/overlay --no-warn-script-location -v --no-binary :none: --only-binary :none: -i https://pypi.org/simple --extra-index-url https://us-python.pkg.dev/colab-wheels/public/simple/ -- setuptools wheel 'Cython>=0.28.5' 'numpy==1.13.3; python_version=='\"'\"'3.6'\"'\"' and platform_machine!='\"'\"'aarch64'\"'\"' and platform_system!='\"'\"'AIX'\"'\"' and platform_python_implementation=='\"'\"'CPython'\"'\"'' 'numpy==1.14.0; python_version=='\"'\"'3.6'\"'\"' and platform_machine!='\"'\"'aarch64'\"'\"' and platform_system!='\"'\"'AIX'\"'\"' and platform_python_implementation!='\"'\"'CPython'\"'\"'' 'numpy==1.16.0; python_version=='\"'\"'3.6'\"'\"' and platform_machine!='\"'\"'aarch64'\"'\"' and platform_system=='\"'\"'AIX'\"'\"'' 'numpy==1.16.0; python_version=='\"'\"'3.7'\"'\"' and platform_machine!='\"'\"'aarch64'\"'\"' and platform_system=='\"'\"'AIX'\"'\"'' 'numpy==1.19.0; python_version=='\"'\"'3.6'\"'\"' and platform_machine=='\"'\"'aarch64'\"'\"'' 'numpy==1.19.0; python_version=='\"'\"'3.7'\"'\"' and platform_machine=='\"'\"'aarch64'\"'\"'' 'numpy==1.19.0; python_version=='\"'\"'3.8'\"'\"' and platform_machine=='\"'\"'aarch64'\"'\"'' 'numpy==1.14.5; python_version=='\"'\"'3.7'\"'\"' and platform_machine!='\"'\"'aarch64'\"'\"' and platform_system!='\"'\"'AIX'\"'\"'' 'numpy==1.17.3; python_version=='\"'\"'3.8'\"'\"' and platform_machine!='\"'\"'aarch64'\"'\"'' 'numpy==1.19.3; python_version=='\"'\"'3.9'\"'\"'' 'scipy>=0.19.1' Check the logs for full command output.\u001b[0m\n"
          ]
        }
      ]
    },
    {
      "cell_type": "code",
      "source": [
        "!python setup.py build"
      ],
      "metadata": {
        "colab": {
          "base_uri": "https://localhost:8080/"
        },
        "id": "TNtn4bqVDHjP",
        "outputId": "ac0e7be8-b7ef-47bf-9740-7bd22520571a"
      },
      "execution_count": null,
      "outputs": [
        {
          "output_type": "stream",
          "name": "stdout",
          "text": [
            "running build\n",
            "running build_py\n",
            "running egg_info\n",
            "writing owl2vec_star.egg-info/PKG-INFO\n",
            "writing dependency_links to owl2vec_star.egg-info/dependency_links.txt\n",
            "writing entry points to owl2vec_star.egg-info/entry_points.txt\n",
            "writing requirements to owl2vec_star.egg-info/requires.txt\n",
            "writing top-level names to owl2vec_star.egg-info/top_level.txt\n",
            "reading manifest file 'owl2vec_star.egg-info/SOURCES.txt'\n",
            "reading manifest template 'MANIFEST.in'\n",
            "warning: no previously-included files matching '__pycache__' found under directory '*'\n",
            "warning: no previously-included files matching '*.py[co]' found under directory '*'\n",
            "warning: no files found matching '*.jpg' under directory 'docs'\n",
            "warning: no files found matching '*.png' under directory 'docs'\n",
            "warning: no files found matching '*.gif' under directory 'docs'\n",
            "adding license file 'LICENSE'\n",
            "adding license file 'AUTHORS.rst'\n",
            "writing manifest file 'owl2vec_star.egg-info/SOURCES.txt'\n"
          ]
        }
      ]
    },
    {
      "cell_type": "code",
      "source": [
        "!python setup.py install"
      ],
      "metadata": {
        "colab": {
          "base_uri": "https://localhost:8080/"
        },
        "id": "n9QKXYKUDJ9a",
        "outputId": "03a0aa7e-1292-46c8-a8fa-bfc45594e857"
      },
      "execution_count": null,
      "outputs": [
        {
          "output_type": "stream",
          "name": "stdout",
          "text": [
            "running install\n",
            "/usr/local/lib/python3.10/dist-packages/setuptools/_distutils/cmd.py:66: SetuptoolsDeprecationWarning: setup.py install is deprecated.\n",
            "!!\n",
            "\n",
            "        ********************************************************************************\n",
            "        Please avoid running ``setup.py`` directly.\n",
            "        Instead, use pypa/build, pypa/installer, pypa/build or\n",
            "        other standards-based tools.\n",
            "\n",
            "        See https://blog.ganssle.io/articles/2021/10/setup-py-deprecated.html for details.\n",
            "        ********************************************************************************\n",
            "\n",
            "!!\n",
            "  self.initialize_options()\n",
            "/usr/local/lib/python3.10/dist-packages/setuptools/_distutils/cmd.py:66: EasyInstallDeprecationWarning: easy_install command is deprecated.\n",
            "!!\n",
            "\n",
            "        ********************************************************************************\n",
            "        Please avoid running ``setup.py`` and ``easy_install``.\n",
            "        Instead, use pypa/build, pypa/installer, pypa/build or\n",
            "        other standards-based tools.\n",
            "\n",
            "        See https://github.com/pypa/setuptools/issues/917 for details.\n",
            "        ********************************************************************************\n",
            "\n",
            "!!\n",
            "  self.initialize_options()\n",
            "running bdist_egg\n",
            "running egg_info\n",
            "writing owl2vec_star.egg-info/PKG-INFO\n",
            "writing dependency_links to owl2vec_star.egg-info/dependency_links.txt\n",
            "writing entry points to owl2vec_star.egg-info/entry_points.txt\n",
            "writing requirements to owl2vec_star.egg-info/requires.txt\n",
            "writing top-level names to owl2vec_star.egg-info/top_level.txt\n",
            "reading manifest file 'owl2vec_star.egg-info/SOURCES.txt'\n",
            "reading manifest template 'MANIFEST.in'\n",
            "warning: no previously-included files matching '__pycache__' found under directory '*'\n",
            "warning: no previously-included files matching '*.py[co]' found under directory '*'\n",
            "warning: no files found matching '*.jpg' under directory 'docs'\n",
            "warning: no files found matching '*.png' under directory 'docs'\n",
            "warning: no files found matching '*.gif' under directory 'docs'\n",
            "adding license file 'LICENSE'\n",
            "adding license file 'AUTHORS.rst'\n",
            "writing manifest file 'owl2vec_star.egg-info/SOURCES.txt'\n",
            "installing library code to build/bdist.linux-x86_64/egg\n",
            "running install_lib\n",
            "running build_py\n",
            "creating build/bdist.linux-x86_64/egg\n",
            "creating build/bdist.linux-x86_64/egg/owl2vec_star\n",
            "copying build/lib/owl2vec_star/owl2vec_star.py -> build/bdist.linux-x86_64/egg/owl2vec_star\n",
            "copying build/lib/owl2vec_star/__init__.py -> build/bdist.linux-x86_64/egg/owl2vec_star\n",
            "creating build/bdist.linux-x86_64/egg/owl2vec_star/rdf2vec\n",
            "creating build/bdist.linux-x86_64/egg/owl2vec_star/rdf2vec/walkers\n",
            "copying build/lib/owl2vec_star/rdf2vec/walkers/halk.py -> build/bdist.linux-x86_64/egg/owl2vec_star/rdf2vec/walkers\n",
            "copying build/lib/owl2vec_star/rdf2vec/walkers/weisfeiler_lehman.py -> build/bdist.linux-x86_64/egg/owl2vec_star/rdf2vec/walkers\n",
            "copying build/lib/owl2vec_star/rdf2vec/walkers/__init__.py -> build/bdist.linux-x86_64/egg/owl2vec_star/rdf2vec/walkers\n",
            "copying build/lib/owl2vec_star/rdf2vec/walkers/random.py -> build/bdist.linux-x86_64/egg/owl2vec_star/rdf2vec/walkers\n",
            "copying build/lib/owl2vec_star/rdf2vec/walkers/wildcard.py -> build/bdist.linux-x86_64/egg/owl2vec_star/rdf2vec/walkers\n",
            "copying build/lib/owl2vec_star/rdf2vec/walkers/walklets.py -> build/bdist.linux-x86_64/egg/owl2vec_star/rdf2vec/walkers\n",
            "copying build/lib/owl2vec_star/rdf2vec/walkers/ngrams.py -> build/bdist.linux-x86_64/egg/owl2vec_star/rdf2vec/walkers\n",
            "copying build/lib/owl2vec_star/rdf2vec/walkers/walker.py -> build/bdist.linux-x86_64/egg/owl2vec_star/rdf2vec/walkers\n",
            "copying build/lib/owl2vec_star/rdf2vec/walkers/anonymous.py -> build/bdist.linux-x86_64/egg/owl2vec_star/rdf2vec/walkers\n",
            "copying build/lib/owl2vec_star/rdf2vec/walkers/community.py -> build/bdist.linux-x86_64/egg/owl2vec_star/rdf2vec/walkers\n",
            "copying build/lib/owl2vec_star/rdf2vec/__init__.py -> build/bdist.linux-x86_64/egg/owl2vec_star/rdf2vec\n",
            "copying build/lib/owl2vec_star/rdf2vec/graph.py -> build/bdist.linux-x86_64/egg/owl2vec_star/rdf2vec\n",
            "copying build/lib/owl2vec_star/rdf2vec/example.py -> build/bdist.linux-x86_64/egg/owl2vec_star/rdf2vec\n",
            "copying build/lib/owl2vec_star/rdf2vec/converters.py -> build/bdist.linux-x86_64/egg/owl2vec_star/rdf2vec\n",
            "copying build/lib/owl2vec_star/rdf2vec/embed.py -> build/bdist.linux-x86_64/egg/owl2vec_star/rdf2vec\n",
            "copying build/lib/owl2vec_star/cli.py -> build/bdist.linux-x86_64/egg/owl2vec_star\n",
            "creating build/bdist.linux-x86_64/egg/owl2vec_star/lib\n",
            "copying build/lib/owl2vec_star/lib/RDF2Vec_Embed.py -> build/bdist.linux-x86_64/egg/owl2vec_star/lib\n",
            "copying build/lib/owl2vec_star/lib/Onto_Annotations.py -> build/bdist.linux-x86_64/egg/owl2vec_star/lib\n",
            "copying build/lib/owl2vec_star/lib/__init__.py -> build/bdist.linux-x86_64/egg/owl2vec_star/lib\n",
            "copying build/lib/owl2vec_star/lib/Evaluator.py -> build/bdist.linux-x86_64/egg/owl2vec_star/lib\n",
            "copying build/lib/owl2vec_star/lib/Onto_Projection.py -> build/bdist.linux-x86_64/egg/owl2vec_star/lib\n",
            "copying build/lib/owl2vec_star/lib/Onto_Access.py -> build/bdist.linux-x86_64/egg/owl2vec_star/lib\n",
            "copying build/lib/owl2vec_star/lib/Label.py -> build/bdist.linux-x86_64/egg/owl2vec_star/lib\n",
            "copying build/lib/owl2vec_star/lib/Graph_for_OpenKE.py -> build/bdist.linux-x86_64/egg/owl2vec_star/lib\n",
            "byte-compiling build/bdist.linux-x86_64/egg/owl2vec_star/owl2vec_star.py to owl2vec_star.cpython-310.pyc\n",
            "byte-compiling build/bdist.linux-x86_64/egg/owl2vec_star/__init__.py to __init__.cpython-310.pyc\n",
            "byte-compiling build/bdist.linux-x86_64/egg/owl2vec_star/rdf2vec/walkers/halk.py to halk.cpython-310.pyc\n",
            "byte-compiling build/bdist.linux-x86_64/egg/owl2vec_star/rdf2vec/walkers/weisfeiler_lehman.py to weisfeiler_lehman.cpython-310.pyc\n",
            "byte-compiling build/bdist.linux-x86_64/egg/owl2vec_star/rdf2vec/walkers/__init__.py to __init__.cpython-310.pyc\n",
            "byte-compiling build/bdist.linux-x86_64/egg/owl2vec_star/rdf2vec/walkers/random.py to random.cpython-310.pyc\n",
            "byte-compiling build/bdist.linux-x86_64/egg/owl2vec_star/rdf2vec/walkers/wildcard.py to wildcard.cpython-310.pyc\n",
            "byte-compiling build/bdist.linux-x86_64/egg/owl2vec_star/rdf2vec/walkers/walklets.py to walklets.cpython-310.pyc\n",
            "byte-compiling build/bdist.linux-x86_64/egg/owl2vec_star/rdf2vec/walkers/ngrams.py to ngrams.cpython-310.pyc\n",
            "byte-compiling build/bdist.linux-x86_64/egg/owl2vec_star/rdf2vec/walkers/walker.py to walker.cpython-310.pyc\n",
            "byte-compiling build/bdist.linux-x86_64/egg/owl2vec_star/rdf2vec/walkers/anonymous.py to anonymous.cpython-310.pyc\n",
            "byte-compiling build/bdist.linux-x86_64/egg/owl2vec_star/rdf2vec/walkers/community.py to community.cpython-310.pyc\n",
            "byte-compiling build/bdist.linux-x86_64/egg/owl2vec_star/rdf2vec/__init__.py to __init__.cpython-310.pyc\n",
            "byte-compiling build/bdist.linux-x86_64/egg/owl2vec_star/rdf2vec/graph.py to graph.cpython-310.pyc\n",
            "byte-compiling build/bdist.linux-x86_64/egg/owl2vec_star/rdf2vec/example.py to example.cpython-310.pyc\n",
            "byte-compiling build/bdist.linux-x86_64/egg/owl2vec_star/rdf2vec/converters.py to converters.cpython-310.pyc\n",
            "byte-compiling build/bdist.linux-x86_64/egg/owl2vec_star/rdf2vec/embed.py to embed.cpython-310.pyc\n",
            "byte-compiling build/bdist.linux-x86_64/egg/owl2vec_star/cli.py to cli.cpython-310.pyc\n",
            "byte-compiling build/bdist.linux-x86_64/egg/owl2vec_star/lib/RDF2Vec_Embed.py to RDF2Vec_Embed.cpython-310.pyc\n",
            "byte-compiling build/bdist.linux-x86_64/egg/owl2vec_star/lib/Onto_Annotations.py to Onto_Annotations.cpython-310.pyc\n",
            "byte-compiling build/bdist.linux-x86_64/egg/owl2vec_star/lib/__init__.py to __init__.cpython-310.pyc\n",
            "byte-compiling build/bdist.linux-x86_64/egg/owl2vec_star/lib/Evaluator.py to Evaluator.cpython-310.pyc\n",
            "byte-compiling build/bdist.linux-x86_64/egg/owl2vec_star/lib/Onto_Projection.py to Onto_Projection.cpython-310.pyc\n",
            "byte-compiling build/bdist.linux-x86_64/egg/owl2vec_star/lib/Onto_Access.py to Onto_Access.cpython-310.pyc\n",
            "byte-compiling build/bdist.linux-x86_64/egg/owl2vec_star/lib/Label.py to Label.cpython-310.pyc\n",
            "byte-compiling build/bdist.linux-x86_64/egg/owl2vec_star/lib/Graph_for_OpenKE.py to Graph_for_OpenKE.cpython-310.pyc\n",
            "creating build/bdist.linux-x86_64/egg/EGG-INFO\n",
            "copying owl2vec_star.egg-info/PKG-INFO -> build/bdist.linux-x86_64/egg/EGG-INFO\n",
            "copying owl2vec_star.egg-info/SOURCES.txt -> build/bdist.linux-x86_64/egg/EGG-INFO\n",
            "copying owl2vec_star.egg-info/dependency_links.txt -> build/bdist.linux-x86_64/egg/EGG-INFO\n",
            "copying owl2vec_star.egg-info/entry_points.txt -> build/bdist.linux-x86_64/egg/EGG-INFO\n",
            "copying owl2vec_star.egg-info/not-zip-safe -> build/bdist.linux-x86_64/egg/EGG-INFO\n",
            "copying owl2vec_star.egg-info/requires.txt -> build/bdist.linux-x86_64/egg/EGG-INFO\n",
            "copying owl2vec_star.egg-info/top_level.txt -> build/bdist.linux-x86_64/egg/EGG-INFO\n",
            "creating 'dist/owl2vec_star-0.2.1-py3.10.egg' and adding 'build/bdist.linux-x86_64/egg' to it\n",
            "removing 'build/bdist.linux-x86_64/egg' (and everything under it)\n",
            "Processing owl2vec_star-0.2.1-py3.10.egg\n",
            "removing '/usr/local/lib/python3.10/dist-packages/owl2vec_star-0.2.1-py3.10.egg' (and everything under it)\n",
            "creating /usr/local/lib/python3.10/dist-packages/owl2vec_star-0.2.1-py3.10.egg\n",
            "Extracting owl2vec_star-0.2.1-py3.10.egg to /usr/local/lib/python3.10/dist-packages\n",
            "owl2vec-star 0.2.1 is already the active version in easy-install.pth\n",
            "Installing owl2vec_star script to /usr/local/bin\n",
            "\n",
            "Installed /usr/local/lib/python3.10/dist-packages/owl2vec_star-0.2.1-py3.10.egg\n",
            "Processing dependencies for owl2vec-star==0.2.1\n",
            "Searching for scikit-learn~=0.24.2\n",
            "Reading https://pypi.org/simple/scikit-learn/\n",
            "Downloading https://files.pythonhosted.org/packages/05/04/507280f20fafc8bc94b41e0592938c6f4a910d0e066be7c8ff1299628f5d/scikit-learn-0.24.2.tar.gz#sha256=d14701a12417930392cd3898e9646cf5670c190b933625ebe7511b1f7d7b8736\n",
            "Best match: scikit-learn 0.24.2\n",
            "Processing scikit-learn-0.24.2.tar.gz\n",
            "Writing /tmp/easy_install-8mrhxjhz/scikit-learn-0.24.2/setup.cfg\n",
            "Running scikit-learn-0.24.2/setup.py -q bdist_egg --dist-dir /tmp/easy_install-8mrhxjhz/scikit-learn-0.24.2/egg-dist-tmp-2v82n5eo\n",
            "Partial import of sklearn during the build process.\n",
            "Compiling sklearn/__check_build/_check_build.pyx because it changed.\n",
            "Compiling sklearn/preprocessing/_csr_polynomial_expansion.pyx because it changed.\n",
            "Compiling sklearn/cluster/_dbscan_inner.pyx because it changed.\n",
            "Compiling sklearn/cluster/_hierarchical_fast.pyx because it changed.\n",
            "Compiling sklearn/cluster/_k_means_fast.pyx because it changed.\n",
            "Compiling sklearn/cluster/_k_means_lloyd.pyx because it changed.\n",
            "Compiling sklearn/cluster/_k_means_elkan.pyx because it changed.\n",
            "Compiling sklearn/datasets/_svmlight_format_fast.pyx because it changed.\n",
            "Compiling sklearn/decomposition/_online_lda_fast.pyx because it changed.\n",
            "Compiling sklearn/decomposition/_cdnmf_fast.pyx because it changed.\n",
            "Compiling sklearn/ensemble/_gradient_boosting.pyx because it changed.\n",
            "Compiling sklearn/ensemble/_hist_gradient_boosting/_gradient_boosting.pyx because it changed.\n",
            "Compiling sklearn/ensemble/_hist_gradient_boosting/histogram.pyx because it changed.\n",
            "Compiling sklearn/ensemble/_hist_gradient_boosting/splitting.pyx because it changed.\n",
            "Compiling sklearn/ensemble/_hist_gradient_boosting/_binning.pyx because it changed.\n",
            "Compiling sklearn/ensemble/_hist_gradient_boosting/_predictor.pyx because it changed.\n",
            "Compiling sklearn/ensemble/_hist_gradient_boosting/_loss.pyx because it changed.\n",
            "Compiling sklearn/ensemble/_hist_gradient_boosting/_bitset.pyx because it changed.\n",
            "Compiling sklearn/ensemble/_hist_gradient_boosting/common.pyx because it changed.\n",
            "Compiling sklearn/ensemble/_hist_gradient_boosting/utils.pyx because it changed.\n",
            "Compiling sklearn/feature_extraction/_hashing_fast.pyx because it changed.\n",
            "Compiling sklearn/manifold/_utils.pyx because it changed.\n",
            "Compiling sklearn/manifold/_barnes_hut_tsne.pyx because it changed.\n",
            "Compiling sklearn/metrics/cluster/_expected_mutual_info_fast.pyx because it changed.\n",
            "Compiling sklearn/metrics/_pairwise_fast.pyx because it changed.\n",
            "Compiling sklearn/neighbors/_ball_tree.pyx because it changed.\n",
            "Compiling sklearn/neighbors/_kd_tree.pyx because it changed.\n",
            "Compiling sklearn/neighbors/_dist_metrics.pyx because it changed.\n",
            "Compiling sklearn/neighbors/_typedefs.pyx because it changed.\n",
            "Compiling sklearn/neighbors/_quad_tree.pyx because it changed.\n",
            "Compiling sklearn/tree/_tree.pyx because it changed.\n",
            "Compiling sklearn/tree/_splitter.pyx because it changed.\n",
            "Compiling sklearn/tree/_criterion.pyx because it changed.\n",
            "Compiling sklearn/tree/_utils.pyx because it changed.\n",
            "Compiling sklearn/utils/sparsefuncs_fast.pyx because it changed.\n",
            "Compiling sklearn/utils/_cython_blas.pyx because it changed.\n",
            "Compiling sklearn/utils/arrayfuncs.pyx because it changed.\n",
            "Compiling sklearn/utils/murmurhash.pyx because it changed.\n",
            "Compiling sklearn/utils/graph_shortest_path.pyx because it changed.\n",
            "Compiling sklearn/utils/_fast_dict.pyx because it changed.\n",
            "Compiling sklearn/utils/_openmp_helpers.pyx because it changed.\n",
            "Compiling sklearn/utils/_seq_dataset.pyx because it changed.\n",
            "Compiling sklearn/utils/_weight_vector.pyx because it changed.\n",
            "Compiling sklearn/utils/_random.pyx because it changed.\n",
            "Compiling sklearn/utils/_logistic_sigmoid.pyx because it changed.\n",
            "Compiling sklearn/svm/_newrand.pyx because it changed.\n",
            "Compiling sklearn/svm/_libsvm.pyx because it changed.\n",
            "Compiling sklearn/svm/_liblinear.pyx because it changed.\n",
            "Compiling sklearn/svm/_libsvm_sparse.pyx because it changed.\n",
            "Compiling sklearn/linear_model/_cd_fast.pyx because it changed.\n",
            "Compiling sklearn/linear_model/_sgd_fast.pyx because it changed.\n",
            "Compiling sklearn/linear_model/_sag_fast.pyx because it changed.\n",
            "Compiling sklearn/_isotonic.pyx because it changed.\n",
            "[ 1/53] Cythonizing sklearn/__check_build/_check_build.pyx\n",
            "[ 2/53] Cythonizing sklearn/_isotonic.pyx\n",
            "[ 3/53] Cythonizing sklearn/cluster/_dbscan_inner.pyx\n",
            "[ 4/53] Cythonizing sklearn/cluster/_hierarchical_fast.pyx\n",
            "[ 5/53] Cythonizing sklearn/cluster/_k_means_elkan.pyx\n",
            "[ 6/53] Cythonizing sklearn/cluster/_k_means_fast.pyx\n",
            "[ 7/53] Cythonizing sklearn/cluster/_k_means_lloyd.pyx\n",
            "[ 8/53] Cythonizing sklearn/datasets/_svmlight_format_fast.pyx\n",
            "[ 9/53] Cythonizing sklearn/decomposition/_cdnmf_fast.pyx\n",
            "[10/53] Cythonizing sklearn/decomposition/_online_lda_fast.pyx\n",
            "[11/53] Cythonizing sklearn/ensemble/_gradient_boosting.pyx\n",
            "[12/53] Cythonizing sklearn/ensemble/_hist_gradient_boosting/_binning.pyx\n",
            "[13/53] Cythonizing sklearn/ensemble/_hist_gradient_boosting/_bitset.pyx\n",
            "[14/53] Cythonizing sklearn/ensemble/_hist_gradient_boosting/_gradient_boosting.pyx\n",
            "[15/53] Cythonizing sklearn/ensemble/_hist_gradient_boosting/_loss.pyx\n",
            "[16/53] Cythonizing sklearn/ensemble/_hist_gradient_boosting/_predictor.pyx\n",
            "[17/53] Cythonizing sklearn/ensemble/_hist_gradient_boosting/common.pyx\n",
            "[18/53] Cythonizing sklearn/ensemble/_hist_gradient_boosting/histogram.pyx\n",
            "[19/53] Cythonizing sklearn/ensemble/_hist_gradient_boosting/splitting.pyx\n",
            "[20/53] Cythonizing sklearn/ensemble/_hist_gradient_boosting/utils.pyx\n",
            "[21/53] Cythonizing sklearn/feature_extraction/_hashing_fast.pyx\n",
            "[22/53] Cythonizing sklearn/linear_model/_cd_fast.pyx\n",
            "[23/53] Cythonizing sklearn/linear_model/_sag_fast.pyx\n",
            "[24/53] Cythonizing sklearn/linear_model/_sgd_fast.pyx\n",
            "[25/53] Cythonizing sklearn/manifold/_barnes_hut_tsne.pyx\n",
            "[26/53] Cythonizing sklearn/manifold/_utils.pyx\n",
            "[27/53] Cythonizing sklearn/metrics/_pairwise_fast.pyx\n",
            "[28/53] Cythonizing sklearn/metrics/cluster/_expected_mutual_info_fast.pyx\n",
            "[29/53] Cythonizing sklearn/neighbors/_ball_tree.pyx\n",
            "[30/53] Cythonizing sklearn/neighbors/_dist_metrics.pyx\n",
            "[31/53] Cythonizing sklearn/neighbors/_kd_tree.pyx\n",
            "[32/53] Cythonizing sklearn/neighbors/_quad_tree.pyx\n",
            "[33/53] Cythonizing sklearn/neighbors/_typedefs.pyx\n",
            "[34/53] Cythonizing sklearn/preprocessing/_csr_polynomial_expansion.pyx\n",
            "[35/53] Cythonizing sklearn/svm/_liblinear.pyx\n",
            "[36/53] Cythonizing sklearn/svm/_libsvm.pyx\n",
            "[37/53] Cythonizing sklearn/svm/_libsvm_sparse.pyx\n",
            "[38/53] Cythonizing sklearn/svm/_newrand.pyx\n",
            "[39/53] Cythonizing sklearn/tree/_criterion.pyx\n",
            "[40/53] Cythonizing sklearn/tree/_splitter.pyx\n",
            "[41/53] Cythonizing sklearn/tree/_tree.pyx\n",
            "[42/53] Cythonizing sklearn/tree/_utils.pyx\n",
            "[43/53] Cythonizing sklearn/utils/_cython_blas.pyx\n",
            "[44/53] Cythonizing sklearn/utils/_fast_dict.pyx\n",
            "[45/53] Cythonizing sklearn/utils/_logistic_sigmoid.pyx\n",
            "[46/53] Cythonizing sklearn/utils/_openmp_helpers.pyx\n",
            "[47/53] Cythonizing sklearn/utils/_random.pyx\n",
            "[48/53] Cythonizing sklearn/utils/_seq_dataset.pyx\n",
            "[49/53] Cythonizing sklearn/utils/_weight_vector.pyx\n",
            "[50/53] Cythonizing sklearn/utils/arrayfuncs.pyx\n",
            "[51/53] Cythonizing sklearn/utils/graph_shortest_path.pyx\n",
            "[52/53] Cythonizing sklearn/utils/murmurhash.pyx\n",
            "[53/53] Cythonizing sklearn/utils/sparsefuncs_fast.pyx\n",
            "/usr/local/lib/python3.10/dist-packages/setuptools/_distutils/cmd.py:66: SetuptoolsDeprecationWarning: setup.py install is deprecated.\n",
            "!!\n",
            "\n",
            "        ********************************************************************************\n",
            "        Please avoid running ``setup.py`` directly.\n",
            "        Instead, use pypa/build, pypa/installer, pypa/build or\n",
            "        other standards-based tools.\n",
            "\n",
            "        See https://blog.ganssle.io/articles/2021/10/setup-py-deprecated.html for details.\n",
            "        ********************************************************************************\n",
            "\n",
            "!!\n",
            "  self.initialize_options()\n",
            "/usr/local/lib/python3.10/dist-packages/setuptools/command/sdist.py:119: SetuptoolsDeprecationWarning: `build_py` command does not inherit from setuptools' `build_py`.\n",
            "!!\n",
            "\n",
            "        ********************************************************************************\n",
            "        Custom 'build_py' does not implement 'get_data_files_without_manifest'.\n",
            "        Please extend command classes from setuptools instead of distutils.\n",
            "\n",
            "        See https://peps.python.org/pep-0632/ for details.\n",
            "        ********************************************************************************\n",
            "\n",
            "!!\n",
            "  self._add_data_files(self._safe_data_files(build_py))\n",
            "\u001b[31mwarning: no previously-included files matching '*' found under directory 'asv_benchmarks'\u001b[0m\n",
            "\u001b[31mwarning: no previously-included files matching '*' found under directory 'benchmarks'\u001b[0m\n",
            "\u001b[31mwarning: no previously-included files matching '*' found under directory 'build_tools'\u001b[0m\n",
            "\u001b[31mwarning: no previously-included files matching '*' found under directory 'maint_tools'\u001b[0m\n",
            "\u001b[31mwarning: no previously-included files matching '*' found under directory 'benchmarks'\u001b[0m\n",
            "\u001b[31mwarning: no previously-included files matching '*' found under directory '.binder'\u001b[0m\n",
            "\u001b[31mwarning: no previously-included files matching '*' found under directory '.circleci'\u001b[0m\n",
            "\u001b[31mwarning: no previously-included files found matching '.codecov.yml'\u001b[0m\n",
            "\u001b[31mwarning: no previously-included files found matching '.mailmap'\u001b[0m\n",
            "\u001b[31mwarning: no previously-included files found matching '.pre-commit-config.yaml'\u001b[0m\n",
            "\u001b[31mwarning: no previously-included files found matching 'azure-pipelines.yml'\u001b[0m\n",
            "\u001b[31mwarning: no previously-included files found matching 'lgtm.yml'\u001b[0m\n",
            "\u001b[31mwarning: no previously-included files found matching 'CODE_OF_CONDUCT.md'\u001b[0m\n",
            "\u001b[31mwarning: no previously-included files found matching 'CONTRIBUTING.md'\u001b[0m\n",
            "\u001b[31mwarning: no previously-included files found matching 'PULL_REQUEST_TEMPLATE.md'\u001b[0m\n",
            "\u001b[31mWARN: CCompilerOpt.generate_dispatch_header[2297] : dispatch header dir build/src.linux-x86_64-3.10/numpy/distutils/include does not exist, creating it\u001b[0m\n",
            "error: Setup script exited with interrupted\n",
            "\u001b[39mINFO: \n",
            "########### EXT COMPILER OPTIMIZATION ###########\u001b[0m\n",
            "\u001b[39mINFO: Platform      : \n",
            "  Architecture: x64\n",
            "  Compiler    : gcc\n",
            "\n",
            "CPU baseline  : \n",
            "  Requested   : 'min'\n",
            "  Enabled     : SSE SSE2 SSE3\n",
            "  Flags       : -msse -msse2 -msse3\n",
            "  Extra checks: none\n",
            "\n",
            "CPU dispatch  : \n",
            "  Requested   : 'max -xop -fma4'\n",
            "  Enabled     : SSSE3 SSE41 POPCNT SSE42 AVX F16C FMA3 AVX2 AVX512F AVX512CD AVX512_KNL AVX512_KNM AVX512_SKX AVX512_CLX AVX512_CNL AVX512_ICL\n",
            "  Generated   : none\u001b[0m\n",
            "/usr/local/lib/python3.10/dist-packages/numpy/distutils/ccompiler_opt.py:655: UserWarning: The NumPy module was reloaded (imported a second time). This can in some cases result in small but subtle issues and is discouraged.\n",
            "  from numpy.distutils import log\n"
          ]
        }
      ]
    },
    {
      "cell_type": "code",
      "source": [
        "import owl2vec_star"
      ],
      "metadata": {
        "id": "oISaEBpFDMED"
      },
      "execution_count": null,
      "outputs": []
    },
    {
      "cell_type": "code",
      "source": [
        "from owl2vec_star import*"
      ],
      "metadata": {
        "id": "Y-P3migDDPc-"
      },
      "execution_count": null,
      "outputs": []
    },
    {
      "cell_type": "code",
      "source": [
        "from owl2vec_star.lib import*"
      ],
      "metadata": {
        "id": "0M1XsTUDDRcD"
      },
      "execution_count": null,
      "outputs": []
    },
    {
      "cell_type": "code",
      "source": [
        "pip install scikit-learn~=0.24.2"
      ],
      "metadata": {
        "colab": {
          "base_uri": "https://localhost:8080/"
        },
        "id": "gJnjLjyhGLIA",
        "outputId": "d5600332-6038-4f97-db81-31b8b760e4f7"
      },
      "execution_count": null,
      "outputs": [
        {
          "output_type": "stream",
          "name": "stdout",
          "text": [
            "Looking in indexes: https://pypi.org/simple, https://us-python.pkg.dev/colab-wheels/public/simple/\n",
            "Collecting scikit-learn~=0.24.2\n",
            "  Using cached https://files.pythonhosted.org/packages/05/04/507280f20fafc8bc94b41e0592938c6f4a910d0e066be7c8ff1299628f5d/scikit-learn-0.24.2.tar.gz\n",
            "  Installing build dependencies ... \u001b[?25l\u001b[?25herror\n",
            "\u001b[31mERROR: Command errored out with exit status 1: /usr/bin/python3 /usr/local/lib/python3.10/dist-packages/pip install --ignore-installed --no-user --prefix /tmp/pip-build-env-4c4ouqhe/overlay --no-warn-script-location -v --no-binary :none: --only-binary :none: -i https://pypi.org/simple --extra-index-url https://us-python.pkg.dev/colab-wheels/public/simple/ -- setuptools wheel 'Cython>=0.28.5' 'numpy==1.13.3; python_version=='\"'\"'3.6'\"'\"' and platform_machine!='\"'\"'aarch64'\"'\"' and platform_system!='\"'\"'AIX'\"'\"' and platform_python_implementation=='\"'\"'CPython'\"'\"'' 'numpy==1.14.0; python_version=='\"'\"'3.6'\"'\"' and platform_machine!='\"'\"'aarch64'\"'\"' and platform_system!='\"'\"'AIX'\"'\"' and platform_python_implementation!='\"'\"'CPython'\"'\"'' 'numpy==1.16.0; python_version=='\"'\"'3.6'\"'\"' and platform_machine!='\"'\"'aarch64'\"'\"' and platform_system=='\"'\"'AIX'\"'\"'' 'numpy==1.16.0; python_version=='\"'\"'3.7'\"'\"' and platform_machine!='\"'\"'aarch64'\"'\"' and platform_system=='\"'\"'AIX'\"'\"'' 'numpy==1.19.0; python_version=='\"'\"'3.6'\"'\"' and platform_machine=='\"'\"'aarch64'\"'\"'' 'numpy==1.19.0; python_version=='\"'\"'3.7'\"'\"' and platform_machine=='\"'\"'aarch64'\"'\"'' 'numpy==1.19.0; python_version=='\"'\"'3.8'\"'\"' and platform_machine=='\"'\"'aarch64'\"'\"'' 'numpy==1.14.5; python_version=='\"'\"'3.7'\"'\"' and platform_machine!='\"'\"'aarch64'\"'\"' and platform_system!='\"'\"'AIX'\"'\"'' 'numpy==1.17.3; python_version=='\"'\"'3.8'\"'\"' and platform_machine!='\"'\"'aarch64'\"'\"'' 'numpy==1.19.3; python_version=='\"'\"'3.9'\"'\"'' 'scipy>=0.19.1' Check the logs for full command output.\u001b[0m\n"
          ]
        }
      ]
    },
    {
      "cell_type": "markdown",
      "source": [
        "j'ai pas exectué celle du sickitlearn"
      ],
      "metadata": {
        "id": "MuELXOALKWTh"
      }
    },
    {
      "cell_type": "code",
      "source": [
        "pip install rdflib"
      ],
      "metadata": {
        "colab": {
          "base_uri": "https://localhost:8080/"
        },
        "id": "SCj6AWjjDTpB",
        "outputId": "61faa9a8-8c3a-4e11-a068-175236891a76"
      },
      "execution_count": null,
      "outputs": [
        {
          "output_type": "stream",
          "name": "stdout",
          "text": [
            "Looking in indexes: https://pypi.org/simple, https://us-python.pkg.dev/colab-wheels/public/simple/\n",
            "Requirement already satisfied: rdflib in /usr/local/lib/python3.10/dist-packages (6.3.2)\n",
            "Requirement already satisfied: isodate<0.7.0,>=0.6.0 in /usr/local/lib/python3.10/dist-packages (from rdflib) (0.6.1)\n",
            "Requirement already satisfied: pyparsing<4,>=2.1.0 in /usr/local/lib/python3.10/dist-packages (from rdflib) (2.4.7)\n",
            "Requirement already satisfied: six in /usr/local/lib/python3.10/dist-packages (from isodate<0.7.0,>=0.6.0->rdflib) (1.16.0)\n"
          ]
        }
      ]
    },
    {
      "cell_type": "code",
      "source": [
        "import gensim\n",
        "from owl2vec_star.lib.RDF2Vec_Embed import get_rdf2vec_walks\n",
        "from owl2vec_star.lib.Label import pre_process_words, URI_parse\n",
        "from owl2vec_star.lib.Onto_Projection import Reasoner, OntologyProjection"
      ],
      "metadata": {
        "id": "rAco3Y6XDVf9"
      },
      "execution_count": null,
      "outputs": []
    },
    {
      "cell_type": "code",
      "source": [
        "import nltk\n",
        "nltk.download('punkt')"
      ],
      "metadata": {
        "colab": {
          "base_uri": "https://localhost:8080/"
        },
        "id": "2ni5k9nPDYEu",
        "outputId": "f54b7322-22b6-4fab-c4b1-ae0f03de3aee"
      },
      "execution_count": null,
      "outputs": [
        {
          "output_type": "stream",
          "name": "stderr",
          "text": [
            "[nltk_data] Downloading package punkt to /root/nltk_data...\n",
            "[nltk_data]   Unzipping tokenizers/punkt.zip.\n"
          ]
        },
        {
          "output_type": "execute_result",
          "data": {
            "text/plain": [
              "True"
            ]
          },
          "metadata": {},
          "execution_count": 15
        }
      ]
    },
    {
      "cell_type": "code",
      "source": [
        "from owl2vec_star import owl2vec_star"
      ],
      "metadata": {
        "colab": {
          "base_uri": "https://localhost:8080/"
        },
        "id": "m64kkR8kDaQ8",
        "outputId": "6fb6695a-366a-4fc5-812c-2298be43b776"
      },
      "execution_count": null,
      "outputs": [
        {
          "output_type": "stream",
          "name": "stderr",
          "text": [
            "[nltk_data] Downloading package punkt to /root/nltk_data...\n",
            "[nltk_data]   Package punkt is already up-to-date!\n"
          ]
        }
      ]
    },
    {
      "cell_type": "code",
      "source": [
        "ontology_file = '/content/crop ontology to use.owl'"
      ],
      "metadata": {
        "id": "MpFt1BeHDcZI"
      },
      "execution_count": null,
      "outputs": []
    },
    {
      "cell_type": "code",
      "source": [
        "gensim_model = owl2vec_star.extract_owl2vec_model(\"/content/crop ontology to use.owl\", \"./default.cfg\", True, True, True)"
      ],
      "metadata": {
        "id": "iRvQ0iLKIxV1"
      },
      "execution_count": null,
      "outputs": []
    },
    {
      "cell_type": "code",
      "source": [
        "output_folder=\"./cache/output/\""
      ],
      "metadata": {
        "id": "LMFdjQfuI0AJ"
      },
      "execution_count": null,
      "outputs": []
    },
    {
      "cell_type": "code",
      "source": [
        "gensim_model.save(output_folder+\"First complete ontology.embeddings\")"
      ],
      "metadata": {
        "id": "NqF0siTWI2J5"
      },
      "execution_count": null,
      "outputs": []
    },
    {
      "cell_type": "code",
      "source": [
        "    #Txt format\n",
        "gensim_model.wv.save_word2vec_format(output_folder+\"First complete ontology.embeddings.txt\", binary=False)"
      ],
      "metadata": {
        "id": "nU3BuLKeI4Xh"
      },
      "execution_count": null,
      "outputs": []
    }
  ]
}